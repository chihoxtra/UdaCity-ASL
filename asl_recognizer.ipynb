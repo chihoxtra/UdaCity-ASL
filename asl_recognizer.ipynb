{
 "cells": [
  {
   "cell_type": "markdown",
   "metadata": {
    "collapsed": true,
    "deletable": true,
    "editable": true
   },
   "source": [
    "# Artificial Intelligence Engineer Nanodegree - Probabilistic Models\n",
    "## Project: Sign Language Recognition System\n",
    "- [Introduction](#intro)\n",
    "- [Part 1 Feature Selection](#part1_tutorial)\n",
    "    - [Tutorial](#part1_tutorial)\n",
    "    - [Features Submission](#part1_submission)\n",
    "    - [Features Unittest](#part1_test)\n",
    "- [Part 2 Train the models](#part2_tutorial)\n",
    "    - [Tutorial](#part2_tutorial)\n",
    "    - [Model Selection Score Submission](#part2_submission)\n",
    "    - [Model Score Unittest](#part2_test)\n",
    "- [Part 3 Build a Recognizer](#part3_tutorial)\n",
    "    - [Tutorial](#part3_tutorial)\n",
    "    - [Recognizer Submission](#part3_submission)\n",
    "    - [Recognizer Unittest](#part3_test)\n",
    "- [Part 4 (OPTIONAL) Improve the WER with Language Models](#part4_info)"
   ]
  },
  {
   "cell_type": "markdown",
   "metadata": {
    "deletable": true,
    "editable": true
   },
   "source": [
    "<a id='intro'></a>\n",
    "## Introduction\n",
    "The overall goal of this project is to build a word recognizer for American Sign Language video sequences, demonstrating the power of probabalistic models.  In particular, this project employs  [hidden Markov models (HMM's)](https://en.wikipedia.org/wiki/Hidden_Markov_model) to analyze a series of measurements taken from videos of American Sign Language (ASL) collected for research (see the [RWTH-BOSTON-104 Database](http://www-i6.informatik.rwth-aachen.de/~dreuw/database-rwth-boston-104.php)).  In this video, the right-hand x and y locations are plotted as the speaker signs the sentence.\n",
    "[![ASLR demo](http://www-i6.informatik.rwth-aachen.de/~dreuw/images/demosample.png)](https://drive.google.com/open?id=0B_5qGuFe-wbhUXRuVnNZVnMtam8)\n",
    "\n",
    "The raw data, train, and test sets are pre-defined.  You will derive a variety of feature sets (explored in Part 1), as well as implement three different model selection criterion to determine the optimal number of hidden states for each word model (explored in Part 2). Finally, in Part 3 you will implement the recognizer and compare the effects the different combinations of feature sets and model selection criteria.  \n",
    "\n",
    "At the end of each Part, complete the submission cells with implementations, answer all questions, and pass the unit tests.  Then submit the completed notebook for review!"
   ]
  },
  {
   "cell_type": "markdown",
   "metadata": {
    "deletable": true,
    "editable": true
   },
   "source": [
    "<a id='part1_tutorial'></a>\n",
    "## PART 1: Data\n",
    "\n",
    "### Features Tutorial\n",
    "##### Load the initial database\n",
    "A data handler designed for this database is provided in the student codebase as the `AslDb` class in the `asl_data` module.  This handler creates the initial [pandas](http://pandas.pydata.org/pandas-docs/stable/) dataframe from the corpus of data included in the `data` directory as well as dictionaries suitable for extracting data in a format friendly to the [hmmlearn](https://hmmlearn.readthedocs.io/en/latest/) library.  We'll use those to create models in Part 2.\n",
    "\n",
    "To start, let's set up the initial database and select an example set of features for the training set.  At the end of Part 1, you will create additional feature sets for experimentation. "
   ]
  },
  {
   "cell_type": "code",
   "execution_count": 1,
   "metadata": {
    "collapsed": false,
    "deletable": true,
    "editable": true
   },
   "outputs": [
    {
     "data": {
      "text/html": [
       "<div>\n",
       "<table border=\"1\" class=\"dataframe\">\n",
       "  <thead>\n",
       "    <tr style=\"text-align: right;\">\n",
       "      <th></th>\n",
       "      <th></th>\n",
       "      <th>left-x</th>\n",
       "      <th>left-y</th>\n",
       "      <th>right-x</th>\n",
       "      <th>right-y</th>\n",
       "      <th>nose-x</th>\n",
       "      <th>nose-y</th>\n",
       "      <th>speaker</th>\n",
       "    </tr>\n",
       "    <tr>\n",
       "      <th>video</th>\n",
       "      <th>frame</th>\n",
       "      <th></th>\n",
       "      <th></th>\n",
       "      <th></th>\n",
       "      <th></th>\n",
       "      <th></th>\n",
       "      <th></th>\n",
       "      <th></th>\n",
       "    </tr>\n",
       "  </thead>\n",
       "  <tbody>\n",
       "    <tr>\n",
       "      <th rowspan=\"5\" valign=\"top\">98</th>\n",
       "      <th>0</th>\n",
       "      <td>149</td>\n",
       "      <td>181</td>\n",
       "      <td>170</td>\n",
       "      <td>175</td>\n",
       "      <td>161</td>\n",
       "      <td>62</td>\n",
       "      <td>woman-1</td>\n",
       "    </tr>\n",
       "    <tr>\n",
       "      <th>1</th>\n",
       "      <td>149</td>\n",
       "      <td>181</td>\n",
       "      <td>170</td>\n",
       "      <td>175</td>\n",
       "      <td>161</td>\n",
       "      <td>62</td>\n",
       "      <td>woman-1</td>\n",
       "    </tr>\n",
       "    <tr>\n",
       "      <th>2</th>\n",
       "      <td>149</td>\n",
       "      <td>181</td>\n",
       "      <td>170</td>\n",
       "      <td>175</td>\n",
       "      <td>161</td>\n",
       "      <td>62</td>\n",
       "      <td>woman-1</td>\n",
       "    </tr>\n",
       "    <tr>\n",
       "      <th>3</th>\n",
       "      <td>149</td>\n",
       "      <td>181</td>\n",
       "      <td>170</td>\n",
       "      <td>175</td>\n",
       "      <td>161</td>\n",
       "      <td>62</td>\n",
       "      <td>woman-1</td>\n",
       "    </tr>\n",
       "    <tr>\n",
       "      <th>4</th>\n",
       "      <td>149</td>\n",
       "      <td>181</td>\n",
       "      <td>170</td>\n",
       "      <td>175</td>\n",
       "      <td>161</td>\n",
       "      <td>62</td>\n",
       "      <td>woman-1</td>\n",
       "    </tr>\n",
       "  </tbody>\n",
       "</table>\n",
       "</div>"
      ],
      "text/plain": [
       "             left-x  left-y  right-x  right-y  nose-x  nose-y  speaker\n",
       "video frame                                                           \n",
       "98    0         149     181      170      175     161      62  woman-1\n",
       "      1         149     181      170      175     161      62  woman-1\n",
       "      2         149     181      170      175     161      62  woman-1\n",
       "      3         149     181      170      175     161      62  woman-1\n",
       "      4         149     181      170      175     161      62  woman-1"
      ]
     },
     "execution_count": 1,
     "metadata": {},
     "output_type": "execute_result"
    }
   ],
   "source": [
    "import numpy as np\n",
    "import pandas as pd\n",
    "import copy\n",
    "from asl_data import AslDb\n",
    "\n",
    "\n",
    "asl = AslDb() # initializes the database\n",
    "asl.df.head(5) # displays the first five rows of the asl database, indexed by video and frame"
   ]
  },
  {
   "cell_type": "code",
   "execution_count": 2,
   "metadata": {
    "collapsed": false,
    "deletable": true,
    "editable": true
   },
   "outputs": [
    {
     "data": {
      "text/plain": [
       "left-x       209\n",
       "left-y       239\n",
       "right-x      162\n",
       "right-y      237\n",
       "nose-x       177\n",
       "nose-y        62\n",
       "speaker    man-1\n",
       "Name: (107, 5), dtype: object"
      ]
     },
     "execution_count": 2,
     "metadata": {},
     "output_type": "execute_result"
    }
   ],
   "source": [
    "#print(asl.df.ix[98,0])\n",
    "asl.df.ix[107,5]  # look at the data available for an individual frame"
   ]
  },
  {
   "cell_type": "markdown",
   "metadata": {
    "deletable": true,
    "editable": true
   },
   "source": [
    "The frame represented by video 98, frame 1 is shown here:\n",
    "![Video 98](http://www-i6.informatik.rwth-aachen.de/~dreuw/database/rwth-boston-104/overview/images/orig/098-start.jpg)"
   ]
  },
  {
   "cell_type": "markdown",
   "metadata": {
    "deletable": true,
    "editable": true
   },
   "source": [
    "##### Feature selection for training the model\n",
    "The objective of feature selection when training a model is to choose the most relevant variables while keeping the model as simple as possible, thus reducing training time.  We can use the raw features already provided or derive our own and add columns to the pandas dataframe `asl.df` for selection. As an example, in the next cell a feature named `'grnd-ry'` is added. This feature is the difference between the right-hand y value and the nose y value, which serves as the \"ground\" right y value. "
   ]
  },
  {
   "cell_type": "code",
   "execution_count": 3,
   "metadata": {
    "collapsed": false,
    "deletable": true,
    "editable": true
   },
   "outputs": [
    {
     "data": {
      "text/html": [
       "<div>\n",
       "<table border=\"1\" class=\"dataframe\">\n",
       "  <thead>\n",
       "    <tr style=\"text-align: right;\">\n",
       "      <th></th>\n",
       "      <th></th>\n",
       "      <th>left-x</th>\n",
       "      <th>left-y</th>\n",
       "      <th>right-x</th>\n",
       "      <th>right-y</th>\n",
       "      <th>nose-x</th>\n",
       "      <th>nose-y</th>\n",
       "      <th>speaker</th>\n",
       "      <th>grnd-ry</th>\n",
       "    </tr>\n",
       "    <tr>\n",
       "      <th>video</th>\n",
       "      <th>frame</th>\n",
       "      <th></th>\n",
       "      <th></th>\n",
       "      <th></th>\n",
       "      <th></th>\n",
       "      <th></th>\n",
       "      <th></th>\n",
       "      <th></th>\n",
       "      <th></th>\n",
       "    </tr>\n",
       "  </thead>\n",
       "  <tbody>\n",
       "    <tr>\n",
       "      <th rowspan=\"5\" valign=\"top\">98</th>\n",
       "      <th>0</th>\n",
       "      <td>149</td>\n",
       "      <td>181</td>\n",
       "      <td>170</td>\n",
       "      <td>175</td>\n",
       "      <td>161</td>\n",
       "      <td>62</td>\n",
       "      <td>woman-1</td>\n",
       "      <td>113</td>\n",
       "    </tr>\n",
       "    <tr>\n",
       "      <th>1</th>\n",
       "      <td>149</td>\n",
       "      <td>181</td>\n",
       "      <td>170</td>\n",
       "      <td>175</td>\n",
       "      <td>161</td>\n",
       "      <td>62</td>\n",
       "      <td>woman-1</td>\n",
       "      <td>113</td>\n",
       "    </tr>\n",
       "    <tr>\n",
       "      <th>2</th>\n",
       "      <td>149</td>\n",
       "      <td>181</td>\n",
       "      <td>170</td>\n",
       "      <td>175</td>\n",
       "      <td>161</td>\n",
       "      <td>62</td>\n",
       "      <td>woman-1</td>\n",
       "      <td>113</td>\n",
       "    </tr>\n",
       "    <tr>\n",
       "      <th>3</th>\n",
       "      <td>149</td>\n",
       "      <td>181</td>\n",
       "      <td>170</td>\n",
       "      <td>175</td>\n",
       "      <td>161</td>\n",
       "      <td>62</td>\n",
       "      <td>woman-1</td>\n",
       "      <td>113</td>\n",
       "    </tr>\n",
       "    <tr>\n",
       "      <th>4</th>\n",
       "      <td>149</td>\n",
       "      <td>181</td>\n",
       "      <td>170</td>\n",
       "      <td>175</td>\n",
       "      <td>161</td>\n",
       "      <td>62</td>\n",
       "      <td>woman-1</td>\n",
       "      <td>113</td>\n",
       "    </tr>\n",
       "  </tbody>\n",
       "</table>\n",
       "</div>"
      ],
      "text/plain": [
       "             left-x  left-y  right-x  right-y  nose-x  nose-y  speaker  \\\n",
       "video frame                                                              \n",
       "98    0         149     181      170      175     161      62  woman-1   \n",
       "      1         149     181      170      175     161      62  woman-1   \n",
       "      2         149     181      170      175     161      62  woman-1   \n",
       "      3         149     181      170      175     161      62  woman-1   \n",
       "      4         149     181      170      175     161      62  woman-1   \n",
       "\n",
       "             grnd-ry  \n",
       "video frame           \n",
       "98    0          113  \n",
       "      1          113  \n",
       "      2          113  \n",
       "      3          113  \n",
       "      4          113  "
      ]
     },
     "execution_count": 3,
     "metadata": {},
     "output_type": "execute_result"
    }
   ],
   "source": [
    "asl.df['grnd-ry'] = asl.df['right-y'] - asl.df['nose-y']\n",
    "asl.df.head()  # the new feature 'grnd-ry' is now in the frames dictionary"
   ]
  },
  {
   "cell_type": "markdown",
   "metadata": {
    "deletable": true,
    "editable": true
   },
   "source": [
    "##### Try it!"
   ]
  },
  {
   "cell_type": "code",
   "execution_count": 4,
   "metadata": {
    "collapsed": false,
    "deletable": true,
    "editable": true
   },
   "outputs": [
    {
     "name": "stdout",
     "output_type": "stream",
     "text": [
      "asl.df sample\n"
     ]
    },
    {
     "data": {
      "text/html": [
       "<div>\n",
       "<table border=\"1\" class=\"dataframe\">\n",
       "  <thead>\n",
       "    <tr style=\"text-align: right;\">\n",
       "      <th></th>\n",
       "      <th></th>\n",
       "      <th>left-x</th>\n",
       "      <th>left-y</th>\n",
       "      <th>right-x</th>\n",
       "      <th>right-y</th>\n",
       "      <th>nose-x</th>\n",
       "      <th>nose-y</th>\n",
       "      <th>speaker</th>\n",
       "      <th>grnd-ry</th>\n",
       "      <th>grnd-rx</th>\n",
       "      <th>grnd-ly</th>\n",
       "      <th>grnd-lx</th>\n",
       "    </tr>\n",
       "    <tr>\n",
       "      <th>video</th>\n",
       "      <th>frame</th>\n",
       "      <th></th>\n",
       "      <th></th>\n",
       "      <th></th>\n",
       "      <th></th>\n",
       "      <th></th>\n",
       "      <th></th>\n",
       "      <th></th>\n",
       "      <th></th>\n",
       "      <th></th>\n",
       "      <th></th>\n",
       "      <th></th>\n",
       "    </tr>\n",
       "  </thead>\n",
       "  <tbody>\n",
       "    <tr>\n",
       "      <th rowspan=\"5\" valign=\"top\">98</th>\n",
       "      <th>0</th>\n",
       "      <td>149</td>\n",
       "      <td>181</td>\n",
       "      <td>170</td>\n",
       "      <td>175</td>\n",
       "      <td>161</td>\n",
       "      <td>62</td>\n",
       "      <td>woman-1</td>\n",
       "      <td>113</td>\n",
       "      <td>9</td>\n",
       "      <td>119</td>\n",
       "      <td>-12</td>\n",
       "    </tr>\n",
       "    <tr>\n",
       "      <th>1</th>\n",
       "      <td>149</td>\n",
       "      <td>181</td>\n",
       "      <td>170</td>\n",
       "      <td>175</td>\n",
       "      <td>161</td>\n",
       "      <td>62</td>\n",
       "      <td>woman-1</td>\n",
       "      <td>113</td>\n",
       "      <td>9</td>\n",
       "      <td>119</td>\n",
       "      <td>-12</td>\n",
       "    </tr>\n",
       "    <tr>\n",
       "      <th>2</th>\n",
       "      <td>149</td>\n",
       "      <td>181</td>\n",
       "      <td>170</td>\n",
       "      <td>175</td>\n",
       "      <td>161</td>\n",
       "      <td>62</td>\n",
       "      <td>woman-1</td>\n",
       "      <td>113</td>\n",
       "      <td>9</td>\n",
       "      <td>119</td>\n",
       "      <td>-12</td>\n",
       "    </tr>\n",
       "    <tr>\n",
       "      <th>3</th>\n",
       "      <td>149</td>\n",
       "      <td>181</td>\n",
       "      <td>170</td>\n",
       "      <td>175</td>\n",
       "      <td>161</td>\n",
       "      <td>62</td>\n",
       "      <td>woman-1</td>\n",
       "      <td>113</td>\n",
       "      <td>9</td>\n",
       "      <td>119</td>\n",
       "      <td>-12</td>\n",
       "    </tr>\n",
       "    <tr>\n",
       "      <th>4</th>\n",
       "      <td>149</td>\n",
       "      <td>181</td>\n",
       "      <td>170</td>\n",
       "      <td>175</td>\n",
       "      <td>161</td>\n",
       "      <td>62</td>\n",
       "      <td>woman-1</td>\n",
       "      <td>113</td>\n",
       "      <td>9</td>\n",
       "      <td>119</td>\n",
       "      <td>-12</td>\n",
       "    </tr>\n",
       "  </tbody>\n",
       "</table>\n",
       "</div>"
      ],
      "text/plain": [
       "             left-x  left-y  right-x  right-y  nose-x  nose-y  speaker  \\\n",
       "video frame                                                              \n",
       "98    0         149     181      170      175     161      62  woman-1   \n",
       "      1         149     181      170      175     161      62  woman-1   \n",
       "      2         149     181      170      175     161      62  woman-1   \n",
       "      3         149     181      170      175     161      62  woman-1   \n",
       "      4         149     181      170      175     161      62  woman-1   \n",
       "\n",
       "             grnd-ry  grnd-rx  grnd-ly  grnd-lx  \n",
       "video frame                                      \n",
       "98    0          113        9      119      -12  \n",
       "      1          113        9      119      -12  \n",
       "      2          113        9      119      -12  \n",
       "      3          113        9      119      -12  \n",
       "      4          113        9      119      -12  "
      ]
     },
     "metadata": {},
     "output_type": "display_data"
    },
    {
     "data": {
      "text/html": [
       "<font color=green>Correct!</font><br/>"
      ],
      "text/plain": [
       "<IPython.core.display.HTML object>"
      ]
     },
     "execution_count": 4,
     "metadata": {},
     "output_type": "execute_result"
    }
   ],
   "source": [
    "from asl_utils import test_features_tryit\n",
    "# TODO add df columns for 'grnd-rx', 'grnd-ly', 'grnd-lx' representing differences between hand and nose locations\n",
    "asl.df['grnd-rx'] = asl.df['right-x'] - asl.df['nose-x']\n",
    "asl.df['grnd-ly'] = asl.df['left-y'] - asl.df['nose-y']\n",
    "asl.df['grnd-lx'] = asl.df['left-x'] - asl.df['nose-x']\n",
    "\n",
    "# test the code\n",
    "test_features_tryit(asl)"
   ]
  },
  {
   "cell_type": "code",
   "execution_count": 5,
   "metadata": {
    "collapsed": false,
    "deletable": true,
    "editable": true
   },
   "outputs": [
    {
     "data": {
      "text/plain": [
       "[9, 113, -12, 119]"
      ]
     },
     "execution_count": 5,
     "metadata": {},
     "output_type": "execute_result"
    }
   ],
   "source": [
    "# collect the features into a list\n",
    "features_ground = ['grnd-rx','grnd-ry','grnd-lx','grnd-ly']\n",
    " #show a single set of SELECTED features for a given (video, frame) tuple\n",
    "[asl.df.ix[98,4][v] for v in features_ground]"
   ]
  },
  {
   "cell_type": "markdown",
   "metadata": {
    "deletable": true,
    "editable": true
   },
   "source": [
    "##### Build the training set\n",
    "Now that we have a feature list defined, we can pass that list to the `build_training` method to collect the features for all the words in the training set.  Each word in the training set has multiple examples from various videos.  Below we can see the unique words that have been loaded into the training set:"
   ]
  },
  {
   "cell_type": "code",
   "execution_count": 6,
   "metadata": {
    "collapsed": false,
    "deletable": true,
    "editable": true,
    "scrolled": true
   },
   "outputs": [
    {
     "name": "stdout",
     "output_type": "stream",
     "text": [
      "Training words: ['JOHN', 'WRITE', 'HOMEWORK', 'IX-1P', 'SEE', 'YESTERDAY', 'IX', 'LOVE', 'MARY', 'CAN', 'GO', 'GO1', 'FUTURE', 'GO2', 'PARTY', 'FUTURE1', 'HIT', 'BLAME', 'FRED', 'FISH', 'WONT', 'EAT', 'BUT', 'CHICKEN', 'VEGETABLE', 'CHINA', 'PEOPLE', 'PREFER', 'BROCCOLI', 'LIKE', 'LEAVE', 'SAY', 'BUY', 'HOUSE', 'KNOW', 'CORN', 'CORN1', 'THINK', 'NOT', 'PAST', 'LIVE', 'CHICAGO', 'CAR', 'SHOULD', 'DECIDE', 'VISIT', 'MOVIE', 'WANT', 'SELL', 'TOMORROW', 'NEXT-WEEK', 'NEW-YORK', 'LAST-WEEK', 'WILL', 'FINISH', 'ANN', 'READ', 'BOOK', 'CHOCOLATE', 'FIND', 'SOMETHING-ONE', 'POSS', 'BROTHER', 'ARRIVE', 'HERE', 'GIVE', 'MAN', 'NEW', 'COAT', 'WOMAN', 'GIVE1', 'HAVE', 'FRANK', 'BREAK-DOWN', 'SEARCH-FOR', 'WHO', 'WHAT', 'LEG', 'FRIEND', 'CANDY', 'BLUE', 'SUE', 'BUY1', 'STOLEN', 'OLD', 'STUDENT', 'VIDEOTAPE', 'BORROW', 'MOTHER', 'POTATO', 'TELL', 'BILL', 'THROW', 'APPLE', 'NAME', 'SHOOT', 'SAY-1P', 'SELF', 'GROUP', 'JANA', 'TOY1', 'MANY', 'TOY', 'ALL', 'BOY', 'TEACHER', 'GIRL', 'BOX', 'GIVE2', 'GIVE3', 'GET', 'PUTASIDE']\n",
      "['__class__', '__delattr__', '__dict__', '__dir__', '__doc__', '__eq__', '__format__', '__ge__', '__getattribute__', '__gt__', '__hash__', '__init__', '__init_subclass__', '__le__', '__lt__', '__module__', '__ne__', '__new__', '__reduce__', '__reduce_ex__', '__repr__', '__setattr__', '__sizeof__', '__str__', '__subclasshook__', '__weakref__', '_data', '_hmm_data', '_load_data', 'get_all_Xlengths', 'get_all_sequences', 'get_word_Xlengths', 'get_word_sequences', 'num_items', 'words']\n"
     ]
    }
   ],
   "source": [
    "# here we are using \"features_ground\" as training features\n",
    "training = asl.build_training(features_ground)\n",
    "#train_word and test_word files have already got a format: video,speaker,word,startframe,endframe\n",
    "#build_training extract those features\n",
    "print(\"Training words: {}\".format(training.words))\n",
    "print(dir(training))"
   ]
  },
  {
   "cell_type": "markdown",
   "metadata": {
    "deletable": true,
    "editable": true
   },
   "source": [
    "The training data in `training` is an object of class `WordsData` defined in the `asl_data` module.  in addition to the `words` list, data can be accessed with the `get_all_sequences`, `get_all_Xlengths`, `get_word_sequences`, and `get_word_Xlengths` methods. We need the `get_word_Xlengths` method to train multiple sequences with the `hmmlearn` library.  In the following example, notice that there are two lists; the first is a concatenation of all the sequences(the X portion) and the second is a list of the sequence lengths(the Lengths portion)."
   ]
  },
  {
   "cell_type": "code",
   "execution_count": 7,
   "metadata": {
    "collapsed": false,
    "deletable": true,
    "editable": true
   },
   "outputs": [
    {
     "name": "stdout",
     "output_type": "stream",
     "text": [
      "\n",
      "[[-36, 46, 7, 59], [-40, 37, 7, 60], [-40, 31, 6, 64], [-40, 33, 5, 70], [-36, 29, 3, 71], [-32, 28, 3, 75], [-28, 24, 0, 78], [-25, 23, 2, 82], [-20, 21, -1, 83], [-17, 25, 0, 82], [-17, 26, -2, 79], [-12, 31, 0, 77], [-8, 36, -2, 71], [-3, 44, -2, 68], [0, 46, -1, 68], [-4, 48, -1, 73], [-2, 48, 2, 78], [-2, 51, 0, 77], [-2, 53, 1, 78], [-1, 56, -2, 77], [-2, 59, -4, 80], [-2, 63, -5, 84], [-4, 66, -5, 91], [-1, 72, -9, 98], [-1, 79, -14, 103], [1, 86, -12, 111], [3, 98, -18, 122]]\n",
      "\n",
      "[27]\n"
     ]
    }
   ],
   "source": [
    "####### TRAINING PLAY AROUND ########\n",
    "# methods available for the \"training\" OBJ: \n",
    "# 'get_all_Xlengths', 'get_all_sequences', 'get_word_Xlengths', 'get_word_sequences',\n",
    "# 'num_items' and 'words'\n",
    "#dir(training)\n",
    "d_word = 'CHOCOLATE'\n",
    "X, lengths = training.get_word_Xlengths(d_word)\n",
    "# print(X) #list of values of ground features related to that word; spread across videos\n",
    "# print(len(X)) # value of ground features of frame of word \"chocolates\" in different video clips\n",
    "# print(lengths) #spam of number of frames for a particular word\n",
    "print()\n",
    "# print(training.get_word_sequences(d_word)): basically it's all the X for a word\n",
    "# there are features_ground values of corresponding sequence of FRAMES where the word chocolates appear; for example:\n",
    "# [-11, 48, 7, 120] is values features_ground of  the occurance of \"chocolate\" in video 81 from frame 19 \n",
    "# where 19 - 35 are all sequence of frames related to the word \"chocolate\" in video 81.\n",
    "#training.words: list of words\n",
    "#training.num_items: 112\n",
    "#training.get_all_Xlengths()['JOHN']: dictionary; list of all values of features_ground of frames of that words;\n",
    "# length is the duration (number) of frames for each sample of words\n",
    "#training.get_all_sequences()['JOHN']: dictionary list of values of features_ground of frames of that words without\n",
    "# length as the second output (basically just X)\n",
    "\n",
    "#print(training.get_all_Xlengths()['JOHN'])\n",
    "#print(training.get_all_sequences()['JOHN'])\n",
    "print((training.get_all_sequences()['HOMEWORK'][0])) #total 113 frames about JOHN\n",
    "print()\n",
    "print(((training.get_all_Xlengths()['HOMEWORK'][1])))"
   ]
  },
  {
   "cell_type": "code",
   "execution_count": 8,
   "metadata": {
    "collapsed": true,
    "deletable": true,
    "editable": true
   },
   "outputs": [],
   "source": [
    "#t_restWords = copy.deepcopy(training.get_all_Xlengths())\n",
    "#for v in restWords:\n",
    "#    print(v)\n",
    "#print(len(restWords))\n",
    "#restWords.pop(\"JOHN\")\n",
    "#print(len(restWords))"
   ]
  },
  {
   "cell_type": "markdown",
   "metadata": {
    "deletable": true,
    "editable": true
   },
   "source": [
    "###### More feature sets\n",
    "So far we have a simple feature set that is enough to get started modeling.  However, we might get better results if we manipulate the raw values a bit more, so we will go ahead and set up some other options now for experimentation later.  For example, we could normalize each speaker's range of motion with grouped statistics using [Pandas stats](http://pandas.pydata.org/pandas-docs/stable/api.html#api-dataframe-stats) functions and [pandas groupby](http://pandas.pydata.org/pandas-docs/stable/generated/pandas.DataFrame.groupby.html).  Below is an example for finding the means of all speaker subgroups."
   ]
  },
  {
   "cell_type": "code",
   "execution_count": 9,
   "metadata": {
    "collapsed": false,
    "deletable": true,
    "editable": true,
    "scrolled": true
   },
   "outputs": [
    {
     "data": {
      "text/html": [
       "<div>\n",
       "<table border=\"1\" class=\"dataframe\">\n",
       "  <thead>\n",
       "    <tr style=\"text-align: right;\">\n",
       "      <th></th>\n",
       "      <th>left-x</th>\n",
       "      <th>left-y</th>\n",
       "      <th>right-x</th>\n",
       "      <th>right-y</th>\n",
       "      <th>nose-x</th>\n",
       "      <th>nose-y</th>\n",
       "      <th>grnd-ry</th>\n",
       "      <th>grnd-rx</th>\n",
       "      <th>grnd-ly</th>\n",
       "      <th>grnd-lx</th>\n",
       "    </tr>\n",
       "    <tr>\n",
       "      <th>speaker</th>\n",
       "      <th></th>\n",
       "      <th></th>\n",
       "      <th></th>\n",
       "      <th></th>\n",
       "      <th></th>\n",
       "      <th></th>\n",
       "      <th></th>\n",
       "      <th></th>\n",
       "      <th></th>\n",
       "      <th></th>\n",
       "    </tr>\n",
       "  </thead>\n",
       "  <tbody>\n",
       "    <tr>\n",
       "      <th>man-1</th>\n",
       "      <td>206.248203</td>\n",
       "      <td>218.679449</td>\n",
       "      <td>155.464350</td>\n",
       "      <td>150.371031</td>\n",
       "      <td>175.031756</td>\n",
       "      <td>61.642600</td>\n",
       "      <td>88.728430</td>\n",
       "      <td>-19.567406</td>\n",
       "      <td>157.036848</td>\n",
       "      <td>31.216447</td>\n",
       "    </tr>\n",
       "    <tr>\n",
       "      <th>woman-1</th>\n",
       "      <td>164.661438</td>\n",
       "      <td>161.271242</td>\n",
       "      <td>151.017865</td>\n",
       "      <td>117.332462</td>\n",
       "      <td>162.655120</td>\n",
       "      <td>57.245098</td>\n",
       "      <td>60.087364</td>\n",
       "      <td>-11.637255</td>\n",
       "      <td>104.026144</td>\n",
       "      <td>2.006318</td>\n",
       "    </tr>\n",
       "    <tr>\n",
       "      <th>woman-2</th>\n",
       "      <td>183.214509</td>\n",
       "      <td>176.527232</td>\n",
       "      <td>156.866295</td>\n",
       "      <td>119.835714</td>\n",
       "      <td>170.318973</td>\n",
       "      <td>58.022098</td>\n",
       "      <td>61.813616</td>\n",
       "      <td>-13.452679</td>\n",
       "      <td>118.505134</td>\n",
       "      <td>12.895536</td>\n",
       "    </tr>\n",
       "  </tbody>\n",
       "</table>\n",
       "</div>"
      ],
      "text/plain": [
       "             left-x      left-y     right-x     right-y      nose-x  \\\n",
       "speaker                                                               \n",
       "man-1    206.248203  218.679449  155.464350  150.371031  175.031756   \n",
       "woman-1  164.661438  161.271242  151.017865  117.332462  162.655120   \n",
       "woman-2  183.214509  176.527232  156.866295  119.835714  170.318973   \n",
       "\n",
       "            nose-y    grnd-ry    grnd-rx     grnd-ly    grnd-lx  \n",
       "speaker                                                          \n",
       "man-1    61.642600  88.728430 -19.567406  157.036848  31.216447  \n",
       "woman-1  57.245098  60.087364 -11.637255  104.026144   2.006318  \n",
       "woman-2  58.022098  61.813616 -13.452679  118.505134  12.895536  "
      ]
     },
     "execution_count": 9,
     "metadata": {},
     "output_type": "execute_result"
    }
   ],
   "source": [
    "df_means = asl.df.groupby('speaker').mean()\n",
    "df_means"
   ]
  },
  {
   "cell_type": "markdown",
   "metadata": {
    "deletable": true,
    "editable": true
   },
   "source": [
    "To select a mean that matches by speaker, use the pandas [map](http://pandas.pydata.org/pandas-docs/stable/generated/pandas.Series.map.html) method:"
   ]
  },
  {
   "cell_type": "code",
   "execution_count": 10,
   "metadata": {
    "collapsed": false,
    "deletable": true,
    "editable": true
   },
   "outputs": [
    {
     "data": {
      "text/html": [
       "<div>\n",
       "<table border=\"1\" class=\"dataframe\">\n",
       "  <thead>\n",
       "    <tr style=\"text-align: right;\">\n",
       "      <th></th>\n",
       "      <th></th>\n",
       "      <th>left-x</th>\n",
       "      <th>left-y</th>\n",
       "      <th>right-x</th>\n",
       "      <th>right-y</th>\n",
       "      <th>nose-x</th>\n",
       "      <th>nose-y</th>\n",
       "      <th>speaker</th>\n",
       "      <th>grnd-ry</th>\n",
       "      <th>grnd-rx</th>\n",
       "      <th>grnd-ly</th>\n",
       "      <th>grnd-lx</th>\n",
       "      <th>left-x-mean</th>\n",
       "      <th>left-y-mean</th>\n",
       "      <th>right-x-mean</th>\n",
       "      <th>right-y-mean</th>\n",
       "    </tr>\n",
       "    <tr>\n",
       "      <th>video</th>\n",
       "      <th>frame</th>\n",
       "      <th></th>\n",
       "      <th></th>\n",
       "      <th></th>\n",
       "      <th></th>\n",
       "      <th></th>\n",
       "      <th></th>\n",
       "      <th></th>\n",
       "      <th></th>\n",
       "      <th></th>\n",
       "      <th></th>\n",
       "      <th></th>\n",
       "      <th></th>\n",
       "      <th></th>\n",
       "      <th></th>\n",
       "      <th></th>\n",
       "    </tr>\n",
       "  </thead>\n",
       "  <tbody>\n",
       "    <tr>\n",
       "      <th rowspan=\"5\" valign=\"top\">98</th>\n",
       "      <th>0</th>\n",
       "      <td>149</td>\n",
       "      <td>181</td>\n",
       "      <td>170</td>\n",
       "      <td>175</td>\n",
       "      <td>161</td>\n",
       "      <td>62</td>\n",
       "      <td>woman-1</td>\n",
       "      <td>113</td>\n",
       "      <td>9</td>\n",
       "      <td>119</td>\n",
       "      <td>-12</td>\n",
       "      <td>164.661438</td>\n",
       "      <td>161.271242</td>\n",
       "      <td>151.017865</td>\n",
       "      <td>117.332462</td>\n",
       "    </tr>\n",
       "    <tr>\n",
       "      <th>1</th>\n",
       "      <td>149</td>\n",
       "      <td>181</td>\n",
       "      <td>170</td>\n",
       "      <td>175</td>\n",
       "      <td>161</td>\n",
       "      <td>62</td>\n",
       "      <td>woman-1</td>\n",
       "      <td>113</td>\n",
       "      <td>9</td>\n",
       "      <td>119</td>\n",
       "      <td>-12</td>\n",
       "      <td>164.661438</td>\n",
       "      <td>161.271242</td>\n",
       "      <td>151.017865</td>\n",
       "      <td>117.332462</td>\n",
       "    </tr>\n",
       "    <tr>\n",
       "      <th>2</th>\n",
       "      <td>149</td>\n",
       "      <td>181</td>\n",
       "      <td>170</td>\n",
       "      <td>175</td>\n",
       "      <td>161</td>\n",
       "      <td>62</td>\n",
       "      <td>woman-1</td>\n",
       "      <td>113</td>\n",
       "      <td>9</td>\n",
       "      <td>119</td>\n",
       "      <td>-12</td>\n",
       "      <td>164.661438</td>\n",
       "      <td>161.271242</td>\n",
       "      <td>151.017865</td>\n",
       "      <td>117.332462</td>\n",
       "    </tr>\n",
       "    <tr>\n",
       "      <th>3</th>\n",
       "      <td>149</td>\n",
       "      <td>181</td>\n",
       "      <td>170</td>\n",
       "      <td>175</td>\n",
       "      <td>161</td>\n",
       "      <td>62</td>\n",
       "      <td>woman-1</td>\n",
       "      <td>113</td>\n",
       "      <td>9</td>\n",
       "      <td>119</td>\n",
       "      <td>-12</td>\n",
       "      <td>164.661438</td>\n",
       "      <td>161.271242</td>\n",
       "      <td>151.017865</td>\n",
       "      <td>117.332462</td>\n",
       "    </tr>\n",
       "    <tr>\n",
       "      <th>4</th>\n",
       "      <td>149</td>\n",
       "      <td>181</td>\n",
       "      <td>170</td>\n",
       "      <td>175</td>\n",
       "      <td>161</td>\n",
       "      <td>62</td>\n",
       "      <td>woman-1</td>\n",
       "      <td>113</td>\n",
       "      <td>9</td>\n",
       "      <td>119</td>\n",
       "      <td>-12</td>\n",
       "      <td>164.661438</td>\n",
       "      <td>161.271242</td>\n",
       "      <td>151.017865</td>\n",
       "      <td>117.332462</td>\n",
       "    </tr>\n",
       "  </tbody>\n",
       "</table>\n",
       "</div>"
      ],
      "text/plain": [
       "             left-x  left-y  right-x  right-y  nose-x  nose-y  speaker  \\\n",
       "video frame                                                              \n",
       "98    0         149     181      170      175     161      62  woman-1   \n",
       "      1         149     181      170      175     161      62  woman-1   \n",
       "      2         149     181      170      175     161      62  woman-1   \n",
       "      3         149     181      170      175     161      62  woman-1   \n",
       "      4         149     181      170      175     161      62  woman-1   \n",
       "\n",
       "             grnd-ry  grnd-rx  grnd-ly  grnd-lx  left-x-mean  left-y-mean  \\\n",
       "video frame                                                                 \n",
       "98    0          113        9      119      -12   164.661438   161.271242   \n",
       "      1          113        9      119      -12   164.661438   161.271242   \n",
       "      2          113        9      119      -12   164.661438   161.271242   \n",
       "      3          113        9      119      -12   164.661438   161.271242   \n",
       "      4          113        9      119      -12   164.661438   161.271242   \n",
       "\n",
       "             right-x-mean  right-y-mean  \n",
       "video frame                              \n",
       "98    0        151.017865    117.332462  \n",
       "      1        151.017865    117.332462  \n",
       "      2        151.017865    117.332462  \n",
       "      3        151.017865    117.332462  \n",
       "      4        151.017865    117.332462  "
      ]
     },
     "execution_count": 10,
     "metadata": {},
     "output_type": "execute_result"
    }
   ],
   "source": [
    "asl.df['left-x-mean']= asl.df['speaker'].map(df_means['left-x'])\n",
    "asl.df['left-y-mean']= asl.df['speaker'].map(df_means['left-y'])\n",
    "asl.df['right-x-mean']= asl.df['speaker'].map(df_means['right-x'])\n",
    "asl.df['right-y-mean']= asl.df['speaker'].map(df_means['right-y'])\n",
    "asl.df.head()"
   ]
  },
  {
   "cell_type": "markdown",
   "metadata": {
    "deletable": true,
    "editable": true
   },
   "source": [
    "##### Try it!"
   ]
  },
  {
   "cell_type": "code",
   "execution_count": 11,
   "metadata": {
    "collapsed": false,
    "deletable": true,
    "editable": true
   },
   "outputs": [
    {
     "name": "stdout",
     "output_type": "stream",
     "text": [
      "df_std\n"
     ]
    },
    {
     "data": {
      "text/html": [
       "<div>\n",
       "<table border=\"1\" class=\"dataframe\">\n",
       "  <thead>\n",
       "    <tr style=\"text-align: right;\">\n",
       "      <th></th>\n",
       "      <th>left-x</th>\n",
       "      <th>left-y</th>\n",
       "      <th>right-x</th>\n",
       "      <th>right-y</th>\n",
       "      <th>nose-x</th>\n",
       "      <th>nose-y</th>\n",
       "      <th>grnd-ry</th>\n",
       "      <th>grnd-rx</th>\n",
       "      <th>grnd-ly</th>\n",
       "      <th>grnd-lx</th>\n",
       "      <th>left-x-mean</th>\n",
       "      <th>left-y-mean</th>\n",
       "      <th>right-x-mean</th>\n",
       "      <th>right-y-mean</th>\n",
       "    </tr>\n",
       "    <tr>\n",
       "      <th>speaker</th>\n",
       "      <th></th>\n",
       "      <th></th>\n",
       "      <th></th>\n",
       "      <th></th>\n",
       "      <th></th>\n",
       "      <th></th>\n",
       "      <th></th>\n",
       "      <th></th>\n",
       "      <th></th>\n",
       "      <th></th>\n",
       "      <th></th>\n",
       "      <th></th>\n",
       "      <th></th>\n",
       "      <th></th>\n",
       "    </tr>\n",
       "  </thead>\n",
       "  <tbody>\n",
       "    <tr>\n",
       "      <th>man-1</th>\n",
       "      <td>15.154425</td>\n",
       "      <td>36.328485</td>\n",
       "      <td>18.901917</td>\n",
       "      <td>54.902340</td>\n",
       "      <td>6.654573</td>\n",
       "      <td>5.520045</td>\n",
       "      <td>53.487999</td>\n",
       "      <td>20.269032</td>\n",
       "      <td>36.572749</td>\n",
       "      <td>15.080360</td>\n",
       "      <td>0.0</td>\n",
       "      <td>0.0</td>\n",
       "      <td>0.0</td>\n",
       "      <td>0.0</td>\n",
       "    </tr>\n",
       "    <tr>\n",
       "      <th>woman-1</th>\n",
       "      <td>17.573442</td>\n",
       "      <td>26.594521</td>\n",
       "      <td>16.459943</td>\n",
       "      <td>34.667787</td>\n",
       "      <td>3.549392</td>\n",
       "      <td>3.538330</td>\n",
       "      <td>33.972660</td>\n",
       "      <td>16.764706</td>\n",
       "      <td>27.117393</td>\n",
       "      <td>17.328941</td>\n",
       "      <td>0.0</td>\n",
       "      <td>0.0</td>\n",
       "      <td>0.0</td>\n",
       "      <td>0.0</td>\n",
       "    </tr>\n",
       "    <tr>\n",
       "      <th>woman-2</th>\n",
       "      <td>15.388711</td>\n",
       "      <td>28.825025</td>\n",
       "      <td>14.890288</td>\n",
       "      <td>39.649111</td>\n",
       "      <td>4.099760</td>\n",
       "      <td>3.416167</td>\n",
       "      <td>39.128572</td>\n",
       "      <td>16.191324</td>\n",
       "      <td>29.320655</td>\n",
       "      <td>15.050938</td>\n",
       "      <td>0.0</td>\n",
       "      <td>0.0</td>\n",
       "      <td>0.0</td>\n",
       "      <td>0.0</td>\n",
       "    </tr>\n",
       "  </tbody>\n",
       "</table>\n",
       "</div>"
      ],
      "text/plain": [
       "            left-x     left-y    right-x    right-y    nose-x    nose-y  \\\n",
       "speaker                                                                   \n",
       "man-1    15.154425  36.328485  18.901917  54.902340  6.654573  5.520045   \n",
       "woman-1  17.573442  26.594521  16.459943  34.667787  3.549392  3.538330   \n",
       "woman-2  15.388711  28.825025  14.890288  39.649111  4.099760  3.416167   \n",
       "\n",
       "           grnd-ry    grnd-rx    grnd-ly    grnd-lx  left-x-mean  left-y-mean  \\\n",
       "speaker                                                                         \n",
       "man-1    53.487999  20.269032  36.572749  15.080360          0.0          0.0   \n",
       "woman-1  33.972660  16.764706  27.117393  17.328941          0.0          0.0   \n",
       "woman-2  39.128572  16.191324  29.320655  15.050938          0.0          0.0   \n",
       "\n",
       "         right-x-mean  right-y-mean  \n",
       "speaker                              \n",
       "man-1             0.0           0.0  \n",
       "woman-1           0.0           0.0  \n",
       "woman-2           0.0           0.0  "
      ]
     },
     "metadata": {},
     "output_type": "display_data"
    },
    {
     "data": {
      "text/html": [
       "<font color=green>Correct!</font><br/>"
      ],
      "text/plain": [
       "<IPython.core.display.HTML object>"
      ]
     },
     "execution_count": 11,
     "metadata": {},
     "output_type": "execute_result"
    }
   ],
   "source": [
    "from asl_utils import test_std_tryit\n",
    "# TODO Create a dataframe named `df_std` with standard deviations grouped by speaker\n",
    "df_std = asl.df.groupby('speaker').std()\n",
    "asl.df['left-x-std'] = asl.df['speaker'].map(df_std['left-x'])\n",
    "asl.df['left-y-std'] = asl.df['speaker'].map(df_std['left-y'])\n",
    "asl.df['right-x-std'] = asl.df['speaker'].map(df_std['right-x'])\n",
    "asl.df['right-y-std'] = asl.df['speaker'].map(df_std['right-y'])\n",
    "\n",
    "# test the code\n",
    "test_std_tryit(df_std)"
   ]
  },
  {
   "cell_type": "markdown",
   "metadata": {
    "deletable": true,
    "editable": true
   },
   "source": [
    "<a id='part1_submission'></a>\n",
    "### Features Implementation Submission\n",
    "Implement four feature sets and answer the question that follows.\n",
    "- normalized Cartesian coordinates\n",
    "    - use *mean* and *standard deviation* statistics and the [standard score](https://en.wikipedia.org/wiki/Standard_score) equation to account for speakers with different heights and arm length\n",
    "    \n",
    "- polar coordinates\n",
    "    - calculate polar coordinates with [Cartesian to polar equations](https://en.wikipedia.org/wiki/Polar_coordinate_system#Converting_between_polar_and_Cartesian_coordinates)\n",
    "    - use the [np.arctan2](https://docs.scipy.org/doc/numpy-1.10.0/reference/generated/numpy.arctan2.html) function and *swap the x and y axes* to move the $0$ to $2\\pi$ discontinuity to 12 o'clock instead of 3 o'clock;  in other words, the normal break in radians value from $0$ to $2\\pi$ occurs directly to the left of the speaker's nose, which may be in the signing area and interfere with results.  By swapping the x and y axes, that discontinuity move to directly above the speaker's head, an area not generally used in signing.\n",
    "\n",
    "- delta difference\n",
    "    - as described in Thad's lecture, use the difference in values between one frame and the next frames as features\n",
    "    - pandas [diff method](http://pandas.pydata.org/pandas-docs/stable/generated/pandas.DataFrame.diff.html) and [fillna method](http://pandas.pydata.org/pandas-docs/stable/generated/pandas.DataFrame.fillna.html) will be helpful for this one\n",
    "\n",
    "- custom features\n",
    "    - These are your own design; combine techniques used above or come up with something else entirely. We look forward to seeing what you come up with! \n",
    "    Some ideas to get you started:\n",
    "        - normalize using a [feature scaling equation](https://en.wikipedia.org/wiki/Feature_scaling)\n",
    "        - normalize the polar coordinates\n",
    "        - adding additional deltas\n"
   ]
  },
  {
   "cell_type": "code",
   "execution_count": 12,
   "metadata": {
    "collapsed": true,
    "deletable": true,
    "editable": true
   },
   "outputs": [],
   "source": [
    "# TODO add features for normalized by speaker values of left, right, x, y\n",
    "# Name these 'norm-rx', 'norm-ry', 'norm-lx', and 'norm-ly'\n",
    "# using Z-score scaling (X-Xmean)/Xstd\n",
    "asl.df['norm-lx'] = (asl.df['left-x'] - asl.df['left-x-mean'])/asl.df['left-x-std'] \n",
    "asl.df['norm-ly'] = (asl.df['left-y'] - asl.df['left-y-mean'])/asl.df['left-y-std'] \n",
    "asl.df['norm-rx'] = (asl.df['right-x'] - asl.df['right-x-mean'])/asl.df['right-x-std'] \n",
    "asl.df['norm-ry'] = (asl.df['right-y'] - asl.df['right-y-mean'])/asl.df['right-y-std'] \n",
    "\n",
    "\n",
    "features_norm = ['norm-rx', 'norm-ry','norm-lx', 'norm-ly']"
   ]
  },
  {
   "cell_type": "code",
   "execution_count": 13,
   "metadata": {
    "collapsed": true,
    "deletable": true,
    "editable": true
   },
   "outputs": [],
   "source": [
    "#np.sqrt(np.square(asl.df['grnd-ry']) + np.square(asl.df['grnd-rx']))"
   ]
  },
  {
   "cell_type": "code",
   "execution_count": 14,
   "metadata": {
    "collapsed": true,
    "deletable": true,
    "editable": true
   },
   "outputs": [],
   "source": [
    "# TODO add features for polar coordinate values where the nose is the origin\n",
    "# Name these 'polar-rr', 'polar-rtheta', 'polar-lr', and 'polar-ltheta'\n",
    "# Note that 'polar-rr' and 'polar-rtheta' refer to the radius and angle\n",
    "asl.df['polar-lr'] = np.sqrt(np.square(asl.df['grnd-ly']) + np.square(asl.df['grnd-lx']))\n",
    "asl.df['polar-ltheta'] = np.arctan2(asl.df['grnd-lx'], asl.df['grnd-ly'])\n",
    "\n",
    "asl.df['polar-rr'] = np.sqrt(np.square(asl.df['grnd-ry']) + np.square(asl.df['grnd-rx']))\n",
    "asl.df['polar-rtheta'] = np.arctan2(asl.df['grnd-rx'], asl.df['grnd-ry'])\n",
    "\n",
    "features_polar = ['polar-rr', 'polar-rtheta','polar-lr', 'polar-ltheta']"
   ]
  },
  {
   "cell_type": "code",
   "execution_count": 15,
   "metadata": {
    "collapsed": true,
    "deletable": true,
    "editable": true
   },
   "outputs": [],
   "source": [
    "asl.df['polar-delta-lr'] = asl.df['polar-lr'].diff().fillna(1e-14)\n",
    "asl.df['polar-delta-ltheta'] = asl.df['polar-ltheta'].diff().fillna(1e-14)\n",
    "asl.df['polar-delta-rr'] = asl.df['polar-rr'].diff().fillna(1e-14)\n",
    "asl.df['polar-delta-rtheta'] = asl.df['polar-rtheta'].diff().fillna(1e-14) \n",
    "    \n",
    "features_polar_delta = ['polar-delta-lr', 'polar-delta-ltheta', 'polar-delta-rr', 'polar-delta-rtheta']"
   ]
  },
  {
   "cell_type": "code",
   "execution_count": 16,
   "metadata": {
    "collapsed": true,
    "deletable": true,
    "editable": true
   },
   "outputs": [],
   "source": [
    "# TODO add features for left, right, x, y differences by one time step, i.e. the \"delta\" ...\n",
    "# ... values discussed in the lecture\n",
    "# Name these 'delta-rx', 'delta-ry', 'delta-lx', and 'delta-ly'\n",
    "\n",
    "asl.df['delta-lx'] = asl.df['left-x'].diff().fillna(0)\n",
    "asl.df['delta-ly'] = asl.df['left-y'].diff().fillna(0)\n",
    "asl.df['delta-rx'] = asl.df['right-x'].diff().fillna(0)\n",
    "asl.df['delta-ry'] = asl.df['right-y'].diff().fillna(0) \n",
    "    \n",
    "features_delta = ['delta-rx', 'delta-ry', 'delta-lx', 'delta-ly']"
   ]
  },
  {
   "cell_type": "code",
   "execution_count": 17,
   "metadata": {
    "collapsed": true,
    "deletable": true,
    "editable": true
   },
   "outputs": [],
   "source": [
    "# TODO add features of your own design, which may be a combination of the above or something else\n",
    "# Name these whatever you would like\n",
    "\n",
    "# Part I: normalize scaling of polar features:\n",
    "# update the mean value as we have more derived columns now\n",
    "df_means = asl.df.groupby('speaker').mean()\n",
    "\n",
    "asl.df['polar-lr-mean']= asl.df['speaker'].map(df_means['polar-lr'])\n",
    "asl.df['polar-lr-mean-norm']= asl.df['polar-lr-mean']/(asl.df['polar-lr'].max()-asl.df['polar-lr'].min())\n",
    "\n",
    "asl.df['polar-rtheta-mean']= asl.df['speaker'].map(df_means['polar-rtheta'])\n",
    "asl.df['polar-rtheta-mean-norm']= asl.df['polar-rtheta-mean']/(asl.df['polar-rtheta'].max()-asl.df['polar-rtheta'].min())\n",
    "\n",
    "asl.df['polar-rr-mean']= asl.df['speaker'].map(df_means['polar-rr'])\n",
    "asl.df['polar-rr-mean-norm']= asl.df['polar-rr-mean']/(asl.df['polar-rr'].max()-asl.df['polar-rr'].min())\n",
    "\n",
    "asl.df['polar-ltheta-mean']= asl.df['speaker'].map(df_means['polar-ltheta'])\n",
    "asl.df['polar-ltheta-mean-norm']= asl.df['polar-ltheta-mean']/(asl.df['polar-ltheta'].max()-asl.df['polar-ltheta'].min())\n",
    "\n",
    "#asl.df['polar-lr'].max()\n",
    "\n",
    "# Part II: add new features:\n",
    "asl.df['totalDelta-l'] = asl.df['delta-lx'] + asl.df['delta-ly']\n",
    "asl.df['totalDelta-r'] = asl.df['delta-rx'] + asl.df['delta-ry']\n",
    "\n",
    "df_means = asl.df.groupby('speaker').mean()\n",
    "df_std = asl.df.groupby('speaker').std()\n",
    "\n",
    "asl.df['totalDelta-l-mean']= asl.df['speaker'].map(df_means['totalDelta-l'])\n",
    "asl.df['totalDelta-r-mean']= asl.df['speaker'].map(df_means['totalDelta-r'])\n",
    "\n",
    "asl.df['totalDelta-l-std'] = asl.df['speaker'].map(df_std['totalDelta-l'])\n",
    "asl.df['totalDelta-r-std'] = asl.df['speaker'].map(df_std['totalDelta-r'])\n",
    "\n",
    "asl.df['totalDelta-l-norm'] = (asl.df['totalDelta-l'] - asl.df['totalDelta-l-mean'])/asl.df['totalDelta-l-std']\n",
    "asl.df['totalDelta-r-norm'] = (asl.df['totalDelta-r'] - asl.df['totalDelta-r-mean'])/asl.df['totalDelta-r-std']\n",
    "\n",
    "# TODO define a list named 'features_custom' for building the training set\n",
    "features_custom1 = ['polar-lr-mean-norm', 'polar-rtheta-mean-norm','polar-rr-mean-norm','polar-ltheta-mean-norm']\n",
    "features_custom2 = ['totalDelta-l-norm','totalDelta-r-norm']\n",
    "features_custom3 = ['polar-lr-mean-norm', 'polar-rtheta','polar-rr-mean-norm','polar-ltheta']\n",
    "features_custom4 = ['delta-rx', 'delta-ry', 'delta-lx', 'delta-ly','polar-lr','polar-rr']"
   ]
  },
  {
   "cell_type": "code",
   "execution_count": 18,
   "metadata": {
    "collapsed": false,
    "deletable": true,
    "editable": true
   },
   "outputs": [
    {
     "data": {
      "text/plain": [
       "Index(['left-x', 'left-y', 'right-x', 'right-y', 'nose-x', 'nose-y', 'speaker',\n",
       "       'grnd-ry', 'grnd-rx', 'grnd-ly', 'grnd-lx', 'left-x-mean',\n",
       "       'left-y-mean', 'right-x-mean', 'right-y-mean', 'left-x-std',\n",
       "       'left-y-std', 'right-x-std', 'right-y-std', 'norm-lx', 'norm-ly',\n",
       "       'norm-rx', 'norm-ry', 'polar-lr', 'polar-ltheta', 'polar-rr',\n",
       "       'polar-rtheta', 'polar-delta-lr', 'polar-delta-ltheta',\n",
       "       'polar-delta-rr', 'polar-delta-rtheta', 'delta-lx', 'delta-ly',\n",
       "       'delta-rx', 'delta-ry', 'polar-lr-mean', 'polar-lr-mean-norm',\n",
       "       'polar-rtheta-mean', 'polar-rtheta-mean-norm', 'polar-rr-mean',\n",
       "       'polar-rr-mean-norm', 'polar-ltheta-mean', 'polar-ltheta-mean-norm',\n",
       "       'totalDelta-l', 'totalDelta-r', 'totalDelta-l-mean',\n",
       "       'totalDelta-r-mean', 'totalDelta-l-std', 'totalDelta-r-std',\n",
       "       'totalDelta-l-norm', 'totalDelta-r-norm'],\n",
       "      dtype='object')"
      ]
     },
     "execution_count": 18,
     "metadata": {},
     "output_type": "execute_result"
    }
   ],
   "source": [
    "asl.df.head().columns"
   ]
  },
  {
   "cell_type": "markdown",
   "metadata": {
    "deletable": true,
    "editable": true
   },
   "source": [
    "**Question 1:**  What custom features did you choose for the features_custom set and why?\n",
    "\n",
    "**Answer 1:**\n",
    "The first part is to use feature scaling to rescale the polar features created. This could hopefully reduce the error introduced by difference in scale of different features.\n",
    "\n",
    "The second part is a new feature by adding the delta of x and delta of y together. We know already from the lecture that deltaX is a better choice than deltaY. But even with just deltaY a model can be trained to identify sign language. Hence both deltaX and deltaY carry information about that could assist the recognition of sign language. Combining these 2 variables could potentially allow us to access information from these 2 variables through one single variable."
   ]
  },
  {
   "cell_type": "markdown",
   "metadata": {
    "deletable": true,
    "editable": true
   },
   "source": [
    "<a id='part1_test'></a>\n",
    "### Features Unit Testing\n",
    "Run the following unit tests as a sanity check on the defined \"ground\", \"norm\", \"polar\", and 'delta\"\n",
    "feature sets.  The test simply looks for some valid values but is not exhaustive.  However, the project should not be submitted if these tests don't pass."
   ]
  },
  {
   "cell_type": "code",
   "execution_count": 19,
   "metadata": {
    "collapsed": false,
    "deletable": true,
    "editable": true
   },
   "outputs": [
    {
     "name": "stderr",
     "output_type": "stream",
     "text": [
      "....\n",
      "----------------------------------------------------------------------\n",
      "Ran 4 tests in 0.032s\n",
      "\n",
      "OK\n"
     ]
    },
    {
     "data": {
      "text/plain": [
       "<unittest.runner.TextTestResult run=4 errors=0 failures=0>"
      ]
     },
     "execution_count": 19,
     "metadata": {},
     "output_type": "execute_result"
    }
   ],
   "source": [
    "import unittest\n",
    "# import numpy as np\n",
    "\n",
    "class TestFeatures(unittest.TestCase):\n",
    "\n",
    "    def test_features_ground(self):\n",
    "        sample = (asl.df.ix[98, 1][features_ground]).tolist()\n",
    "        self.assertEqual(sample, [9, 113, -12, 119])\n",
    "\n",
    "    def test_features_norm(self):\n",
    "        sample = (asl.df.ix[98, 1][features_norm]).tolist()\n",
    "        np.testing.assert_almost_equal(sample, [ 1.153,  1.663, -0.891,  0.742], 3)\n",
    "\n",
    "    def test_features_polar(self):\n",
    "        sample = (asl.df.ix[98,1][features_polar]).tolist()\n",
    "        np.testing.assert_almost_equal(sample, [113.3578, 0.0794, 119.603, -0.1005], 3)\n",
    "\n",
    "    def test_features_delta(self):\n",
    "        sample = (asl.df.ix[98, 0][features_delta]).tolist()\n",
    "        self.assertEqual(sample, [0, 0, 0, 0])\n",
    "        sample = (asl.df.ix[98, 18][features_delta]).tolist()\n",
    "        self.assertTrue(sample in [[-16, -5, -2, 4], [-14, -9, 0, 0]], \"Sample value found was {}\".format(sample))\n",
    "                         \n",
    "suite = unittest.TestLoader().loadTestsFromModule(TestFeatures())\n",
    "unittest.TextTestRunner().run(suite)"
   ]
  },
  {
   "cell_type": "markdown",
   "metadata": {
    "collapsed": true,
    "deletable": true,
    "editable": true
   },
   "source": [
    "<a id='part2_tutorial'></a>\n",
    "## PART 2: Model Selection\n",
    "### Model Selection Tutorial\n",
    "The objective of Model Selection is to tune the number of states for each word HMM prior to testing on unseen data.  In this section you will explore three methods: \n",
    "- Log likelihood using cross-validation folds (CV)\n",
    "- Bayesian Information Criterion (BIC)\n",
    "- Discriminative Information Criterion (DIC) "
   ]
  },
  {
   "cell_type": "markdown",
   "metadata": {
    "deletable": true,
    "editable": true
   },
   "source": [
    "##### Train a single word\n",
    "Now that we have built a training set with sequence data, we can \"train\" models for each word.  As a simple starting example, we train a single word using Gaussian hidden Markov models (HMM).   By using the `fit` method during training, the [Baum-Welch Expectation-Maximization](https://en.wikipedia.org/wiki/Baum%E2%80%93Welch_algorithm) (EM) algorithm is invoked iteratively to find the best estimate for the model *for the number of hidden states specified* from a group of sample seequences. For this example, we *assume* the correct number of hidden states is 3, but that is just a guess.  How do we know what the \"best\" number of states for training is?  We will need to find some model selection technique to choose the best parameter."
   ]
  },
  {
   "cell_type": "code",
   "execution_count": 20,
   "metadata": {
    "collapsed": false,
    "deletable": true,
    "editable": true
   },
   "outputs": [
    {
     "name": "stdout",
     "output_type": "stream",
     "text": [
      "Number of states trained in model for HOMEWORK is 5\n",
      "logL = -80.96552304136762\n"
     ]
    }
   ],
   "source": [
    "import warnings\n",
    "from hmmlearn.hmm import GaussianHMM\n",
    "\n",
    "warnings.filterwarnings('ignore')\n",
    "\n",
    "def train_a_word(word, num_hidden_states, features):\n",
    "    \n",
    "    warnings.filterwarnings(\"ignore\", category=DeprecationWarning)\n",
    "    training = asl.build_training(features)  \n",
    "    X, lengths = training.get_word_Xlengths(word)\n",
    "    model = GaussianHMM(n_components=num_hidden_states, n_iter=1000).fit(X, lengths) #fit: iterative\n",
    "    logL = model.score(X, lengths)\n",
    "    return model, logL\n",
    "\n",
    "demoword = 'HOMEWORK'\n",
    "model, logL = train_a_word(demoword, 5, features_polar) #features_custom\n",
    "#model, logL = train_a_word(demoword, 3, features_custom)\n",
    "print(\"Number of states trained in model for {} is {}\".format(demoword, model.n_components))\n",
    "print(\"logL = {}\".format(logL))\n",
    "#n = 3 logL = -663; n = 20: logL= -191"
   ]
  },
  {
   "cell_type": "markdown",
   "metadata": {
    "deletable": true,
    "editable": true
   },
   "source": [
    "The HMM model has been trained and information can be pulled from the model, including means and variances for each feature and hidden state.  The [log likelihood](http://math.stackexchange.com/questions/892832/why-we-consider-log-likelihood-instead-of-likelihood-in-gaussian-distribution) for any individual sample or group of samples can also be calculated with the `score` method."
   ]
  },
  {
   "cell_type": "code",
   "execution_count": 21,
   "metadata": {
    "collapsed": false,
    "deletable": true,
    "editable": true
   },
   "outputs": [
    {
     "name": "stdout",
     "output_type": "stream",
     "text": [
      "Number of states trained in model for HOMEWORK is 5\n",
      "hidden state #0\n",
      "mean =  [ 50.70051299  -0.83755841  66.7163006    0.08027154]\n",
      "variance =  [  2.70054647e+01   8.49951391e-03   3.32164099e+01   2.67947843e-03]\n",
      "\n",
      "hidden state #1\n",
      "mean =  [  8.69351436e+01   8.72378797e-03   1.12274672e+02  -1.27916490e-01]\n",
      "variance =  [  7.01195046e+01   3.49855138e-03   7.00942185e+01   3.49356308e-03]\n",
      "\n",
      "hidden state #2\n",
      "mean =  [  3.30598226e+01  -6.02594393e-01   7.88604599e+01  -5.75973472e-03]\n",
      "variance =  [  8.56083260e+00   5.07610455e-02   1.46659582e+01   1.70661663e-03]\n",
      "\n",
      "hidden state #3\n",
      "mean =  [  5.03106365e+01  -4.04850402e-02   7.46725369e+01  -1.02377828e-02]\n",
      "variance =  [  2.06389744e+01   1.93033289e-03   1.88477576e+01   1.77755480e-03]\n",
      "\n",
      "hidden state #4\n",
      "mean =  [  6.59635626e+01  -3.62301278e-02   8.97064510e+01  -6.55662395e-02]\n",
      "variance =  [  1.76784209e+01   3.46131651e-03   4.05093750e+01   3.39244937e-03]\n",
      "\n"
     ]
    }
   ],
   "source": [
    "def show_model_stats(word, model):\n",
    "    print(\"Number of states trained in model for {} is {}\".format(word, model.n_components))    \n",
    "    variance=np.array([np.diag(model.covars_[i]) for i in range(model.n_components)])    \n",
    "    for i in range(model.n_components):  # for each hidden state\n",
    "        print(\"hidden state #{}\".format(i))\n",
    "        print(\"mean = \", model.means_[i])\n",
    "        print(\"variance = \", variance[i])\n",
    "        print()\n",
    "    \n",
    "show_model_stats(demoword, model)"
   ]
  },
  {
   "cell_type": "markdown",
   "metadata": {
    "deletable": true,
    "editable": true
   },
   "source": [
    "##### Try it!\n",
    "Experiment by changing the feature set, word, and/or num_hidden_states values in the next cell to see changes in values.  "
   ]
  },
  {
   "cell_type": "code",
   "execution_count": 22,
   "metadata": {
    "collapsed": false,
    "deletable": true,
    "editable": true
   },
   "outputs": [
    {
     "name": "stdout",
     "output_type": "stream",
     "text": [
      "Number of states trained in model for HOMEWORK is 4\n",
      "hidden state #0\n",
      "mean =  [-1.75703417 -0.00612201  2.77643509  0.0867039 ]\n",
      "variance =  [  3.78636158e+00   1.60018480e-03   3.15853930e+00   7.03210493e-03]\n",
      "\n",
      "hidden state #1\n",
      "mean =  [  4.44538547e+00   2.38547663e-03   2.26049283e+00  -1.50641698e-02]\n",
      "variance =  [ 0.99567478  0.00298085  2.23617287  0.00444539]\n",
      "\n",
      "hidden state #2\n",
      "mean =  [ 2.50763229 -0.01421841 -3.13414874 -0.0319883 ]\n",
      "variance =  [  4.18409615e+00   1.50565727e-03   6.14249829e+00   8.85924031e-03]\n",
      "\n",
      "hidden state #3\n",
      "mean =  [ 7.79275321 -0.01822756  7.11584066  0.01410636]\n",
      "variance =  [  4.58686807e+00   2.84650931e-03   8.07866905e+00   2.62193958e-03]\n",
      "\n",
      "logL = -32.630819746834206\n"
     ]
    }
   ],
   "source": [
    "#my_testword = 'BOOK'\n",
    "my_testword = 'HOMEWORK'\n",
    "model, logL = train_a_word(my_testword, 4, features_polar_delta) # features_polar_delta\n",
    "show_model_stats(my_testword, model)\n",
    "print(\"logL = {}\".format(logL))\n",
    "#features_norm 'BOOK' 2 logL = -258.4535818619689\n",
    "#features_norm 'BOOK' 3 logL = -130.71089221940207\n",
    "#features_norm 'BOOK' 4 logL = -16.68677023386519\n",
    "#features_norm 'BOOK' 5 logL = 66.43193997618243\n",
    "#features_norm 'BOOK' 6 logL = 87.5373149037784\n",
    "#features_norm 'BOOK' 7 logL = 137.3849462554619\n",
    "\n",
    "#features_norm 'CHOCOLATE' 2 logL = -12.24148077728365\n",
    "#features_norm 'CHOCOLATE' 3 logL = 22.651977224475267\n",
    "#features_norm 'CHOCOLATE' 4 logL = 85.72111948347717\n",
    "#features_norm 'CHOCOLATE' 5 logL = 103.40377777857125\n",
    "#features_norm 'CHOCOLATE' 6 logL = 121.87304943997314\n",
    "#features_norm 'CHOCOLATE' 7 logL = 175.03106955314013\n",
    "\n",
    "#features_delta 'CHOCOLATE' 3 -256.56151832675334\n",
    "#features_delta 'CHOCOLATE' 3 -59.11265717009594}"
   ]
  },
  {
   "cell_type": "markdown",
   "metadata": {
    "deletable": true,
    "editable": true
   },
   "source": [
    "##### Visualize the hidden states\n",
    "We can plot the means and variances for each state and feature.  Try varying the number of states trained for the HMM model and examine the variances.  Are there some models that are \"better\" than others?  How can you tell?  We would like to hear what you think in the classroom online."
   ]
  },
  {
   "cell_type": "code",
   "execution_count": 23,
   "metadata": {
    "collapsed": true,
    "deletable": true,
    "editable": true
   },
   "outputs": [],
   "source": [
    "%matplotlib inline"
   ]
  },
  {
   "cell_type": "code",
   "execution_count": 24,
   "metadata": {
    "collapsed": false,
    "deletable": true,
    "editable": true
   },
   "outputs": [
    {
     "data": {
      "image/png": "[encoded data removed]",
      "text/plain": [
       "<matplotlib.figure.Figure at 0x1126ca828>"
      ]
     },
     "metadata": {},
     "output_type": "display_data"
    },
    {
     "data": {
      "image/png": "[encoded data removed]",
      "text/plain": [
       "<matplotlib.figure.Figure at 0x11286ff28>"
      ]
     },
     "metadata": {},
     "output_type": "display_data"
    },
    {
     "data": {
      "image/png": "[encoded data removed]",
      "text/plain": [
       "<matplotlib.figure.Figure at 0x112a29b70>"
      ]
     },
     "metadata": {},
     "output_type": "display_data"
    },
    {
     "data": {
      "image/png": "[encoded data removed]",
      "text/plain": [
       "<matplotlib.figure.Figure at 0x10eab2208>"
      ]
     },
     "metadata": {},
     "output_type": "display_data"
    }
   ],
   "source": [
    "import math\n",
    "from matplotlib import (cm, pyplot as plt, mlab)\n",
    "\n",
    "def visualize(word, model):\n",
    "    \"\"\" visualize the input model for a particular word \"\"\"\n",
    "    variance=np.array([np.diag(model.covars_[i]) for i in range(model.n_components)])\n",
    "    figures = []\n",
    "    for parm_idx in range(len(model.means_[0])):\n",
    "        xmin = int(min(model.means_[:,parm_idx]) - max(variance[:,parm_idx]))\n",
    "        xmax = int(max(model.means_[:,parm_idx]) + max(variance[:,parm_idx]))\n",
    "        fig, axs = plt.subplots(model.n_components, sharex=True, sharey=False)\n",
    "        colours = cm.rainbow(np.linspace(0, 1, model.n_components))\n",
    "        for i, (ax, colour) in enumerate(zip(axs, colours)):\n",
    "            x = np.linspace(xmin, xmax, 100)\n",
    "            mu = model.means_[i,parm_idx]\n",
    "            sigma = math.sqrt(np.diag(model.covars_[i])[parm_idx])\n",
    "            ax.plot(x, mlab.normpdf(x, mu, sigma), c=colour)\n",
    "            ax.set_title(\"{} feature {} hidden state #{}\".format(word, parm_idx, i))\n",
    "\n",
    "            ax.grid(True)\n",
    "        figures.append(plt)\n",
    "    for p in figures:\n",
    "        p.show()\n",
    "        \n",
    "visualize(my_testword, model)"
   ]
  },
  {
   "cell_type": "markdown",
   "metadata": {
    "deletable": true,
    "editable": true
   },
   "source": [
    "#####  ModelSelector class\n",
    "Review the `ModelSelector` class from the codebase found in the `my_model_selectors.py` module.  It is designed to be a strategy pattern for choosing different model selectors.  For the project submission in this section, subclass `SelectorModel` to implement the following model selectors.  In other words, you will write your own classes/functions in the `my_model_selectors.py` module and run them from this notebook:\n",
    "\n",
    "- `SelectorCV `:  Log likelihood with CV\n",
    "- `SelectorBIC`: BIC \n",
    "- `SelectorDIC`: DIC\n",
    "\n",
    "You will train each word in the training set with a range of values for the number of hidden states, and then score these alternatives with the model selector, choosing the \"best\" according to each strategy. The simple case of training with a constant value for `n_components` can be called using the provided `SelectorConstant` subclass as follow:"
   ]
  },
  {
   "cell_type": "code",
   "execution_count": 25,
   "metadata": {
    "collapsed": false,
    "deletable": true,
    "editable": true
   },
   "outputs": [
    {
     "name": "stdout",
     "output_type": "stream",
     "text": [
      "Number of states trained in model for VEGETABLE is 3\n"
     ]
    }
   ],
   "source": [
    "from my_model_selectors import SelectorConstant\n",
    "\n",
    "training = asl.build_training(features_ground)  # Experiment here with different feature sets defined in part 1\n",
    "word = 'VEGETABLE' # Experiment here with different words # training.words gets all the words\n",
    "model = SelectorConstant(training.get_all_sequences(), training.get_all_Xlengths(), word, n_constant=3).select()\n",
    "print(\"Number of states trained in model for {} is {}\".format(word, model.n_components))"
   ]
  },
  {
   "cell_type": "markdown",
   "metadata": {
    "deletable": true,
    "editable": true
   },
   "source": [
    "##### Cross-validation folds\n",
    "If we simply score the model with the Log Likelihood calculated from the feature sequences it has been trained on, we should expect that more complex models will have higher likelihoods. However, that doesn't tell us which would have a better likelihood score on unseen data.  The model will likely be overfit as complexity is added.  To estimate which topology model is better using only the training data, we can compare scores using cross-validation.  One technique for cross-validation is to break the training set into \"folds\" and rotate which fold is left out of training.  The \"left out\" fold scored.  This gives us a proxy method of finding the best model to use on \"unseen data\". In the following example, a set of word sequences is broken into three folds using the [scikit-learn Kfold](http://scikit-learn.org/stable/modules/generated/sklearn.model_selection.KFold.html) class object. When you implement `SelectorCV`, you will use this technique."
   ]
  },
  {
   "cell_type": "code",
   "execution_count": 26,
   "metadata": {
    "collapsed": false,
    "deletable": true,
    "editable": true
   },
   "outputs": [
    {
     "name": "stdout",
     "output_type": "stream",
     "text": [
      "5\n",
      "Train fold indices:[2 3 4] Test fold indices:[0 1]\n",
      "Train fold indices:[0 1 4] Test fold indices:[2 3]\n",
      "Train fold indices:[0 1 2 3] Test fold indices:[4]\n"
     ]
    }
   ],
   "source": [
    "from sklearn.model_selection import KFold\n",
    "\n",
    "training = asl.build_training(features_ground) # Experiment here with different feature sets\n",
    "word = 'EAT' # Experiment here with different words\n",
    "word_sequences = training.get_word_sequences(word)\n",
    "print(len(word_sequences))\n",
    "split_method = KFold()\n",
    "for cv_train_idx, cv_test_idx in split_method.split(word_sequences):\n",
    "    print(\"Train fold indices:{} Test fold indices:{}\".format(cv_train_idx, cv_test_idx))  # view indices of the folds"
   ]
  },
  {
   "cell_type": "code",
   "execution_count": 27,
   "metadata": {
    "collapsed": false,
    "deletable": true,
    "editable": true
   },
   "outputs": [
    {
     "name": "stdout",
     "output_type": "stream",
     "text": [
      "36\n",
      "[11, 4, 11, 10]\n",
      "[[-20, 51, 32, 88], [-20, 42, 31, 89], [-20, 42, 27, 89], [-19, 38, 27, 89]]\n"
     ]
    }
   ],
   "source": [
    "from asl_utils import combine_sequences\n",
    "\n",
    "for cv_train_idx, cv_test_idx in split_method.split(word_sequences):\n",
    "    combined_seq_X, grouping_Length = combine_sequences(cv_train_idx, word_sequences)\n",
    "\n",
    "#split_method.split(word_sequences)\n",
    "print(len(combined_seq_X))\n",
    "print(grouping_Length)\n",
    "print(word_sequences[1])"
   ]
  },
  {
   "cell_type": "markdown",
   "metadata": {
    "deletable": true,
    "editable": true
   },
   "source": [
    "**Tip:** In order to run `hmmlearn` training using the X,lengths tuples on the new folds, subsets must be combined based on the indices given for the folds.  A helper utility has been provided in the `asl_utils` module named `combine_sequences` for this purpose."
   ]
  },
  {
   "cell_type": "markdown",
   "metadata": {
    "deletable": true,
    "editable": true
   },
   "source": [
    "##### Scoring models with other criterion\n",
    "Scoring model topologies with **BIC** balances fit and complexity within the training set for each word.  In the BIC equation, a penalty term penalizes complexity to avoid overfitting, so that it is not necessary to also use cross-validation in the selection process.  There are a number of references on the internet for this criterion.  These [slides](http://www2.imm.dtu.dk/courses/02433/doc/ch6_slides.pdf) include a formula you may find helpful for your implementation.\n",
    "\n",
    "The advantages of scoring model topologies with **DIC** over BIC are presented by Alain Biem in this [reference](http://citeseerx.ist.psu.edu/viewdoc/download?doi=10.1.1.58.6208&rep=rep1&type=pdf) (also found [here](https://pdfs.semanticscholar.org/ed3d/7c4a5f607201f3848d4c02dd9ba17c791fc2.pdf)).  DIC scores the discriminant ability of a training set for one word against competing words.  Instead of a penalty term for complexity, it provides a penalty if model liklihoods for non-matching words are too similar to model likelihoods for the correct word in the word set."
   ]
  },
  {
   "cell_type": "markdown",
   "metadata": {
    "deletable": true,
    "editable": true
   },
   "source": [
    "<a id='part2_submission'></a>\n",
    "### Model Selection Implementation Submission\n",
    "Implement `SelectorCV`, `SelectorBIC`, and `SelectorDIC` classes in the `my_model_selectors.py` module.  Run the selectors on the following five words. Then answer the questions about your results.\n",
    "\n",
    "**Tip:** The `hmmlearn` library may not be able to train or score all models.  Implement try/except contructs as necessary to eliminate non-viable models from consideration."
   ]
  },
  {
   "cell_type": "code",
   "execution_count": 28,
   "metadata": {
    "collapsed": true,
    "deletable": true,
    "editable": true
   },
   "outputs": [],
   "source": [
    "words_to_train = ['FISH', 'BOOK', 'VEGETABLE', 'FUTURE', 'JOHN', 'HOMEWORK']\n",
    "import timeit"
   ]
  },
  {
   "cell_type": "code",
   "execution_count": 29,
   "metadata": {
    "collapsed": false,
    "deletable": true,
    "editable": true
   },
   "outputs": [],
   "source": [
    "# autoreload for automatically reloading changes made in my_model_selectors and my_recognizer\n",
    "%load_ext autoreload\n",
    "%autoreload 2"
   ]
  },
  {
   "cell_type": "code",
   "execution_count": 30,
   "metadata": {
    "collapsed": false,
    "deletable": true,
    "editable": true
   },
   "outputs": [
    {
     "name": "stdout",
     "output_type": "stream",
     "text": [
      "Training complete for FISH with 5 states with time 0.23748363833874464 seconds\n",
      "Training complete for BOOK with 5 states with time 2.5772476461715996 seconds\n",
      "Training complete for VEGETABLE with 2 states with time 1.0230987151153386 seconds\n",
      "Training complete for FUTURE with 2 states with time 2.753534364979714 seconds\n",
      "Training complete for JOHN with 7 states with time 23.27265905868262 seconds\n",
      "Training complete for HOMEWORK with 9 states with time 0.24969411082565784 seconds\n"
     ]
    }
   ],
   "source": [
    "# TODO: Implement SelectorCV in my_model_selector.py\n",
    "from my_model_selectors import SelectorCV\n",
    "\n",
    "training = asl.build_training(features_ground)  # Experiment here with different feature sets defined in part 1\n",
    "sequences = training.get_all_sequences()\n",
    "Xlengths = training.get_all_Xlengths()\n",
    "for word in words_to_train:\n",
    "    start = timeit.default_timer()\n",
    "    model = SelectorCV(sequences, Xlengths, word).select()\n",
    "    end = timeit.default_timer()-start\n",
    "    if model is not None:\n",
    "        print(\"Training complete for {} with {} states with time {} seconds\".format(word, model.n_components, end))\n",
    "    else:\n",
    "        print(\"Training failed for {}\".format(word))"
   ]
  },
  {
   "cell_type": "code",
   "execution_count": 31,
   "metadata": {
    "collapsed": false,
    "deletable": true,
    "editable": true
   },
   "outputs": [
    {
     "name": "stdout",
     "output_type": "stream",
     "text": [
      "Null Model Found! FISH\n",
      "Training complete for FISH with 10 states with time 0.034062480088323355 seconds\n",
      "Null Model Found! BOOK\n",
      "Training complete for BOOK with 10 states with time 0.18310172436758876 seconds\n",
      "Null Model Found! VEGETABLE\n",
      "Training complete for VEGETABLE with 10 states with time 0.089744389988482 seconds\n",
      "Null Model Found! FUTURE\n",
      "Training complete for FUTURE with 10 states with time 0.33133657509461045 seconds\n",
      "Null Model Found! JOHN\n",
      "Training complete for JOHN with 10 states with time 1.693230092059821 seconds\n",
      "Null Model Found! HOMEWORK\n",
      "Training complete for HOMEWORK with 10 states with time 0.03823898592963815 seconds\n"
     ]
    }
   ],
   "source": [
    "# TODO: Implement SelectorBIC in module my_model_selectors.py\n",
    "from my_model_selectors import SelectorBIC\n",
    "\n",
    "training = asl.build_training(features_ground)  # Experiment here with different feature sets defined in part 1\n",
    "sequences = training.get_all_sequences()\n",
    "Xlengths = training.get_all_Xlengths()\n",
    "for word in words_to_train:\n",
    "    start = timeit.default_timer()\n",
    "    model = SelectorBIC(sequences, Xlengths, word).select()\n",
    "    end = timeit.default_timer()-start\n",
    "    if model is not None:\n",
    "        print(\"Training complete for {} with {} states with time {} seconds\".format(word, model.n_components, end))\n",
    "    else:\n",
    "        print(\"Training failed for {}\".format(word))"
   ]
  },
  {
   "cell_type": "code",
   "execution_count": 32,
   "metadata": {
    "collapsed": false,
    "deletable": true,
    "editable": true
   },
   "outputs": [
    {
     "name": "stdout",
     "output_type": "stream",
     "text": [
      "Training complete for FISH with 3 states with time 1.1636578720062971 seconds\n",
      "Training complete for BOOK with 8 states with time 2.7027664119377732 seconds\n",
      "Training complete for VEGETABLE with 10 states with time 1.9713397906161845 seconds\n",
      "Training complete for FUTURE with 10 states with time 2.7106000827625394 seconds\n",
      "Training complete for JOHN with 10 states with time 13.406952614896 seconds\n",
      "Training complete for HOMEWORK with 8 states with time 1.5704083070158958 seconds\n"
     ]
    }
   ],
   "source": [
    "# TODO: Implement SelectorDIC in module my_model_selectors.py\n",
    "from my_model_selectors import SelectorDIC\n",
    "\n",
    "training = asl.build_training(features_ground)  # Experiment here with different feature sets defined in part 1\n",
    "sequences = training.get_all_sequences()\n",
    "Xlengths = training.get_all_Xlengths()\n",
    "for word in words_to_train:\n",
    "    start = timeit.default_timer()\n",
    "    model = SelectorDIC(sequences, Xlengths, word).select()\n",
    "    end = timeit.default_timer()-start\n",
    "    if model is not None:\n",
    "        print(\"Training complete for {} with {} states with time {} seconds\".format(word, model.n_components, end))\n",
    "    else:\n",
    "        print(\"Training failed for {}\".format(word))"
   ]
  },
  {
   "cell_type": "code",
   "execution_count": 33,
   "metadata": {
    "collapsed": false,
    "deletable": true,
    "editable": true
   },
   "outputs": [
    {
     "name": "stdout",
     "output_type": "stream",
     "text": [
      "Training complete for FISH with 3 states with time 1.828197262249887 seconds\n",
      "Training complete for BOOK with 10 states with time 4.435523606836796 seconds\n",
      "Training complete for VEGETABLE with 8 states with time 2.504363519139588 seconds\n",
      "Training complete for FUTURE with 8 states with time 3.1332501913420856 seconds\n",
      "Training complete for JOHN with 10 states with time 22.869274217169732 seconds\n",
      "Training complete for HOMEWORK with 4 states with time 1.2706919689662755 seconds\n"
     ]
    }
   ],
   "source": [
    "# TODO: Implement SelectorDIC in module my_model_selectors.py\n",
    "from my_model_selectors import SelectorDIC\n",
    "\n",
    "training = asl.build_training(features_polar_delta)  # Experiment here with different feature sets defined in part 1\n",
    "sequences = training.get_all_sequences()\n",
    "Xlengths = training.get_all_Xlengths()\n",
    "for word in words_to_train:\n",
    "    start = timeit.default_timer()\n",
    "    model = SelectorDIC(sequences, Xlengths, word).select()\n",
    "    end = timeit.default_timer()-start\n",
    "    if model is not None:\n",
    "        print(\"Training complete for {} with {} states with time {} seconds\".format(word, model.n_components, end))\n",
    "    else:\n",
    "        print(\"Training failed for {}\".format(word))"
   ]
  },
  {
   "cell_type": "markdown",
   "metadata": {
    "deletable": true,
    "editable": true
   },
   "source": [
    "**Question 2:**  Compare and contrast the possible advantages and disadvantages of the various model selectors implemented.\n",
    "\n",
    "**Answer 2:**<BR>\n",
    "For the features \"features_ground\" chosen, SelectorCV tends to choose a more complicated (higher number of states). This might potentially make the training and prediction slower to run. The function of Kfold inside SelectorCV attempts to reduce overfitting by separating training and test sets. However for those words with fewer samples or shorter sequence, doing Kfold might hurt the training itself as there is already not enough samples/data to support the training.\n",
    "<P>\n",
    "SelectorBIC seems to be the fastest to run among these 3 selectors. Instead of using Kfold, BIC directly penalize the performance of a selector by second term p * log(N) where p is the of free parameters which in turns depends on number of states. Hence, as we can see in the suggested number of states for \"features_ground\" is much fewer than that made by SelectorCV\n",
    ".<P>\n",
    "SelectorDIC attempts to solve overfitting by encouraging a model that works not just for one particular word under training but also performs not too badly for other words. The training time hence depends also on number of total words we have and hence could be slow. Also it does not address the number of parameters issue and hence result model tend to be more complicated (all of the 5 words resulted in 15 states).\n"
   ]
  },
  {
   "cell_type": "markdown",
   "metadata": {
    "deletable": true,
    "editable": true
   },
   "source": [
    "<a id='part2_test'></a>\n",
    "### Model Selector Unit Testing\n",
    "Run the following unit tests as a sanity check on the implemented model selectors.  The test simply looks for valid interfaces  but is not exhaustive. However, the project should not be submitted if these tests don't pass."
   ]
  },
  {
   "cell_type": "code",
   "execution_count": 34,
   "metadata": {
    "collapsed": false,
    "deletable": true,
    "editable": true
   },
   "outputs": [
    {
     "name": "stderr",
     "output_type": "stream",
     "text": [
      "."
     ]
    },
    {
     "name": "stdout",
     "output_type": "stream",
     "text": [
      "Null Model Found! FRANK\n",
      "Null Model Found! VEGETABLE\n"
     ]
    },
    {
     "name": "stderr",
     "output_type": "stream",
     "text": [
      "...\n",
      "----------------------------------------------------------------------\n",
      "Ran 4 tests in 80.443s\n",
      "\n",
      "OK\n"
     ]
    },
    {
     "data": {
      "text/plain": [
       "<unittest.runner.TextTestResult run=4 errors=0 failures=0>"
      ]
     },
     "execution_count": 34,
     "metadata": {},
     "output_type": "execute_result"
    }
   ],
   "source": [
    "from asl_test_model_selectors import TestSelectors\n",
    "suite = unittest.TestLoader().loadTestsFromModule(TestSelectors())\n",
    "unittest.TextTestRunner().run(suite)"
   ]
  },
  {
   "cell_type": "markdown",
   "metadata": {
    "deletable": true,
    "editable": true
   },
   "source": [
    "<a id='part3_tutorial'></a>\n",
    "## PART 3: Recognizer\n",
    "The objective of this section is to \"put it all together\".  Using the four feature sets created and the three model selectors, you will experiment with the models and present your results.  Instead of training only five specific words as in the previous section, train the entire set with a feature set and model selector strategy.  \n",
    "### Recognizer Tutorial\n",
    "##### Train the full training set\n",
    "The following example trains the entire set with the example `features_ground` and `SelectorConstant` features and model selector.  Use this pattern for you experimentation and final submission cells.\n",
    "\n"
   ]
  },
  {
   "cell_type": "code",
   "execution_count": 35,
   "metadata": {
    "collapsed": true,
    "deletable": true,
    "editable": true
   },
   "outputs": [],
   "source": [
    "from my_model_selectors import SelectorConstant\n",
    "\n",
    "def train_all_words(features, model_selector, max_n = 12):\n",
    "    training = asl.build_training(features)  # Experiment here with different feature sets defined in part 1\n",
    "    sequences = training.get_all_sequences()\n",
    "    Xlengths = training.get_all_Xlengths()\n",
    "    model_dict = {}\n",
    "    for word in training.words:\n",
    "        model = model_selector(sequences, Xlengths, word, min_n_components=2, max_n_components=max_n).select()\n",
    "        model_dict[word]=model\n",
    "    return model_dict"
   ]
  },
  {
   "cell_type": "code",
   "execution_count": 36,
   "metadata": {
    "collapsed": false,
    "deletable": true,
    "editable": true
   },
   "outputs": [
    {
     "name": "stdout",
     "output_type": "stream",
     "text": [
      "Null Model Found! FIND\n",
      "Null Model Found! SAY-1P\n",
      "Number of word models returned = 112\n"
     ]
    }
   ],
   "source": [
    "models = train_all_words(features_polar, SelectorDIC)\n",
    "print(\"Number of word models returned = {}\".format(len(models)))"
   ]
  },
  {
   "cell_type": "markdown",
   "metadata": {
    "deletable": true,
    "editable": true
   },
   "source": [
    "##### Load the test set\n",
    "The `build_test` method in `ASLdb` is similar to the `build_training` method already presented, but there are a few differences:\n",
    "- the object is type `SinglesData` \n",
    "- the internal dictionary keys are the index of the test word rather than the word itself\n",
    "- the getter methods are `get_all_sequences`, `get_all_Xlengths`, `get_item_sequences` and `get_item_Xlengths`"
   ]
  },
  {
   "cell_type": "code",
   "execution_count": 37,
   "metadata": {
    "collapsed": false,
    "deletable": true,
    "editable": true
   },
   "outputs": [
    {
     "name": "stdout",
     "output_type": "stream",
     "text": [
      "Number of test set items: 178\n",
      "Number of test set sentences: 40\n"
     ]
    }
   ],
   "source": [
    "test_set = asl.build_test(features_polar)\n",
    "print(\"Number of test set items: {}\".format(test_set.num_items))\n",
    "print(\"Number of test set sentences: {}\".format(len(test_set.sentences_index)))"
   ]
  },
  {
   "cell_type": "markdown",
   "metadata": {
    "deletable": true,
    "editable": true
   },
   "source": [
    "<a id='part3_submission'></a>\n",
    "### Recognizer Implementation Submission\n",
    "For the final project submission, students must implement a recognizer following guidance in the `my_recognizer.py` module.  Experiment with the four feature sets and the three model selection methods (that's 12 possible combinations). You can add and remove cells for experimentation or run the recognizers locally in some other way during your experiments, but retain the results for your discussion.  For submission, you will provide code cells of **only three** interesting combinations for your discussion (see questions below). At least one of these should produce a word error rate of less than 60%, i.e. WER < 0.60 . \n",
    "\n",
    "**Tip:** The hmmlearn library may not be able to train or score all models.  Implement try/except contructs as necessary to eliminate non-viable models from consideration."
   ]
  },
  {
   "cell_type": "code",
   "execution_count": 38,
   "metadata": {
    "collapsed": true,
    "deletable": true,
    "editable": true
   },
   "outputs": [],
   "source": [
    "# TODO implement the recognize method in my_recognizer\n",
    "from my_recognizer import recognize\n",
    "from asl_utils import show_errors\n",
    "from my_model_selectors import SelectorCV, SelectorBIC, SelectorDIC"
   ]
  },
  {
   "cell_type": "code",
   "execution_count": 39,
   "metadata": {
    "collapsed": false,
    "deletable": true,
    "editable": true
   },
   "outputs": [
    {
     "name": "stdout",
     "output_type": "stream",
     "text": [
      "Null Model Found! FIND\n",
      "Null Model Found! SAY-1P\n",
      "\n",
      "Results for: <class 'my_model_selectors.SelectorDIC'> ['polar-rr', 'polar-rtheta', 'polar-lr', 'polar-ltheta'] 10\n",
      "\n",
      "**** WER = 0.5280898876404494\n",
      "\n",
      "Null Model Found! FIND\n",
      "Null Model Found! SAY-1P\n",
      "\n",
      "Results for: <class 'my_model_selectors.SelectorDIC'> ['polar-rr', 'polar-rtheta', 'polar-lr', 'polar-ltheta'] 11\n",
      "\n",
      "**** WER = 0.5393258426966292\n",
      "\n",
      "Null Model Found! FIND\n",
      "Null Model Found! SAY-1P\n",
      "\n",
      "Results for: <class 'my_model_selectors.SelectorDIC'> ['polar-rr', 'polar-rtheta', 'polar-lr', 'polar-ltheta'] 12\n",
      "\n",
      "**** WER = 0.5056179775280899\n",
      "\n",
      "Null Model Found! FIND\n",
      "Null Model Found! SAY-1P\n",
      "\n",
      "Results for: <class 'my_model_selectors.SelectorDIC'> ['polar-rr', 'polar-rtheta', 'polar-lr', 'polar-ltheta'] 13\n",
      "\n",
      "**** WER = 0.5224719101123596\n",
      "\n",
      "Null Model Found! FIND\n",
      "Null Model Found! SAY-1P\n",
      "\n",
      "Results for: <class 'my_model_selectors.SelectorDIC'> ['polar-rr', 'polar-rtheta', 'polar-lr', 'polar-ltheta'] 14\n",
      "\n",
      "**** WER = 0.5280898876404494\n",
      "\n",
      "Null Model Found! FIND\n",
      "Null Model Found! SAY-1P\n",
      "\n",
      "Results for: <class 'my_model_selectors.SelectorDIC'> ['polar-rr', 'polar-rtheta', 'polar-lr', 'polar-ltheta'] 15\n",
      "\n",
      "**** WER = 0.5280898876404494\n",
      "\n",
      "Null Model Found! FIND\n",
      "Null Model Found! SAY-1P\n",
      "\n",
      "Results for: <class 'my_model_selectors.SelectorDIC'> ['polar-rr', 'polar-rtheta', 'polar-lr', 'polar-ltheta'] 16\n",
      "\n",
      "**** WER = 0.5449438202247191\n",
      "\n",
      "Null Model Found! ANN\n",
      "Null Model Found! LEG\n",
      "Null Model Found! SAY-1P\n",
      "\n",
      "Results for: <class 'my_model_selectors.SelectorDIC'> ['polar-delta-lr', 'polar-delta-ltheta', 'polar-delta-rr', 'polar-delta-rtheta'] 10\n",
      "\n",
      "**** WER = 0.5730337078651685\n",
      "\n",
      "Null Model Found! ANN\n",
      "Null Model Found! LEG\n",
      "Null Model Found! SAY-1P\n",
      "\n",
      "Results for: <class 'my_model_selectors.SelectorDIC'> ['polar-delta-lr', 'polar-delta-ltheta', 'polar-delta-rr', 'polar-delta-rtheta'] 11\n",
      "\n",
      "**** WER = 0.6123595505617978\n",
      "\n",
      "Null Model Found! ANN\n",
      "Null Model Found! LEG\n",
      "Null Model Found! SAY-1P\n",
      "\n",
      "Results for: <class 'my_model_selectors.SelectorDIC'> ['polar-delta-lr', 'polar-delta-ltheta', 'polar-delta-rr', 'polar-delta-rtheta'] 12\n",
      "\n",
      "**** WER = 0.601123595505618\n",
      "\n",
      "Null Model Found! ANN\n",
      "Null Model Found! LEG\n",
      "Null Model Found! SAY-1P\n",
      "\n",
      "Results for: <class 'my_model_selectors.SelectorDIC'> ['polar-delta-lr', 'polar-delta-ltheta', 'polar-delta-rr', 'polar-delta-rtheta'] 13\n",
      "\n",
      "**** WER = 0.6179775280898876\n",
      "\n",
      "Null Model Found! ANN\n",
      "Null Model Found! LEG\n",
      "Null Model Found! SAY-1P\n",
      "\n",
      "Results for: <class 'my_model_selectors.SelectorDIC'> ['polar-delta-lr', 'polar-delta-ltheta', 'polar-delta-rr', 'polar-delta-rtheta'] 14\n",
      "\n",
      "**** WER = 0.5955056179775281\n",
      "\n",
      "Null Model Found! ANN\n",
      "Null Model Found! LEG\n",
      "Null Model Found! SAY-1P\n",
      "\n",
      "Results for: <class 'my_model_selectors.SelectorDIC'> ['polar-delta-lr', 'polar-delta-ltheta', 'polar-delta-rr', 'polar-delta-rtheta'] 15\n",
      "\n",
      "**** WER = 0.6235955056179775\n",
      "\n",
      "Null Model Found! ANN\n",
      "Null Model Found! LEG\n",
      "Null Model Found! SAY-1P\n",
      "\n",
      "Results for: <class 'my_model_selectors.SelectorDIC'> ['polar-delta-lr', 'polar-delta-ltheta', 'polar-delta-rr', 'polar-delta-rtheta'] 16\n",
      "\n",
      "**** WER = 0.601123595505618\n",
      "\n",
      "Best features ['polar-rr', 'polar-rtheta', 'polar-lr', 'polar-ltheta'] with selector <class 'my_model_selectors.SelectorDIC'> and  n 12 resulting in  WER: 0.5056179775280899.\n",
      "\n"
     ]
    }
   ],
   "source": [
    "# TODO Choose a feature set and model selector and optimal max n component\n",
    "featuresList = [features_polar, features_polar_delta] #features_polar_delta\n",
    "#[features_ground, features_norm, features_polar, features_delta, features_polar_delta]\n",
    "modelSelectorList = [SelectorDIC]\n",
    "#[SelectorCV, SelectorBIC, SelectorDIC]\n",
    "max_n_list = [10,11,12,13,14,15,16]\n",
    "bestModelSelector = None\n",
    "bestFeature = None\n",
    "bestMaxN = 0\n",
    "lowestWERUniGram = 100.0\n",
    "\n",
    "for ms in modelSelectorList:\n",
    "    for f in featuresList:\n",
    "        for mn in max_n_list:\n",
    "            models_cand = train_all_words(f, ms, mn)\n",
    "            test_set = asl.build_test(f)\n",
    "            probabilities, guesses = recognize(models_cand, test_set)\n",
    "            print(\"\")\n",
    "            print(\"Results for: {} {} {}\".format(ms, f, mn))\n",
    "\n",
    "            this_WER = show_errors(guesses, test_set, show_answer=False)\n",
    "            if this_WER < lowestWERUniGram: # the lower the WER the better\n",
    "                lowestWERUniGram = this_WER\n",
    "                bestModelSelector = ms\n",
    "                bestFeature = f\n",
    "                bestMaxN = mn\n",
    "\n",
    "print(\"Best features {} with selector {} and  n {} resulting in  WER: {}.\".format(bestFeature, bestModelSelector, \n",
    "                                                                    bestMaxN, lowestWERUniGram))\n",
    "print(\"\")\n",
    "        \n",
    "####################################################"
   ]
  },
  {
   "cell_type": "code",
   "execution_count": 79,
   "metadata": {
    "collapsed": false
   },
   "outputs": [
    {
     "name": "stdout",
     "output_type": "stream",
     "text": [
      "Null Model Found! FIND\n",
      "Null Model Found! SAY-1P\n",
      "\n",
      "Results for: <class 'my_model_selectors.SelectorCV'> ['polar-rr', 'polar-rtheta', 'polar-lr', 'polar-ltheta'] 12\n",
      "\n",
      "**** WER = 0.651685393258427\n",
      "\n",
      "Null Model Found! ANN\n",
      "Null Model Found! LEG\n",
      "Null Model Found! SAY-1P\n",
      "\n",
      "Results for: <class 'my_model_selectors.SelectorCV'> ['polar-delta-lr', 'polar-delta-ltheta', 'polar-delta-rr', 'polar-delta-rtheta'] 12\n",
      "\n",
      "**** WER = 0.601123595505618\n",
      "\n",
      "Null Model Found! JOHN\n",
      "Null Model Found! WRITE\n",
      "Null Model Found! HOMEWORK\n",
      "Null Model Found! IX-1P\n",
      "Null Model Found! SEE\n",
      "Null Model Found! YESTERDAY\n",
      "Null Model Found! IX\n",
      "Null Model Found! LOVE\n",
      "Null Model Found! MARY\n",
      "Null Model Found! CAN\n",
      "Null Model Found! GO\n",
      "Null Model Found! GO1\n",
      "Null Model Found! FUTURE\n",
      "Null Model Found! GO2\n",
      "Null Model Found! PARTY\n",
      "Null Model Found! FUTURE1\n",
      "Null Model Found! HIT\n",
      "Null Model Found! BLAME\n",
      "Null Model Found! FRED\n",
      "Null Model Found! FISH\n",
      "Null Model Found! WONT\n",
      "Null Model Found! EAT\n",
      "Null Model Found! BUT\n",
      "Null Model Found! CHICKEN\n",
      "Null Model Found! VEGETABLE\n",
      "Null Model Found! CHINA\n",
      "Null Model Found! PEOPLE\n",
      "Null Model Found! PREFER\n",
      "Null Model Found! BROCCOLI\n",
      "Null Model Found! LIKE\n",
      "Null Model Found! LEAVE\n",
      "Null Model Found! SAY\n",
      "Null Model Found! BUY\n",
      "Null Model Found! HOUSE\n",
      "Null Model Found! KNOW\n",
      "Null Model Found! CORN\n",
      "Null Model Found! CORN1\n",
      "Null Model Found! THINK\n",
      "Null Model Found! NOT\n",
      "Null Model Found! PAST\n",
      "Null Model Found! LIVE\n",
      "Null Model Found! CHICAGO\n",
      "Null Model Found! CAR\n",
      "Null Model Found! SHOULD\n",
      "Null Model Found! DECIDE\n",
      "Null Model Found! VISIT\n",
      "Null Model Found! MOVIE\n",
      "Null Model Found! WANT\n",
      "Null Model Found! SELL\n",
      "Null Model Found! TOMORROW\n",
      "Null Model Found! NEXT-WEEK\n",
      "Null Model Found! NEW-YORK\n",
      "Null Model Found! LAST-WEEK\n",
      "Null Model Found! WILL\n",
      "Null Model Found! FINISH\n",
      "Null Model Found! ANN\n",
      "Null Model Found! READ\n",
      "Null Model Found! BOOK\n",
      "Null Model Found! CHOCOLATE\n",
      "Null Model Found! FIND\n",
      "Null Model Found! SOMETHING-ONE\n",
      "Null Model Found! POSS\n",
      "Null Model Found! BROTHER\n",
      "Null Model Found! ARRIVE\n",
      "Null Model Found! HERE\n",
      "Null Model Found! GIVE\n",
      "Null Model Found! MAN\n",
      "Null Model Found! NEW\n",
      "Null Model Found! COAT\n",
      "Null Model Found! WOMAN\n",
      "Null Model Found! GIVE1\n",
      "Null Model Found! HAVE\n",
      "Null Model Found! FRANK\n",
      "Null Model Found! BREAK-DOWN\n",
      "Null Model Found! SEARCH-FOR\n",
      "Null Model Found! WHO\n",
      "Null Model Found! WHAT\n",
      "Null Model Found! LEG\n",
      "Null Model Found! FRIEND\n",
      "Null Model Found! CANDY\n",
      "Null Model Found! BLUE\n",
      "Null Model Found! SUE\n",
      "Null Model Found! BUY1\n",
      "Null Model Found! STOLEN\n",
      "Null Model Found! OLD\n",
      "Null Model Found! STUDENT\n",
      "Null Model Found! VIDEOTAPE\n",
      "Null Model Found! BORROW\n",
      "Null Model Found! MOTHER\n",
      "Null Model Found! POTATO\n",
      "Null Model Found! TELL\n",
      "Null Model Found! BILL\n",
      "Null Model Found! THROW\n",
      "Null Model Found! APPLE\n",
      "Null Model Found! NAME\n",
      "Null Model Found! SHOOT\n",
      "Null Model Found! SAY-1P\n",
      "Null Model Found! SELF\n",
      "Null Model Found! GROUP\n",
      "Null Model Found! JANA\n",
      "Null Model Found! TOY1\n",
      "Null Model Found! MANY\n",
      "Null Model Found! TOY\n",
      "Null Model Found! ALL\n",
      "Null Model Found! BOY\n",
      "Null Model Found! TEACHER\n",
      "Null Model Found! GIRL\n",
      "Null Model Found! BOX\n",
      "Null Model Found! GIVE2\n",
      "Null Model Found! GIVE3\n",
      "Null Model Found! GET\n",
      "Null Model Found! PUTASIDE\n",
      "\n",
      "Results for: <class 'my_model_selectors.SelectorBIC'> ['polar-rr', 'polar-rtheta', 'polar-lr', 'polar-ltheta'] 12\n",
      "\n",
      "**** WER = 0.5449438202247191\n",
      "\n",
      "Null Model Found! JOHN\n",
      "Null Model Found! WRITE\n",
      "Null Model Found! HOMEWORK\n",
      "Null Model Found! IX-1P\n",
      "Null Model Found! SEE\n",
      "Null Model Found! YESTERDAY\n",
      "Null Model Found! IX\n",
      "Null Model Found! LOVE\n",
      "Null Model Found! MARY\n",
      "Null Model Found! CAN\n",
      "Null Model Found! GO\n",
      "Null Model Found! GO1\n",
      "Null Model Found! FUTURE\n",
      "Null Model Found! GO2\n",
      "Null Model Found! PARTY\n",
      "Null Model Found! FUTURE1\n",
      "Null Model Found! HIT\n",
      "Null Model Found! BLAME\n",
      "Null Model Found! FRED\n",
      "Null Model Found! FISH\n",
      "Null Model Found! WONT\n",
      "Null Model Found! EAT\n",
      "Null Model Found! BUT\n",
      "Null Model Found! CHICKEN\n",
      "Null Model Found! VEGETABLE\n",
      "Null Model Found! CHINA\n",
      "Null Model Found! PEOPLE\n",
      "Null Model Found! PREFER\n",
      "Null Model Found! BROCCOLI\n",
      "Null Model Found! LIKE\n",
      "Null Model Found! LEAVE\n",
      "Null Model Found! SAY\n",
      "Null Model Found! BUY\n",
      "Null Model Found! HOUSE\n",
      "Null Model Found! KNOW\n",
      "Null Model Found! CORN\n",
      "Null Model Found! CORN1\n",
      "Null Model Found! THINK\n",
      "Null Model Found! NOT\n",
      "Null Model Found! PAST\n",
      "Null Model Found! LIVE\n",
      "Null Model Found! CHICAGO\n",
      "Null Model Found! CAR\n",
      "Null Model Found! SHOULD\n",
      "Null Model Found! DECIDE\n",
      "Null Model Found! VISIT\n",
      "Null Model Found! MOVIE\n",
      "Null Model Found! WANT\n",
      "Null Model Found! SELL\n",
      "Null Model Found! TOMORROW\n",
      "Null Model Found! NEXT-WEEK\n",
      "Null Model Found! NEW-YORK\n",
      "Null Model Found! LAST-WEEK\n",
      "Null Model Found! WILL\n",
      "Null Model Found! FINISH\n",
      "Null Model Found! ANN\n",
      "Null Model Found! READ\n",
      "Null Model Found! BOOK\n",
      "Null Model Found! CHOCOLATE\n",
      "Null Model Found! FIND\n",
      "Null Model Found! SOMETHING-ONE\n",
      "Null Model Found! POSS\n",
      "Null Model Found! BROTHER\n",
      "Null Model Found! ARRIVE\n",
      "Null Model Found! HERE\n",
      "Null Model Found! GIVE\n",
      "Null Model Found! MAN\n",
      "Null Model Found! NEW\n",
      "Null Model Found! COAT\n",
      "Null Model Found! WOMAN\n",
      "Null Model Found! GIVE1\n",
      "Null Model Found! HAVE\n",
      "Null Model Found! FRANK\n",
      "Null Model Found! BREAK-DOWN\n",
      "Null Model Found! SEARCH-FOR\n",
      "Null Model Found! WHO\n",
      "Null Model Found! WHAT\n",
      "Null Model Found! LEG\n",
      "Null Model Found! FRIEND\n",
      "Null Model Found! CANDY\n",
      "Null Model Found! BLUE\n",
      "Null Model Found! SUE\n",
      "Null Model Found! BUY1\n",
      "Null Model Found! STOLEN\n",
      "Null Model Found! OLD\n",
      "Null Model Found! STUDENT\n",
      "Null Model Found! VIDEOTAPE\n",
      "Null Model Found! BORROW\n",
      "Null Model Found! MOTHER\n",
      "Null Model Found! POTATO\n",
      "Null Model Found! TELL\n",
      "Null Model Found! BILL\n",
      "Null Model Found! THROW\n",
      "Null Model Found! APPLE\n",
      "Null Model Found! NAME\n",
      "Null Model Found! SHOOT\n",
      "Null Model Found! SAY-1P\n",
      "Null Model Found! SELF\n",
      "Null Model Found! GROUP\n",
      "Null Model Found! JANA\n",
      "Null Model Found! TOY1\n",
      "Null Model Found! MANY\n",
      "Null Model Found! TOY\n",
      "Null Model Found! ALL\n",
      "Null Model Found! BOY\n",
      "Null Model Found! TEACHER\n",
      "Null Model Found! GIRL\n",
      "Null Model Found! BOX\n",
      "Null Model Found! GIVE2\n",
      "Null Model Found! GIVE3\n",
      "Null Model Found! GET\n",
      "Null Model Found! PUTASIDE\n",
      "\n",
      "Results for: <class 'my_model_selectors.SelectorBIC'> ['polar-delta-lr', 'polar-delta-ltheta', 'polar-delta-rr', 'polar-delta-rtheta'] 12\n",
      "\n",
      "**** WER = 0.6179775280898876\n",
      "\n",
      "Null Model Found! FIND\n",
      "Null Model Found! SAY-1P\n",
      "\n",
      "Results for: <class 'my_model_selectors.SelectorDIC'> ['polar-rr', 'polar-rtheta', 'polar-lr', 'polar-ltheta'] 12\n",
      "\n",
      "**** WER = 0.5168539325842697\n",
      "\n",
      "Null Model Found! ANN\n",
      "Null Model Found! LEG\n",
      "Null Model Found! SAY-1P\n",
      "\n",
      "Results for: <class 'my_model_selectors.SelectorDIC'> ['polar-delta-lr', 'polar-delta-ltheta', 'polar-delta-rr', 'polar-delta-rtheta'] 12\n",
      "\n",
      "**** WER = 0.5898876404494382\n",
      "\n",
      "Best features ['polar-rr', 'polar-rtheta', 'polar-lr', 'polar-ltheta'] with selector <class 'my_model_selectors.SelectorDIC'> and  n 12 resulting in  WER: 0.5168539325842697.\n",
      "\n"
     ]
    }
   ],
   "source": [
    "# TODO Choose a feature set and model selector and optimal max n component\n",
    "featuresList = [features_polar, features_polar_delta] #features_polar_delta\n",
    "#[features_ground, features_norm, features_polar, features_delta, features_polar_delta]\n",
    "modelSelectorList = [SelectorCV, SelectorBIC, SelectorDIC]\n",
    "max_n_list = [bestMaxN]\n",
    "bestModelSelector = None\n",
    "bestFeature = None\n",
    "bestMaxN = 0\n",
    "lowestWERUniGram = 100.0\n",
    "\n",
    "for ms in modelSelectorList:\n",
    "    for f in featuresList:\n",
    "        for mn in max_n_list:\n",
    "            models_cand = train_all_words(f, ms, mn)\n",
    "            test_set = asl.build_test(f)\n",
    "            probabilities, guesses = recognize(models_cand, test_set)\n",
    "            print(\"\")\n",
    "            print(\"Results for: {} {} {}\".format(ms, f, mn))\n",
    "\n",
    "            this_WER = show_errors(guesses, test_set, show_answer=False)\n",
    "            if this_WER < lowestWERUniGram: # the lower the WER the better\n",
    "                lowestWERUniGram = this_WER\n",
    "                bestModelSelector = ms\n",
    "                bestFeature = f\n",
    "                bestMaxN = mn\n",
    "\n",
    "print(\"Best features {} with selector {} and  n {} resulting in  WER: {}.\".format(bestFeature, bestModelSelector, \n",
    "                                                                    bestMaxN, lowestWERUniGram))\n",
    "print(\"\")\n",
    "        \n",
    "####################################################"
   ]
  },
  {
   "cell_type": "markdown",
   "metadata": {
    "deletable": true,
    "editable": true
   },
   "source": [
    "**Question 3:**  Summarize the error results from three combinations of features and model selectors.  What was the \"best\" combination and why?  What additional information might we use to improve our WER?  For more insight on improving WER, take a look at the introduction to Part 4.\n",
    "\n",
    "**Answer 3:**\n",
    "<TABLE border=1 width=50%>\n",
    "<TR><TD>Feature</TD><TD>Selector</TD><TD>WER</TD></TR>\n",
    "<TR><TD>features_polar</TD><TD>SelectorCV</TD><TD>0.6516</TD></TR>\n",
    "<TR><TD>features_polar_delta</TD><TD>SelectorCV</TD><TD>0.6011</TD></TR>\n",
    "<TR><TD>features_polar</TD><TD>SelectorBIC</TD><TD>0.5449</TD></TR>\n",
    "<TR><TD>features_polar_delta</TD><TD>SelectorBIC</TD><TD>0.6179</TD></TR>\n",
    "<TR bgcolor=\"#7FFFD4\"><TD>features_polar</TD><TD>SelectorDIC</TD><TD>0.5168</TD></TR>\n",
    "<TR><TD>features_polar_delta</TD><TD>SelectorDIC</TD><TD>0.5898</TD></TR>\n",
    "</TABLE><P>\n",
    "\n",
    "Among all selectors, it seems that SelectorDIC, while takes a longer time to train, come up with the highest accuracy. It scored the highest on \"features_polar\" and \"features_polar_delta\". \n",
    "<P>\n",
    "Regarding the custom features, the first attempt was to normalize both polar coordinates and the angles. But since angles has already got a limited range, normalizing it did not improve accuracy. By just normalizing the coordinates using witha combination or unnormalized angles, we got a better result even they are less satisfactory compared to other features.\n",
    "<P>\n",
    "Possible improvements:\n",
    "<UL>\n",
    "<LI>Possibly mix and match some of the components of different selector. For example, we might want to try applying Kfold to BIC as BIC's selector involves only samples of one word and it could be possible to apply Kfold.\n",
    "<LI>Collect more data as some words have very limited samples.\n",
    "<LI>Possibly consider increasing the max limits of number of states. While SelectorBIC tends to choose the more complicated model, it is however the best performing in terms of accuracy. Currently it seems that it is limited by the maximum number of states allowed.\n",
    "<LI>Consider training on combination of words like SUBJECT + VERB OR VERB + OBJECT as connecting words might affect the ASL guestures of one another\n",
    "</UL>"
   ]
  },
  {
   "cell_type": "markdown",
   "metadata": {
    "deletable": true,
    "editable": true
   },
   "source": [
    "<a id='part3_test'></a>\n",
    "### Recognizer Unit Tests\n",
    "Run the following unit tests as a sanity check on the defined recognizer.  The test simply looks for some valid values but is not exhaustive. However, the project should not be submitted if these tests don't pass."
   ]
  },
  {
   "cell_type": "code",
   "execution_count": 44,
   "metadata": {
    "collapsed": false,
    "deletable": true,
    "editable": true
   },
   "outputs": [
    {
     "name": "stderr",
     "output_type": "stream",
     "text": [
      "..\n",
      "----------------------------------------------------------------------\n",
      "Ran 2 tests in 41.537s\n",
      "\n",
      "OK\n"
     ]
    },
    {
     "data": {
      "text/plain": [
       "<unittest.runner.TextTestResult run=2 errors=0 failures=0>"
      ]
     },
     "execution_count": 44,
     "metadata": {},
     "output_type": "execute_result"
    }
   ],
   "source": [
    "from asl_test_recognizer import TestRecognize\n",
    "suite = unittest.TestLoader().loadTestsFromModule(TestRecognize())\n",
    "unittest.TextTestRunner().run(suite)"
   ]
  },
  {
   "cell_type": "code",
   "execution_count": 45,
   "metadata": {
    "collapsed": true,
    "deletable": true,
    "editable": true
   },
   "outputs": [],
   "source": [
    "########################################## EXPERIMENT STARTS BELOW ############################################"
   ]
  },
  {
   "cell_type": "code",
   "execution_count": 46,
   "metadata": {
    "collapsed": false,
    "deletable": true,
    "editable": true
   },
   "outputs": [
    {
     "data": {
      "text/plain": [
       "(my_model_selectors.SelectorDIC,\n",
       " ['polar-rr', 'polar-rtheta', 'polar-lr', 'polar-ltheta'],\n",
       " 12)"
      ]
     },
     "execution_count": 46,
     "metadata": {},
     "output_type": "execute_result"
    }
   ],
   "source": [
    "bestModelSelector, bestFeature, bestMaxN"
   ]
  },
  {
   "cell_type": "code",
   "execution_count": 50,
   "metadata": {
    "collapsed": false,
    "deletable": true,
    "editable": true
   },
   "outputs": [
    {
     "name": "stdout",
     "output_type": "stream",
     "text": [
      "Null Model Found! FIND\n",
      "Null Model Found! SAY-1P\n",
      "\n",
      "Results for: <class 'my_model_selectors.SelectorDIC'> ['polar-rr', 'polar-rtheta', 'polar-lr', 'polar-ltheta'] 12\n",
      "\n",
      "**** WER = 0.5\n",
      "\n",
      "Total correct: 89 out of 178\n",
      "Video  Recognized                                                    Correct\n",
      "=====================================================================================================\n",
      "    2: JOHN *NEW *GIVE1                                              JOHN WRITE HOMEWORK\n",
      "    7: JOHN CAN GO *ARRIVE                                           JOHN CAN GO CAN\n",
      "   12: JOHN *WHAT *JOHN CAN                                          JOHN CAN GO CAN\n",
      "   21: JOHN *ARRIVE *JOHN *FUTURE *GIVE1 *WHAT *FUTURE *WHO          JOHN FISH WONT EAT BUT CAN EAT CHICKEN\n",
      "   25: JOHN LIKE IX *WHO IX                                          JOHN LIKE IX IX IX\n",
      "   28: JOHN *MARY IX IX IX                                           JOHN LIKE IX IX IX\n",
      "   30: *IX LIKE *MARY *MARY *MARY                                    JOHN LIKE IX IX IX\n",
      "   36: *IX *VISIT *GIVE *GIVE *MARY *MARY                            MARY VEGETABLE KNOW IX LIKE CORN1\n",
      "   40: JOHN *JOHN *GIVE *JOHN *MARY                                  JOHN IX THINK MARY LOVE\n",
      "   43: JOHN *IX BUY HOUSE                                            JOHN MUST BUY HOUSE\n",
      "   50: *JOHN *SEE BUY CAR *JOHN                                      FUTURE JOHN BUY CAR SHOULD\n",
      "   54: JOHN SHOULD NOT BUY HOUSE                                     JOHN SHOULD NOT BUY HOUSE\n",
      "   57: *MARY *VISIT VISIT MARY                                       JOHN DECIDE VISIT MARY\n",
      "   67: JOHN FUTURE *WHO BUY HOUSE                                    JOHN FUTURE NOT BUY HOUSE\n",
      "   71: JOHN *FUTURE *GIVE1 MARY                                      JOHN WILL VISIT MARY\n",
      "   74: *IX *JOHN VISIT MARY                                          JOHN NOT VISIT MARY\n",
      "   77: *JOHN *GIVE1 MARY                                             ANN BLAME MARY\n",
      "   84: *JOHN *GIVE1 *GIVE1 BOOK                                      IX-1P FIND SOMETHING-ONE BOOK\n",
      "   89: *MARY *POSS *WOMAN *IX IX *ARRIVE *ARRIVE                     JOHN IX GIVE MAN IX NEW COAT\n",
      "   90: JOHN GIVE IX SOMETHING-ONE WOMAN *ARRIVE                      JOHN GIVE IX SOMETHING-ONE WOMAN BOOK\n",
      "   92: JOHN *WOMAN IX *IX WOMAN BOOK                                 JOHN GIVE IX SOMETHING-ONE WOMAN BOOK\n",
      "  100: POSS NEW CAR BREAK-DOWN                                       POSS NEW CAR BREAK-DOWN\n",
      "  105: JOHN *SEE                                                     JOHN LEG\n",
      "  107: JOHN *IX *JOHN *LOVE *WHO                                     JOHN POSS FRIEND HAVE CANDY\n",
      "  108: *LOVE ARRIVE                                                  WOMAN ARRIVE\n",
      "  113: IX CAR *IX *MARY *IX                                          IX CAR BLUE SUE BUY\n",
      "  119: *MARY *BUY1 IX *BLAME *IX                                     SUE BUY IX CAR BLUE\n",
      "  122: JOHN *GIVE1 BOOK                                              JOHN READ BOOK\n",
      "  139: JOHN *ARRIVE WHAT *MARY *ARRIVE                               JOHN BUY WHAT YESTERDAY BOOK\n",
      "  142: JOHN BUY YESTERDAY WHAT BOOK                                  JOHN BUY YESTERDAY WHAT BOOK\n",
      "  158: LOVE JOHN WHO                                                 LOVE JOHN WHO\n",
      "  167: *MARY *MARY *VISIT LOVE MARY                                  JOHN IX SAY LOVE MARY\n",
      "  171: *IX MARY BLAME                                                JOHN MARY BLAME\n",
      "  174: *JOHN *GIVE1 GIVE1 *GO *JOHN                                  PEOPLE GROUP GIVE1 JANA TOY\n",
      "  181: JOHN ARRIVE                                                   JOHN ARRIVE\n",
      "  184: *IX BOY *GIVE1 TEACHER *GO                                    ALL BOY GIVE TEACHER APPLE\n",
      "  189: JOHN GIVE *GO BOX                                             JOHN GIVE GIRL BOX\n",
      "  193: JOHN *HAVE *YESTERDAY BOX                                     JOHN GIVE GIRL BOX\n",
      "  199: *JOHN *STUDENT WHO                                            LIKE CHOCOLATE WHO\n",
      "  201: JOHN *MARY *WOMAN *LOVE BUY HOUSE                             JOHN TELL MARY IX-1P BUY HOUSE\n"
     ]
    }
   ],
   "source": [
    "import warnings\n",
    "warnings.filterwarnings('ignore')\n",
    "\n",
    "# STEP !: \n",
    "# Based on the best selector/features, get the logL highest probabilities for test set\n",
    "# we need \"probabilities\" for future calculation\n",
    "\n",
    "#bestModelSelector = SelectorDIC\n",
    "#bestFeature = features_polar\n",
    "\n",
    "models = train_all_words(bestFeature, bestModelSelector, bestMaxN)\n",
    "test_set = asl.build_test(bestFeature) #default use 'test_words.csv'\n",
    "\n",
    "LMprobabilities, LMguesses = recognize(models, test_set)\n",
    "print(\"\")\n",
    "print(\"Results for: {} {} {}\".format(bestModelSelector, bestFeature, bestMaxN))\n",
    "LMBaseLineWER = show_errors(LMguesses, test_set, show_answer = True)"
   ]
  },
  {
   "cell_type": "code",
   "execution_count": 51,
   "metadata": {
    "collapsed": false,
    "deletable": true,
    "editable": true
   },
   "outputs": [
    {
     "name": "stdout",
     "output_type": "stream",
     "text": [
      "GaussianHMM(algorithm='viterbi', covariance_type='diag', covars_prior=0.01,\n",
      "      covars_weight=1, init_params='stmc', means_prior=0, means_weight=0,\n",
      "      min_covar=0.001, n_components=7, n_iter=1000, params='stmc',\n",
      "      random_state=None, startprob_prior=1.0, tol=0.01, transmat_prior=1.0,\n",
      "      verbose=False)\n"
     ]
    }
   ],
   "source": [
    "#### play around with \"probabilities\"\n",
    "assert(len(test_set.wordlist) == len(LMprobabilities)) # 178 \n",
    "\n",
    "print(models['HOMEWORK']) "
   ]
  },
  {
   "cell_type": "markdown",
   "metadata": {
    "deletable": true,
    "editable": true
   },
   "source": [
    "<a id='part4_info'></a>\n",
    "## PART 4: (OPTIONAL)  Improve the WER with Language Models\n",
    "We've squeezed just about as much as we can out of the model and still only get about 50% of the words right! Surely we can do better than that.  Probability to the rescue again in the form of [statistical language models (SLM)](https://en.wikipedia.org/wiki/Language_model).  The basic idea is that each word has some probability of occurrence within the set, and some probability that it is adjacent to specific other words. We can use that additional information to make better choices.\n",
    "\n",
    "##### Additional reading and resources\n",
    "- [Introduction to N-grams (Stanford Jurafsky slides)](https://web.stanford.edu/class/cs124/lec/languagemodeling.pdf)\n",
    "- [Speech Recognition Techniques for a Sign Language Recognition System, Philippe Dreuw et al](https://www-i6.informatik.rwth-aachen.de/publications/download/154/Dreuw--2007.pdf) see the improved results of applying LM on *this* data!\n",
    "- [SLM data for *this* ASL dataset](ftp://wasserstoff.informatik.rwth-aachen.de/pub/rwth-boston-104/lm/)\n",
    "\n",
    "##### Optional challenge\n",
    "The recognizer you implemented in Part 3 is equivalent to a \"0-gram\" SLM.  Improve the WER with the SLM data provided with the data set in the link above using \"1-gram\", \"2-gram\", and/or \"3-gram\" statistics. The `probabilities` data you've already calculated will be useful and can be turned into a pandas DataFrame if desired (see next cell).  \n",
    "Good luck!  Share your results with the class!"
   ]
  },
  {
   "cell_type": "code",
   "execution_count": 52,
   "metadata": {
    "collapsed": true,
    "deletable": true,
    "editable": true
   },
   "outputs": [],
   "source": [
    "# create a DataFrame of log likelihoods for the test word items\n",
    "df_probs = pd.DataFrame(data=LMprobabilities)\n",
    "\n",
    "assert(len(test_set.wordlist) == len(df_probs)) #178 words; 40 sentences\n",
    "assert(len(training.words) == len(df_probs.columns)) #112"
   ]
  },
  {
   "cell_type": "code",
   "execution_count": 53,
   "metadata": {
    "collapsed": false,
    "deletable": true,
    "editable": true
   },
   "outputs": [
    {
     "data": {
      "text/plain": [
       "ALL      -9.576855e+03\n",
       "ANN      -2.520507e+06\n",
       "APPLE    -1.622638e+04\n",
       "ARRIVE   -3.320226e+02\n",
       "BILL     -2.565561e+04\n",
       "Name: 2, dtype: float64"
      ]
     },
     "execution_count": 53,
     "metadata": {},
     "output_type": "execute_result"
    }
   ],
   "source": [
    "#df_probs plays around\n",
    "df_probs.ix[2].head()"
   ]
  },
  {
   "cell_type": "code",
   "execution_count": 54,
   "metadata": {
    "collapsed": false,
    "deletable": true,
    "editable": true
   },
   "outputs": [
    {
     "data": {
      "text/plain": [
       "-248.76512547689032"
      ]
     },
     "execution_count": 54,
     "metadata": {},
     "output_type": "execute_result"
    }
   ],
   "source": [
    "#debugging/try and error area\n",
    "df_probs.ix[0]['GO'] #first word VS APPLE"
   ]
  },
  {
   "cell_type": "code",
   "execution_count": 55,
   "metadata": {
    "collapsed": true,
    "deletable": true,
    "editable": true
   },
   "outputs": [],
   "source": [
    "import arpa\n",
    "models_1G = arpa.loadf(\"ngrams_data/devel-lm-M1.sri.lm\")\n",
    "models_3G = arpa.loadf(\"ngrams_data/devel-lm-M3.sri.lm\")\n",
    "\n",
    "lm = models_3G[0]  # ARPA files may contain several models."
   ]
  },
  {
   "cell_type": "code",
   "execution_count": 56,
   "metadata": {
    "collapsed": false,
    "deletable": true,
    "editable": true
   },
   "outputs": [
    {
     "name": "stdout",
     "output_type": "stream",
     "text": [
      "-1.9180998999999999\n"
     ]
    }
   ],
   "source": [
    "#arpa playaround\n",
    "try:\n",
    "    logL = lm.log_p(\"JOHN BOOK\")\n",
    "    print(logL)\n",
    "except KeyError:\n",
    "    print(\"key error\")\n"
   ]
  },
  {
   "cell_type": "code",
   "execution_count": 57,
   "metadata": {
    "collapsed": false,
    "deletable": true,
    "editable": true
   },
   "outputs": [
    {
     "data": {
      "text/plain": [
       "'JOHN'"
      ]
     },
     "execution_count": 57,
     "metadata": {},
     "output_type": "execute_result"
    }
   ],
   "source": [
    "test_set.wordlist[test_set.sentences_index[2][0]]\n",
    "#lm.log_p(\"MARY BUY1\")"
   ]
  },
  {
   "cell_type": "code",
   "execution_count": 58,
   "metadata": {
    "collapsed": true,
    "deletable": true,
    "editable": true
   },
   "outputs": [],
   "source": [
    "#wordsCombinationList = generateWordsCombination(2)\n",
    "#len(wordsCombinationList)"
   ]
  },
  {
   "cell_type": "code",
   "execution_count": 59,
   "metadata": {
    "collapsed": true,
    "deletable": true,
    "editable": true
   },
   "outputs": [],
   "source": [
    "def getJointProb(candList, ModelNGram = models_3G, method = \"JointOnly\", isFullSent = False):\n",
    "    \n",
    "    tmp_candList = copy.deepcopy(candList)\n",
    "\n",
    "    tmp_candList.insert(0, '<s>')\n",
    "    if isFullSent:\n",
    "        tmp_candList.append('</s>')\n",
    "\n",
    "    LMlogL3Gram_element = 1e-99\n",
    "\n",
    "    for ci in range(0,len(tmp_candList)+1): \n",
    "        eval_str = \" \".join(tmp_candList[max(0,ci-3):ci])\n",
    "        if eval_str != '<s>':\n",
    "            try:\n",
    "                #print(eval_str)\n",
    "                LMlogL3Gram_element = LMlogL3Gram_element + lm.log_p(eval_str) #cummulative prob\n",
    "            except:\n",
    "                LMlogL3Gram_element = LMlogL3Gram_element + 1e-99\n",
    "\n",
    "    if method == \"JointOnly\":\n",
    "        logL3GramJoint = LMlogL3Gram_element/(len(tmp_candList)+1)\n",
    "    else:\n",
    "        try:\n",
    "            LMlogL = lm.log_p(\" \".join(tmp_candList))\n",
    "        except:\n",
    "            LMlogL = 1e-99\n",
    "\n",
    "        logL3GramJoint = (LMlogL + LMlogL3Gram_element)/(len(tmp_candList) + 2)\n",
    "                  \n",
    "    return logL3GramJoint"
   ]
  },
  {
   "cell_type": "code",
   "execution_count": 60,
   "metadata": {
    "collapsed": true,
    "deletable": true,
    "editable": true
   },
   "outputs": [],
   "source": [
    "def recognize_ngrams3(test_set, df_probs, ModelNGram = models_3G, beta = 1.0, method = \"JointOnly\"):\n",
    "    bestGuessWordList = []\n",
    "\n",
    "    for si in test_set.sentences_index: #loop thru all sentences: [0, 1, 2], [3, 4, 5, 6]\n",
    "        tempSentenceWord = []\n",
    "        for i in range(len(test_set.sentences_index[si])):\n",
    "\n",
    "            word_index = test_set.sentences_index[si][i]\n",
    "            truth_word = test_set.wordlist[word_index] #for debugging only!\n",
    "\n",
    "            zeroG_logL = float(\"-Inf\")\n",
    "            uniG_logL = 1e-99\n",
    "            bestTotalLogL = float(\"-Inf\")\n",
    "            bestWord = \"\"\n",
    "            \n",
    "            for cand_index in range(len(df_probs.columns)):\n",
    "                cand_word = df_probs.columns[cand_index]\n",
    "                \n",
    "                zeroG_logL = df_probs.ix[word_index][cand_index] #read logL from table\n",
    "                \n",
    "                candList = copy.deepcopy(tempSentenceWord)\n",
    "                candList.append(cand_word)\n",
    "             \n",
    "                logL3GramJoint = getJointProb(candList, isFullSent = (len(test_set.sentences_index[si])-1) == i, \n",
    "                                             method = method)\n",
    "                \"\"\"\n",
    "                try:\n",
    "                    logL3GramJoint = lm.log_s(candList)\n",
    "                except:\n",
    "                    logL3GramJoint = 1e-99\n",
    "                \n",
    "                \"\"\"   \n",
    "                total_logL = zeroG_logL + beta * logL3GramJoint\n",
    "                #print(beta)\n",
    "\n",
    "                if total_logL > bestTotalLogL:\n",
    "                    bestTotalLogL = total_logL\n",
    "                    bestWord = cand_word\n",
    "\n",
    "                #print(tempSentenceWord, cand_word, total_logL, zeroG_logL, logL3GramJoint)\n",
    "\n",
    "            # finished one word   \n",
    "            #print(truth_word, bestWord)\n",
    "            bestGuessWordList.append(bestWord)\n",
    "            tempSentenceWord.append(bestWord)\n",
    "\n",
    "    return bestGuessWordList"
   ]
  },
  {
   "cell_type": "code",
   "execution_count": 61,
   "metadata": {
    "collapsed": false,
    "deletable": true,
    "editable": true
   },
   "outputs": [
    {
     "name": "stdout",
     "output_type": "stream",
     "text": [
      "\n",
      "**** WER = 0.5\n",
      "\n",
      "0.5 0.5\n"
     ]
    }
   ],
   "source": [
    "#DEBUG: test if the function returns the same value if beta = 0\n",
    "n3GramGuessWordList = recognize_ngrams3(test_set, df_probs, beta=0)\n",
    "n3GramWER = show_errors(n3GramGuessWordList, test_set)\n",
    "assert(n3GramWER == LMBaseLineWER)\n",
    "\n",
    "print(n3GramWER, LMBaseLineWER)"
   ]
  },
  {
   "cell_type": "code",
   "execution_count": 62,
   "metadata": {
    "collapsed": false,
    "deletable": true,
    "editable": true
   },
   "outputs": [
    {
     "name": "stdout",
     "output_type": "stream",
     "text": [
      "Best Beta: 34 with WER 0.47191011235955055945\n"
     ]
    }
   ],
   "source": [
    "# identify the optimal beta value\n",
    "bestWER = 100.0\n",
    "bestBeta = 0.0\n",
    "betaRecord = []\n",
    "WERRecord = []\n",
    "best3GramGuessWordList = []\n",
    "\n",
    "for b in range(0,100):\n",
    "    n3GramGuessWordList = recognize_ngrams3(test_set, df_probs, beta=b, method = \"JointOnly\")\n",
    "    thisWER = show_errors(n3GramGuessWordList, test_set, show_WER=False)\n",
    "    print(\"Running beta: {} and WER: {}\".format(b, thisWER), end='\\r')\n",
    "    if thisWER < bestWER: #the smaller the WER value the better\n",
    "        bestWER = thisWER\n",
    "        bestBeta = b\n",
    "        best3GramGuessWordList = n3GramGuessWordList\n",
    "    betaRecord.append(b)\n",
    "    WERRecord.append(thisWER)\n",
    "    \n",
    "print(\"Best Beta: {} with WER {}\".format( bestBeta, bestWER))"
   ]
  },
  {
   "cell_type": "code",
   "execution_count": 63,
   "metadata": {
    "collapsed": false,
    "deletable": true,
    "editable": true
   },
   "outputs": [
    {
     "name": "stdout",
     "output_type": "stream",
     "text": [
      "\n",
      "**** WER = 0.47191011235955055\n",
      "\n",
      "Total correct: 94 out of 178\n",
      "Video  Recognized                                                    Correct\n",
      "=====================================================================================================\n",
      "    2: JOHN *NEW *GIVE1                                              JOHN WRITE HOMEWORK\n",
      "    7: JOHN CAN GO *ARRIVE                                           JOHN CAN GO CAN\n",
      "   12: JOHN CAN *JOHN CAN                                            JOHN CAN GO CAN\n",
      "   21: JOHN *GIVE1 *GIVE1 *FUTURE *GIVE1 *WHAT *FUTURE *WHO          JOHN FISH WONT EAT BUT CAN EAT CHICKEN\n",
      "   25: JOHN LIKE IX *WHO IX                                          JOHN LIKE IX IX IX\n",
      "   28: JOHN *MARY IX IX IX                                           JOHN LIKE IX IX IX\n",
      "   30: JOHN LIKE *MARY *MARY *MARY                                   JOHN LIKE IX IX IX\n",
      "   36: *IX *VISIT *GIVE *GIVE *MARY *MARY                            MARY VEGETABLE KNOW IX LIKE CORN1\n",
      "   40: JOHN *GO *GIVE *JOHN *MARY                                    JOHN IX THINK MARY LOVE\n",
      "   43: JOHN *IX BUY HOUSE                                            JOHN MUST BUY HOUSE\n",
      "   50: *JOHN *SEE BUY CAR *JOHN                                      FUTURE JOHN BUY CAR SHOULD\n",
      "   54: JOHN SHOULD NOT BUY HOUSE                                     JOHN SHOULD NOT BUY HOUSE\n",
      "   57: *MARY *VISIT VISIT MARY                                       JOHN DECIDE VISIT MARY\n",
      "   67: JOHN FUTURE *WHO BUY HOUSE                                    JOHN FUTURE NOT BUY HOUSE\n",
      "   71: JOHN *FUTURE *GIVE1 MARY                                      JOHN WILL VISIT MARY\n",
      "   74: *IX *JOHN VISIT MARY                                          JOHN NOT VISIT MARY\n",
      "   77: *JOHN *GIVE1 MARY                                             ANN BLAME MARY\n",
      "   84: *JOHN *GIVE1 *GIVE1 BOOK                                      IX-1P FIND SOMETHING-ONE BOOK\n",
      "   89: *MARY *POSS *IX *IX IX *ARRIVE *ARRIVE                        JOHN IX GIVE MAN IX NEW COAT\n",
      "   90: JOHN GIVE IX SOMETHING-ONE WOMAN *ARRIVE                      JOHN GIVE IX SOMETHING-ONE WOMAN BOOK\n",
      "   92: JOHN *WOMAN IX *IX WOMAN BOOK                                 JOHN GIVE IX SOMETHING-ONE WOMAN BOOK\n",
      "  100: POSS NEW CAR BREAK-DOWN                                       POSS NEW CAR BREAK-DOWN\n",
      "  105: JOHN *SEE                                                     JOHN LEG\n",
      "  107: JOHN *IX *JOHN *LOVE *MARY                                    JOHN POSS FRIEND HAVE CANDY\n",
      "  108: *LOVE ARRIVE                                                  WOMAN ARRIVE\n",
      "  113: IX CAR *IX *MARY *IX                                          IX CAR BLUE SUE BUY\n",
      "  119: *MARY *BUY1 IX *BLAME *IX                                     SUE BUY IX CAR BLUE\n",
      "  122: JOHN *GIVE1 BOOK                                              JOHN READ BOOK\n",
      "  139: JOHN *BUY1 WHAT *MARY *ARRIVE                                 JOHN BUY WHAT YESTERDAY BOOK\n",
      "  142: JOHN BUY YESTERDAY WHAT BOOK                                  JOHN BUY YESTERDAY WHAT BOOK\n",
      "  158: LOVE JOHN WHO                                                 LOVE JOHN WHO\n",
      "  167: JOHN *MARY *VISIT LOVE MARY                                   JOHN IX SAY LOVE MARY\n",
      "  171: JOHN MARY BLAME                                               JOHN MARY BLAME\n",
      "  174: *JOHN *GIVE1 GIVE1 *GO *JOHN                                  PEOPLE GROUP GIVE1 JANA TOY\n",
      "  181: JOHN ARRIVE                                                   JOHN ARRIVE\n",
      "  184: *IX BOY *GIVE1 TEACHER *GO                                    ALL BOY GIVE TEACHER APPLE\n",
      "  189: JOHN GIVE *GO BOX                                             JOHN GIVE GIRL BOX\n",
      "  193: JOHN GIVE *YESTERDAY BOX                                      JOHN GIVE GIRL BOX\n",
      "  199: *JOHN *STUDENT WHO                                            LIKE CHOCOLATE WHO\n",
      "  201: JOHN *MARY *WOMAN *JOHN BUY HOUSE                             JOHN TELL MARY IX-1P BUY HOUSE\n"
     ]
    }
   ],
   "source": [
    "best3GramGuessTotal = recognize_ngrams3(test_set, df_probs, beta=bestBeta, method = \"JointOnly\")\n",
    "thisWER = show_errors(best3GramGuessTotal, test_set, show_WER=True, show_answer=True)"
   ]
  },
  {
   "cell_type": "code",
   "execution_count": 64,
   "metadata": {
    "collapsed": false,
    "deletable": true,
    "editable": true
   },
   "outputs": [
    {
     "data": {
      "image/png": "[encoded data removed]",
      "text/plain": [
       "<matplotlib.figure.Figure at 0x11302a9b0>"
      ]
     },
     "metadata": {},
     "output_type": "display_data"
    }
   ],
   "source": [
    "#Plot the graph of optimal beta resulting in lowest WER\n",
    "fig, ax = plt.subplots()\n",
    "ax.plot(betaRecord, WERRecord)\n",
    "\n",
    "ax.set(xlabel='beta', ylabel='WER (%)',\n",
    "       title='WER value vs various Beta ')\n",
    "ax.grid()\n",
    "\n",
    "#fig.savefig(\"test.png\")\n",
    "plt.show()"
   ]
  },
  {
   "cell_type": "code",
   "execution_count": 65,
   "metadata": {
    "collapsed": false,
    "deletable": true,
    "editable": true
   },
   "outputs": [
    {
     "name": "stdout",
     "output_type": "stream",
     "text": [
      "CAN WHAT CAN\n",
      "GIVE1 ARRIVE FISH\n",
      "GIVE1 JOHN WONT\n",
      "JOHN IX JOHN\n",
      "GO JOHN IX\n",
      "IX WOMAN GIVE\n",
      "MARY WHO CANDY\n",
      "BUY1 ARRIVE BUY\n",
      "JOHN MARY JOHN\n",
      "JOHN IX JOHN\n",
      "GIVE HAVE GIVE\n",
      "JOHN LOVE IX-1P\n",
      "\n",
      "**** WER = 0.47191011235955055\n",
      "\n",
      "Total correct: 94 out of 178\n",
      "Video  Recognized                                                    Correct\n",
      "=====================================================================================================\n",
      "    2: JOHN *NEW *GIVE1                                              JOHN WRITE HOMEWORK\n",
      "    7: JOHN CAN GO *ARRIVE                                           JOHN CAN GO CAN\n",
      "   12: JOHN CAN *JOHN CAN                                            JOHN CAN GO CAN\n",
      "   21: JOHN *GIVE1 *GIVE1 *FUTURE *GIVE1 *WHAT *FUTURE *WHO          JOHN FISH WONT EAT BUT CAN EAT CHICKEN\n",
      "   25: JOHN LIKE IX *WHO IX                                          JOHN LIKE IX IX IX\n",
      "   28: JOHN *MARY IX IX IX                                           JOHN LIKE IX IX IX\n",
      "   30: JOHN LIKE *MARY *MARY *MARY                                   JOHN LIKE IX IX IX\n",
      "   36: *IX *VISIT *GIVE *GIVE *MARY *MARY                            MARY VEGETABLE KNOW IX LIKE CORN1\n",
      "   40: JOHN *GO *GIVE *JOHN *MARY                                    JOHN IX THINK MARY LOVE\n",
      "   43: JOHN *IX BUY HOUSE                                            JOHN MUST BUY HOUSE\n",
      "   50: *JOHN *SEE BUY CAR *JOHN                                      FUTURE JOHN BUY CAR SHOULD\n",
      "   54: JOHN SHOULD NOT BUY HOUSE                                     JOHN SHOULD NOT BUY HOUSE\n",
      "   57: *MARY *VISIT VISIT MARY                                       JOHN DECIDE VISIT MARY\n",
      "   67: JOHN FUTURE *WHO BUY HOUSE                                    JOHN FUTURE NOT BUY HOUSE\n",
      "   71: JOHN *FUTURE *GIVE1 MARY                                      JOHN WILL VISIT MARY\n",
      "   74: *IX *JOHN VISIT MARY                                          JOHN NOT VISIT MARY\n",
      "   77: *JOHN *GIVE1 MARY                                             ANN BLAME MARY\n",
      "   84: *JOHN *GIVE1 *GIVE1 BOOK                                      IX-1P FIND SOMETHING-ONE BOOK\n",
      "   89: *MARY *POSS *IX *IX IX *ARRIVE *ARRIVE                        JOHN IX GIVE MAN IX NEW COAT\n",
      "   90: JOHN GIVE IX SOMETHING-ONE WOMAN *ARRIVE                      JOHN GIVE IX SOMETHING-ONE WOMAN BOOK\n",
      "   92: JOHN *WOMAN IX *IX WOMAN BOOK                                 JOHN GIVE IX SOMETHING-ONE WOMAN BOOK\n",
      "  100: POSS NEW CAR BREAK-DOWN                                       POSS NEW CAR BREAK-DOWN\n",
      "  105: JOHN *SEE                                                     JOHN LEG\n",
      "  107: JOHN *IX *JOHN *LOVE *MARY                                    JOHN POSS FRIEND HAVE CANDY\n",
      "  108: *LOVE ARRIVE                                                  WOMAN ARRIVE\n",
      "  113: IX CAR *IX *MARY *IX                                          IX CAR BLUE SUE BUY\n",
      "  119: *MARY *BUY1 IX *BLAME *IX                                     SUE BUY IX CAR BLUE\n",
      "  122: JOHN *GIVE1 BOOK                                              JOHN READ BOOK\n",
      "  139: JOHN *BUY1 WHAT *MARY *ARRIVE                                 JOHN BUY WHAT YESTERDAY BOOK\n",
      "  142: JOHN BUY YESTERDAY WHAT BOOK                                  JOHN BUY YESTERDAY WHAT BOOK\n",
      "  158: LOVE JOHN WHO                                                 LOVE JOHN WHO\n",
      "  167: JOHN *MARY *VISIT LOVE MARY                                   JOHN IX SAY LOVE MARY\n",
      "  171: JOHN MARY BLAME                                               JOHN MARY BLAME\n",
      "  174: *JOHN *GIVE1 GIVE1 *GO *JOHN                                  PEOPLE GROUP GIVE1 JANA TOY\n",
      "  181: JOHN ARRIVE                                                   JOHN ARRIVE\n",
      "  184: *IX BOY *GIVE1 TEACHER *GO                                    ALL BOY GIVE TEACHER APPLE\n",
      "  189: JOHN GIVE *GO BOX                                             JOHN GIVE GIRL BOX\n",
      "  193: JOHN GIVE *YESTERDAY BOX                                      JOHN GIVE GIRL BOX\n",
      "  199: *JOHN *STUDENT WHO                                            LIKE CHOCOLATE WHO\n",
      "  201: JOHN *MARY *WOMAN *JOHN BUY HOUSE                             JOHN TELL MARY IX-1P BUY HOUSE\n",
      "\n",
      "**** WER = 0.5\n",
      "\n"
     ]
    },
    {
     "data": {
      "text/plain": [
       "0.5"
      ]
     },
     "execution_count": 65,
     "metadata": {},
     "output_type": "execute_result"
    }
   ],
   "source": [
    "# NOW we have the best beta, the best model and the best features\n",
    "# what are the difference of guesses between best Beta and simple LM\n",
    "# show result with best BETA!\n",
    "\n",
    "best3GramGuessTotal = recognize_ngrams3(test_set, df_probs, beta=bestBeta)\n",
    "\n",
    "for i in range(len(best3GramGuessTotal)):\n",
    "    if best3GramGuessTotal[i] != LMguesses[i]:\n",
    "        print(best3GramGuessTotal[i], LMguesses[i] ,test_set.wordlist[i])\n",
    "        \n",
    "show_errors(best3GramGuessTotal, test_set, show_answer = True)\n",
    "show_errors(LMguesses, test_set)"
   ]
  },
  {
   "cell_type": "markdown",
   "metadata": {
    "deletable": true,
    "editable": true
   },
   "source": [
    "## Conclusion for Part I:\n",
    "### Simple HMM model achieve best with \"features polar\" and n-max of 12 is WER: 50%\n",
    "Without using any language model to take probability of occurence into account, the best WER is around 50%. A few different parameters of n-max value has been tried. Best features identified so far is \"features polar\". The problem here is that probability of occurence has not been taken into consideration. So we proceed to part II.\n",
    "\n",
    "## Conclusion for Part II:\n",
    "### By simply adding LM proabability to HMM logL, the best we can do is WER 47.1%\n",
    "With a weighted average between logL from HMM and LM (a beta of 34 in this case, we are able to further down the WER to 47.1%. While this method take into consideration or probability of occurence, this method consider only left to right occurrence. That is when evaluating the probability of the later part of a sentense, we assumed that the first part is fixed and will not be changed. That could be problematic. That's why we have part III."
   ]
  },
  {
   "cell_type": "code",
   "execution_count": 66,
   "metadata": {
    "collapsed": true,
    "deletable": true,
    "editable": true
   },
   "outputs": [],
   "source": [
    "# The recursion function\n",
    "\n",
    "def generateCombinations(masterList, appendedList, sent_seq, slotIndex, maxLength, threhold, df_probs):\n",
    "    if slotIndex < maxLength:\n",
    "        wi = sent_seq[slotIndex]\n",
    "        wordTopCandidatesList = list(df_probs.ix[wi].sort_values(ascending=False).head(threhold).index)\n",
    "        for w in wordTopCandidatesList:\n",
    "            appendedList1 = copy.deepcopy(appendedList)\n",
    "            appendedList1.append(w)\n",
    "            masterList = generateCombinations(masterList, appendedList1, sent_seq, slotIndex+1, \n",
    "                                              maxLength, threhold, df_probs)\n",
    "            #masterList.append(resultList)\n",
    "        return masterList\n",
    "    else:\n",
    "        masterList.append(appendedList)\n",
    "        return masterList\n"
   ]
  },
  {
   "cell_type": "code",
   "execution_count": 67,
   "metadata": {
    "collapsed": false,
    "deletable": true,
    "editable": true
   },
   "outputs": [
    {
     "name": "stdout",
     "output_type": "stream",
     "text": [
      "Processing sentence: 40\r"
     ]
    }
   ],
   "source": [
    "# generate all combination of sentence based on top logL from LM\n",
    "# and store the result in local JSON file masterListJSON\n",
    "import json\n",
    "\n",
    "masterListJSON = {}\n",
    "#maxThrehold = 100 #5 is almost max given the memory of this machine\n",
    "#maxThrehold = len(df_probs.columns)\n",
    "\n",
    "count = 0\n",
    "for si in test_set.sentences_index: #for each sentence\n",
    "#si in values 2, 7 , 12 etc; sentences_index is a dict\n",
    "    #if si == 2:\n",
    "    #####\n",
    "    #si=2 #\n",
    "\n",
    "    sent_seq = test_set.sentences_index[si] #seq in form like [0, 1, 2] where number is word index\n",
    "    print(\"Processing sentence: {}\".format(count+1), end='\\r')\n",
    "\n",
    "    maxLength = len(sent_seq)\n",
    "    slotIndex = 0\n",
    "    masterList = []\n",
    "    appendedList = []\n",
    "\n",
    "    if maxLength <= 3:\n",
    "        maxThrehold = 15\n",
    "    elif maxLength > 3 and maxLength <= 5:\n",
    "        maxThrehold = 10 #10\n",
    "    else:\n",
    "        maxThrehold = 5\n",
    "\n",
    "\n",
    "    masterList = generateCombinations(masterList, appendedList, sent_seq, slotIndex, \n",
    "                                      maxLength, maxThrehold, df_probs)\n",
    "\n",
    "    masterListJSON[str(si)] = masterList\n",
    "    count +=1\n",
    "    #####\n",
    "\n",
    "assert(len(masterListJSON) == len(test_set.sentences_index))\n",
    "\n",
    "#write to JSON file for future access\n",
    "with open('combintation.json', 'w') as outfile:\n",
    "    json.dump(masterListJSON, outfile)"
   ]
  },
  {
   "cell_type": "code",
   "execution_count": 68,
   "metadata": {
    "collapsed": false,
    "deletable": true,
    "editable": true
   },
   "outputs": [
    {
     "data": {
      "text/plain": [
       "40"
      ]
     },
     "execution_count": 68,
     "metadata": {},
     "output_type": "execute_result"
    }
   ],
   "source": [
    "# Check if the combinations generated are correct\n",
    "#df_probs.ix[0].sort_values(ascending=False).head(3)\n",
    "#df_probs.ix[1].sort_values(ascending=False).head(3)\n",
    "#df_probs.ix[2].sort_values(ascending=False).head(3)\n",
    "\n",
    "len(masterListJSON)\n",
    "\n",
    "#for tc in masterListJSON['2']:\n",
    "#    if tc[1] == 'WRITE' and tc[2] == 'HOMEWORK':\n",
    "#        print(tc)"
   ]
  },
  {
   "cell_type": "code",
   "execution_count": 69,
   "metadata": {
    "collapsed": false,
    "deletable": true,
    "editable": true
   },
   "outputs": [
    {
     "name": "stdout",
     "output_type": "stream",
     "text": [
      "\n",
      "**** WER = 0.5\n",
      "\n",
      "Total correct: 89 out of 178\n",
      "Video  Recognized                                                    Correct\n",
      "=====================================================================================================\n",
      "    2: JOHN *NEW *GIVE1                                              JOHN WRITE HOMEWORK\n",
      "    7: JOHN CAN GO *ARRIVE                                           JOHN CAN GO CAN\n",
      "   12: JOHN *WHAT *JOHN CAN                                          JOHN CAN GO CAN\n",
      "   21: JOHN *ARRIVE *JOHN *FUTURE *GIVE1 *WHAT *FUTURE *WHO          JOHN FISH WONT EAT BUT CAN EAT CHICKEN\n",
      "   25: JOHN LIKE IX *WHO IX                                          JOHN LIKE IX IX IX\n",
      "   28: JOHN *MARY IX IX IX                                           JOHN LIKE IX IX IX\n",
      "   30: *IX LIKE *MARY *MARY *MARY                                    JOHN LIKE IX IX IX\n",
      "   36: *IX *VISIT *GIVE *GIVE *MARY *MARY                            MARY VEGETABLE KNOW IX LIKE CORN1\n",
      "   40: JOHN *JOHN *GIVE *JOHN *MARY                                  JOHN IX THINK MARY LOVE\n",
      "   43: JOHN *IX BUY HOUSE                                            JOHN MUST BUY HOUSE\n",
      "   50: *JOHN *SEE BUY CAR *JOHN                                      FUTURE JOHN BUY CAR SHOULD\n",
      "   54: JOHN SHOULD NOT BUY HOUSE                                     JOHN SHOULD NOT BUY HOUSE\n",
      "   57: *MARY *VISIT VISIT MARY                                       JOHN DECIDE VISIT MARY\n",
      "   67: JOHN FUTURE *WHO BUY HOUSE                                    JOHN FUTURE NOT BUY HOUSE\n",
      "   71: JOHN *FUTURE *GIVE1 MARY                                      JOHN WILL VISIT MARY\n",
      "   74: *IX *JOHN VISIT MARY                                          JOHN NOT VISIT MARY\n",
      "   77: *JOHN *GIVE1 MARY                                             ANN BLAME MARY\n",
      "   84: *JOHN *GIVE1 *GIVE1 BOOK                                      IX-1P FIND SOMETHING-ONE BOOK\n",
      "   89: *MARY *POSS *WOMAN *IX IX *ARRIVE *ARRIVE                     JOHN IX GIVE MAN IX NEW COAT\n",
      "   90: JOHN GIVE IX SOMETHING-ONE WOMAN *ARRIVE                      JOHN GIVE IX SOMETHING-ONE WOMAN BOOK\n",
      "   92: JOHN *WOMAN IX *IX WOMAN BOOK                                 JOHN GIVE IX SOMETHING-ONE WOMAN BOOK\n",
      "  100: POSS NEW CAR BREAK-DOWN                                       POSS NEW CAR BREAK-DOWN\n",
      "  105: JOHN *SEE                                                     JOHN LEG\n",
      "  107: JOHN *IX *JOHN *LOVE *WHO                                     JOHN POSS FRIEND HAVE CANDY\n",
      "  108: *LOVE ARRIVE                                                  WOMAN ARRIVE\n",
      "  113: IX CAR *IX *MARY *IX                                          IX CAR BLUE SUE BUY\n",
      "  119: *MARY *BUY1 IX *BLAME *IX                                     SUE BUY IX CAR BLUE\n",
      "  122: JOHN *GIVE1 BOOK                                              JOHN READ BOOK\n",
      "  139: JOHN *ARRIVE WHAT *MARY *ARRIVE                               JOHN BUY WHAT YESTERDAY BOOK\n",
      "  142: JOHN BUY YESTERDAY WHAT BOOK                                  JOHN BUY YESTERDAY WHAT BOOK\n",
      "  158: LOVE JOHN WHO                                                 LOVE JOHN WHO\n",
      "  167: *MARY *MARY *VISIT LOVE MARY                                  JOHN IX SAY LOVE MARY\n",
      "  171: *IX MARY BLAME                                                JOHN MARY BLAME\n",
      "  174: *JOHN *GIVE1 GIVE1 *GO *JOHN                                  PEOPLE GROUP GIVE1 JANA TOY\n",
      "  181: JOHN ARRIVE                                                   JOHN ARRIVE\n",
      "  184: *IX BOY *GIVE1 TEACHER *GO                                    ALL BOY GIVE TEACHER APPLE\n",
      "  189: JOHN GIVE *GO BOX                                             JOHN GIVE GIRL BOX\n",
      "  193: JOHN *HAVE *YESTERDAY BOX                                     JOHN GIVE GIRL BOX\n",
      "  199: *JOHN *STUDENT WHO                                            LIKE CHOCOLATE WHO\n",
      "  201: JOHN *MARY *WOMAN *LOVE BUY HOUSE                             JOHN TELL MARY IX-1P BUY HOUSE\n"
     ]
    },
    {
     "data": {
      "text/plain": [
       "0.5"
      ]
     },
     "execution_count": 69,
     "metadata": {},
     "output_type": "execute_result"
    }
   ],
   "source": [
    "#for comparison and debugging\n",
    "show_errors(LMguesses, test_set, show_WER = True, show_answer = True)"
   ]
  },
  {
   "cell_type": "code",
   "execution_count": 70,
   "metadata": {
    "collapsed": true,
    "deletable": true,
    "editable": true
   },
   "outputs": [],
   "source": [
    "#Re-evaluate the best guesses based on complete sentence logL and logL3GramJoint\n",
    "\n",
    "def evaluateTotalSentenceProb(masterListJSON, test_set, df_probs, lm, beta1 = 0, beta2 = 1, method = \"JointOnly\"):\n",
    "    \n",
    "    TotalSentProbGuess = []\n",
    "    for si in masterListJSON:\n",
    "    #for si in test_set.sentences_index:\n",
    "        #if si == '2':\n",
    "        maxTotal_logL = float(\"-Inf\")\n",
    "        bestCand = None\n",
    "\n",
    "        for candList in masterListJSON[str(si)]: #cand like ['JOHN', 'MARY', 'HOMEWORK']\n",
    "            #Part I HMM logL\n",
    "            logL = 0.0\n",
    "            for i in range(len(candList)):\n",
    "                assert(len(test_set.sentences_index[int(si)]) == len(candList))\n",
    "                wi = test_set.sentences_index[int(si)][i]\n",
    "                logL += df_probs.ix[wi][candList[i]] #need to update i for different sentence!\n",
    "\n",
    "            #Part II LM LMlogL\n",
    "            LMlogL = -1e99\n",
    "\n",
    "            # Calculate Joint Prob\n",
    "            logL3GramJoint = getJointProb(candList, isFullSent=True, method = method)\n",
    "\n",
    "            \"\"\"\n",
    "            try:\n",
    "                logL3GramJoint = lm.log_s(candList)\n",
    "            catch:\n",
    "                logL3GramJoint = 1e-99\n",
    "            \"\"\"            \n",
    "\n",
    "            totalLogL = beta1 * logL + beta2 * logL3GramJoint #Use joint prob instead\n",
    "\n",
    "            if totalLogL > maxTotal_logL:\n",
    "                maxTotal_logL = totalLogL\n",
    "                bestCand = candList\n",
    "\n",
    "            #if si =='7':\n",
    "            #    print(candStr, maxTotal_logL, totalLogL, logL, LMlogL)  \n",
    "\n",
    "        print(si, bestCand, maxTotal_logL, beta1, beta2)\n",
    "\n",
    "        assert(len(test_set.sentences_index[int(si)]) == len(bestCand))\n",
    "\n",
    "        for w in bestCand:\n",
    "            TotalSentProbGuess.append(w)\n",
    "        ####################################\n",
    "    \n",
    "    return TotalSentProbGuess\n",
    "    "
   ]
  },
  {
   "cell_type": "code",
   "execution_count": 78,
   "metadata": {
    "collapsed": false,
    "deletable": true,
    "editable": true,
    "scrolled": true
   },
   "outputs": [
    {
     "name": "stdout",
     "output_type": "stream",
     "text": [
      "2 ['JOHN', 'GIVE1', 'GIVE1'] -289.924484369 0.5 120\n",
      "7 ['JOHN', 'CAN', 'GO', 'CAN'] -238.510820492 0.5 120\n",
      "12 ['JOHN', 'GIVE1', 'GIVE1', 'CAN'] -195.69876786 0.5 120\n",
      "21 ['JOHN', 'GIVE1', 'GIVE1', 'WHO', 'GIVE1', 'WHAT', 'GIVE1', 'WHO'] -355.018049704 0.5 120\n",
      "25 ['JOHN', 'LIKE', 'IX', 'IX', 'IX'] -206.160990516 0.5 120\n",
      "28 ['JOHN', 'LIKE', 'IX', 'IX', 'IX'] -217.840469455 0.5 120\n",
      "30 ['JOHN', 'LIKE', 'IX', 'IX', 'IX'] -143.39360312 0.5 120\n",
      "36 ['IX', 'IX', 'IX', 'IX', 'IX', 'IX'] -320.903271461 0.5 120\n",
      "40 ['JOHN', 'IX', 'GIVE', 'VISIT', 'MARY'] -219.062564773 0.5 120\n",
      "43 ['JOHN', 'FUTURE', 'BUY', 'HOUSE'] -165.060420395 0.5 120\n",
      "50 ['JOHN', 'SEE', 'GIVE1', 'GIVE1', 'JOHN'] -215.282584095 0.5 120\n",
      "54 ['JOHN', 'FUTURE', 'NOT', 'BUY', 'HOUSE'] -133.897433531 0.5 120\n",
      "57 ['JOHN', 'GO', 'VISIT', 'MARY'] -230.529090528 0.5 120\n",
      "67 ['JOHN', 'FUTURE', 'NOT', 'BUY', 'HOUSE'] -205.783167299 0.5 120\n",
      "71 ['JOHN', 'FUTURE', 'GIVE1', 'MARY'] -209.829573928 0.5 120\n",
      "74 ['JOHN', 'GO', 'VISIT', 'MARY'] -204.429271837 0.5 120\n",
      "77 ['JOHN', 'GIVE1', 'MARY'] -232.448801864 0.5 120\n",
      "84 ['JOHN', 'GIVE1', 'GIVE1', 'GIVE1'] -206.115724336 0.5 120\n",
      "89 ['JOHN', 'GIVE', 'IX', 'IX', 'IX', 'GIVE1', 'ARRIVE'] -575.72278876 0.5 120\n",
      "90 ['JOHN', 'GIVE', 'IX', 'SOMETHING-ONE', 'WOMAN', 'ARRIVE'] -376.773788796 0.5 120\n",
      "92 ['JOHN', 'IX', 'IX', 'IX', 'WOMAN', 'BOOK'] -425.925009409 0.5 120\n",
      "100 ['POSS', 'NEW', 'CAR', 'BREAK-DOWN'] -186.620697813 0.5 120\n",
      "105 ['JOHN', 'FUTURE'] -82.2317059349 0.5 120\n",
      "107 ['JOHN', 'IX', 'JOHN', 'LOVE', 'MARY'] -248.121446353 0.5 120\n",
      "108 ['LOVE', 'MARY'] -179.722721894 0.5 120\n",
      "113 ['IX', 'CAR', 'IX', 'IX', 'IX'] -311.824843801 0.5 120\n",
      "119 ['JOHN', 'BUY1', 'IX', 'JOHN', 'IX'] -245.778835054 0.5 120\n",
      "122 ['JOHN', 'GIVE1', 'BOOK'] -130.280023255 0.5 120\n",
      "139 ['JOHN', 'BUY1', 'WHAT', 'GIVE1', 'ARRIVE'] -228.928429132 0.5 120\n",
      "142 ['JOHN', 'BUY', 'YESTERDAY', 'WHAT', 'BOOK'] -185.405577154 0.5 120\n",
      "158 ['LOVE', 'JOHN', 'WHO'] -139.362212285 0.5 120\n",
      "167 ['JOHN', 'IX', 'JOHN', 'LOVE', 'MARY'] -241.788051347 0.5 120\n",
      "171 ['JOHN', 'MARY', 'BLAME'] -167.728216639 0.5 120\n",
      "174 ['JOHN', 'GIVE1', 'GIVE1', 'GO', 'JOHN'] -475.668690639 0.5 120\n",
      "181 ['JOHN', 'ARRIVE'] -236.378274821 0.5 120\n",
      "184 ['IX', 'BOY', 'GIVE1', 'TEACHER', 'GIVE'] -451.23869769 0.5 120\n",
      "189 ['JOHN', 'GIVE', 'JOHN', 'BOX'] -229.837923392 0.5 120\n",
      "193 ['JOHN', 'GIVE', 'JOHN', 'BOX'] -249.193904485 0.5 120\n",
      "199 ['JOHN', 'GIVE1', 'WHO'] -193.230754244 0.5 120\n",
      "201 ['JOHN', 'GIVE', 'IX', 'JOHN', 'BUY', 'HOUSE'] -263.417155259 0.5 120\n",
      "\n",
      "**** WER = 0.43258426966292135\n",
      "\n",
      "Total correct: 101 out of 178\n",
      "Video  Recognized                                                    Correct\n",
      "=====================================================================================================\n",
      "    2: JOHN *GIVE1 *GIVE1                                            JOHN WRITE HOMEWORK\n",
      "    7: JOHN CAN GO CAN                                               JOHN CAN GO CAN\n",
      "   12: JOHN *GIVE1 *GIVE1 CAN                                        JOHN CAN GO CAN\n",
      "   21: JOHN *GIVE1 *GIVE1 *WHO *GIVE1 *WHAT *GIVE1 *WHO              JOHN FISH WONT EAT BUT CAN EAT CHICKEN\n",
      "   25: JOHN LIKE IX IX IX                                            JOHN LIKE IX IX IX\n",
      "   28: JOHN LIKE IX IX IX                                            JOHN LIKE IX IX IX\n",
      "   30: JOHN LIKE IX IX IX                                            JOHN LIKE IX IX IX\n",
      "   36: *IX *IX *IX IX *IX *IX                                        MARY VEGETABLE KNOW IX LIKE CORN1\n",
      "   40: JOHN IX *GIVE *VISIT *MARY                                    JOHN IX THINK MARY LOVE\n",
      "   43: JOHN *FUTURE BUY HOUSE                                        JOHN MUST BUY HOUSE\n",
      "   50: *JOHN *SEE *GIVE1 *GIVE1 *JOHN                                FUTURE JOHN BUY CAR SHOULD\n",
      "   54: JOHN *FUTURE NOT BUY HOUSE                                    JOHN SHOULD NOT BUY HOUSE\n",
      "   57: JOHN *GO VISIT MARY                                           JOHN DECIDE VISIT MARY\n",
      "   67: JOHN FUTURE NOT BUY HOUSE                                     JOHN FUTURE NOT BUY HOUSE\n",
      "   71: JOHN *FUTURE *GIVE1 MARY                                      JOHN WILL VISIT MARY\n",
      "   74: JOHN *GO VISIT MARY                                           JOHN NOT VISIT MARY\n",
      "   77: *JOHN *GIVE1 MARY                                             ANN BLAME MARY\n",
      "   84: *JOHN *GIVE1 *GIVE1 *GIVE1                                    IX-1P FIND SOMETHING-ONE BOOK\n",
      "   89: JOHN *GIVE *IX *IX IX *GIVE1 *ARRIVE                          JOHN IX GIVE MAN IX NEW COAT\n",
      "   90: JOHN GIVE IX SOMETHING-ONE WOMAN *ARRIVE                      JOHN GIVE IX SOMETHING-ONE WOMAN BOOK\n",
      "   92: JOHN *IX IX *IX WOMAN BOOK                                    JOHN GIVE IX SOMETHING-ONE WOMAN BOOK\n",
      "  100: POSS NEW CAR BREAK-DOWN                                       POSS NEW CAR BREAK-DOWN\n",
      "  105: JOHN *FUTURE                                                  JOHN LEG\n",
      "  107: JOHN *IX *JOHN *LOVE *MARY                                    JOHN POSS FRIEND HAVE CANDY\n",
      "  108: *LOVE *MARY                                                   WOMAN ARRIVE\n",
      "  113: IX CAR *IX *IX *IX                                            IX CAR BLUE SUE BUY\n",
      "  119: *JOHN *BUY1 IX *JOHN *IX                                      SUE BUY IX CAR BLUE\n",
      "  122: JOHN *GIVE1 BOOK                                              JOHN READ BOOK\n",
      "  139: JOHN *BUY1 WHAT *GIVE1 *ARRIVE                                JOHN BUY WHAT YESTERDAY BOOK\n",
      "  142: JOHN BUY YESTERDAY WHAT BOOK                                  JOHN BUY YESTERDAY WHAT BOOK\n",
      "  158: LOVE JOHN WHO                                                 LOVE JOHN WHO\n",
      "  167: JOHN IX *JOHN LOVE MARY                                       JOHN IX SAY LOVE MARY\n",
      "  171: JOHN MARY BLAME                                               JOHN MARY BLAME\n",
      "  174: *JOHN *GIVE1 GIVE1 *GO *JOHN                                  PEOPLE GROUP GIVE1 JANA TOY\n",
      "  181: JOHN ARRIVE                                                   JOHN ARRIVE\n",
      "  184: *IX BOY *GIVE1 TEACHER *GIVE                                  ALL BOY GIVE TEACHER APPLE\n",
      "  189: JOHN GIVE *JOHN BOX                                           JOHN GIVE GIRL BOX\n",
      "  193: JOHN GIVE *JOHN BOX                                           JOHN GIVE GIRL BOX\n",
      "  199: *JOHN *GIVE1 WHO                                              LIKE CHOCOLATE WHO\n",
      "  201: JOHN *GIVE *IX *JOHN BUY HOUSE                                JOHN TELL MARY IX-1P BUY HOUSE\n"
     ]
    }
   ],
   "source": [
    "#debug by using beta2 = 0 we should expect to get the ordinary logL result\n",
    "TotalSentProbGuess = evaluateTotalSentenceProb(masterListJSON, test_set, \n",
    "                                               df_probs, lm, beta1 = 0.5, beta2 = 120)\n",
    "tWER = show_errors(TotalSentProbGuess, test_set, show_answer = True) "
   ]
  },
  {
   "cell_type": "code",
   "execution_count": 72,
   "metadata": {
    "collapsed": true,
    "deletable": true,
    "editable": true
   },
   "outputs": [],
   "source": [
    "#playaround working buffer zone\n",
    "#lm.log_p(\"JOHN GIVE IX SOMETHING-ONE WOMAN BOOK\")\n",
    "\n",
    "#playaround working buffer zone\n",
    "#test_set.sentences_index[7][0]\n",
    "\n",
    "#playaround working buffer zone\n",
    "#df_probs.ix[5].sort_values(ascending=False)"
   ]
  },
  {
   "cell_type": "code",
   "execution_count": 76,
   "metadata": {
    "collapsed": false,
    "deletable": true,
    "editable": true,
    "scrolled": true
   },
   "outputs": [
    {
     "name": "stdout",
     "output_type": "stream",
     "text": [
      "2 ['JOHN', 'GIVE1', 'GIVE1'] -287.996213536 0.5 110\n",
      "7 ['JOHN', 'CAN', 'GO', 'CAN'] -234.953862064 0.5 110\n",
      "12 ['JOHN', 'GIVE1', 'GIVE1', 'CAN'] -191.237089002 0.5 110\n",
      "21 ['JOHN', 'GIVE1', 'GIVE1', 'WHO', 'GIVE1', 'WHAT', 'GIVE1', 'WHO'] -350.489574522 0.5 110\n",
      "25 ['JOHN', 'LIKE', 'IX', 'IX', 'IX'] -201.150650766 0.5 110\n",
      "28 ['JOHN', 'LIKE', 'IX', 'IX', 'IX'] -212.830129705 0.5 110\n",
      "30 ['JOHN', 'LIKE', 'IX', 'IX', 'IX'] -138.38326337 0.5 110\n",
      "36 ['IX', 'VISIT', 'GIVE', 'JOHN', 'LOVE', 'MARY'] -311.398272849 0.5 110\n",
      "40 ['JOHN', 'IX', 'GIVE', 'VISIT', 'MARY'] -212.41592306 0.5 110\n",
      "43 ['JOHN', 'FUTURE', 'BUY', 'HOUSE'] -160.461250724 0.5 110\n",
      "50 ['JOHN', 'SEE', 'GIVE1', 'GIVE1', 'JOHN'] -210.17912797 0.5 110\n",
      "54 ['JOHN', 'FUTURE', 'NOT', 'BUY', 'HOUSE'] -130.177436319 0.5 110\n",
      "57 ['JOHN', 'GO', 'VISIT', 'MARY'] -225.124269242 0.5 110\n",
      "67 ['JOHN', 'FUTURE', 'NOT', 'BUY', 'HOUSE'] -202.063170087 0.5 110\n",
      "71 ['JOHN', 'FUTURE', 'GIVE1', 'MARY'] -205.505837071 0.5 110\n",
      "74 ['JOHN', 'GO', 'VISIT', 'MARY'] -199.024450551 0.5 110\n",
      "77 ['JOHN', 'GIVE1', 'MARY'] -229.154952197 0.5 110\n",
      "84 ['JOHN', 'GIVE1', 'GIVE1', 'GIVE1'] -204.462920765 0.5 110\n",
      "89 ['JOHN', 'GIVE', 'IX', 'IX', 'IX', 'GIVE1', 'ARRIVE'] -569.19952726 0.5 110\n",
      "90 ['JOHN', 'GIVE', 'IX', 'SOMETHING-ONE', 'WOMAN', 'ARRIVE'] -368.855162796 0.5 110\n",
      "92 ['JOHN', 'IX', 'IX', 'IX', 'WOMAN', 'BOOK'] -418.109377965 0.5 110\n",
      "100 ['POSS', 'NEW', 'CAR', 'BREAK-DOWN'] -179.535179527 0.5 110\n",
      "105 ['JOHN', 'FUTURE'] -78.6090089349 0.5 110\n",
      "107 ['JOHN', 'IX', 'JOHN', 'LOVE', 'MARY'] -242.228691878 0.5 110\n",
      "108 ['LOVE', 'MARY'] -175.582909294 0.5 110\n",
      "113 ['IX', 'CAR', 'IX', 'IX', 'IX'] -303.164324888 0.5 110\n",
      "119 ['JOHN', 'BUY1', 'IX', 'JOHN', 'IX'] -239.513439804 0.5 110\n",
      "122 ['JOHN', 'GIVE1', 'BOOK'] -127.034282755 0.5 110\n",
      "139 ['JOHN', 'BUY1', 'WHAT', 'GIVE1', 'ARRIVE'] -224.501041632 0.5 110\n",
      "142 ['JOHN', 'BUY', 'YESTERDAY', 'WHAT', 'BOOK'] -181.732720316 0.5 110\n",
      "158 ['LOVE', 'JOHN', 'WHO'] -135.041704785 0.5 110\n",
      "167 ['JOHN', 'IX', 'JOHN', 'LOVE', 'MARY'] -235.895296872 0.5 110\n",
      "171 ['JOHN', 'MARY', 'BLAME'] -160.496701972 0.5 110\n",
      "174 ['JOHN', 'GIVE1', 'GIVE1', 'GO', 'JOHN'] -469.640036889 0.5 110\n",
      "181 ['JOHN', 'ARRIVE'] -232.127072821 0.5 110\n",
      "184 ['IX', 'BOY', 'GIVE1', 'TEACHER', 'GIVE'] -441.50494509 0.5 110\n",
      "189 ['JOHN', 'GIVE', 'JOHN', 'BOX'] -223.915916678 0.5 110\n",
      "193 ['JOHN', 'GIVE', 'JOHN', 'BOX'] -243.27189777 0.5 110\n",
      "199 ['JOHN', 'GIVE1', 'WHO'] -189.695064744 0.5 110\n",
      "201 ['JOHN', 'GIVE', 'IX', 'JOHN', 'BUY', 'HOUSE'] -256.46721907 0.5 110\n",
      "b1: 0.5 b2: 110 method: JointOnly WER: 0.43820224719101125\n",
      "\n",
      "2 ['JOHN', 'GIVE1', 'GIVE1'] -288.960348952 0.5 115\n",
      "7 ['JOHN', 'CAN', 'GO', 'CAN'] -236.732341278 0.5 115\n",
      "12 ['JOHN', 'GIVE1', 'GIVE1', 'CAN'] -193.467928431 0.5 115\n",
      "21 ['JOHN', 'GIVE1', 'GIVE1', 'WHO', 'GIVE1', 'WHAT', 'GIVE1', 'WHO'] -352.753812113 0.5 115\n",
      "25 ['JOHN', 'LIKE', 'IX', 'IX', 'IX'] -203.655820641 0.5 115\n",
      "28 ['JOHN', 'LIKE', 'IX', 'IX', 'IX'] -215.33529958 0.5 115\n",
      "30 ['JOHN', 'LIKE', 'IX', 'IX', 'IX'] -140.888433245 0.5 115\n",
      "36 ['IX', 'VISIT', 'GIVE', 'JOHN', 'LOVE', 'MARY'] -316.204684344 0.5 115\n",
      "40 ['JOHN', 'IX', 'GIVE', 'VISIT', 'MARY'] -215.739243917 0.5 115\n",
      "43 ['JOHN', 'FUTURE', 'BUY', 'HOUSE'] -162.760835559 0.5 115\n",
      "50 ['JOHN', 'SEE', 'GIVE1', 'GIVE1', 'JOHN'] -212.730856032 0.5 115\n",
      "54 ['JOHN', 'FUTURE', 'NOT', 'BUY', 'HOUSE'] -132.037434925 0.5 115\n",
      "57 ['JOHN', 'GO', 'VISIT', 'MARY'] -227.826679885 0.5 115\n",
      "67 ['JOHN', 'FUTURE', 'NOT', 'BUY', 'HOUSE'] -203.923168693 0.5 115\n",
      "71 ['JOHN', 'FUTURE', 'GIVE1', 'MARY'] -207.6677055 0.5 115\n",
      "74 ['JOHN', 'GO', 'VISIT', 'MARY'] -201.726861194 0.5 115\n",
      "77 ['JOHN', 'GIVE1', 'MARY'] -230.80187703 0.5 115\n",
      "84 ['JOHN', 'GIVE1', 'GIVE1', 'GIVE1'] -205.289322551 0.5 115\n",
      "89 ['JOHN', 'GIVE', 'IX', 'IX', 'IX', 'GIVE1', 'ARRIVE'] -572.46115801 0.5 115\n",
      "90 ['JOHN', 'GIVE', 'IX', 'SOMETHING-ONE', 'WOMAN', 'ARRIVE'] -372.814475796 0.5 115\n",
      "92 ['JOHN', 'IX', 'IX', 'IX', 'WOMAN', 'BOOK'] -422.017193687 0.5 115\n",
      "100 ['POSS', 'NEW', 'CAR', 'BREAK-DOWN'] -183.07793867 0.5 115\n",
      "105 ['JOHN', 'FUTURE'] -80.4203574349 0.5 115\n",
      "107 ['JOHN', 'IX', 'JOHN', 'LOVE', 'MARY'] -245.175069115 0.5 115\n",
      "108 ['LOVE', 'MARY'] -177.652815594 0.5 115\n",
      "113 ['IX', 'CAR', 'IX', 'IX', 'IX'] -307.494584344 0.5 115\n",
      "119 ['JOHN', 'BUY1', 'IX', 'JOHN', 'IX'] -242.646137429 0.5 115\n",
      "122 ['JOHN', 'GIVE1', 'BOOK'] -128.657153005 0.5 115\n",
      "139 ['JOHN', 'BUY1', 'WHAT', 'GIVE1', 'ARRIVE'] -226.714735382 0.5 115\n",
      "142 ['JOHN', 'BUY', 'YESTERDAY', 'WHAT', 'BOOK'] -183.569148735 0.5 115\n",
      "158 ['LOVE', 'JOHN', 'WHO'] -137.201958535 0.5 115\n",
      "167 ['JOHN', 'IX', 'JOHN', 'LOVE', 'MARY'] -238.84167411 0.5 115\n",
      "171 ['JOHN', 'MARY', 'BLAME'] -164.112459306 0.5 115\n",
      "174 ['JOHN', 'GIVE1', 'GIVE1', 'GO', 'JOHN'] -472.654363764 0.5 115\n",
      "181 ['JOHN', 'ARRIVE'] -234.252673821 0.5 115\n",
      "184 ['IX', 'BOY', 'GIVE1', 'TEACHER', 'GIVE'] -446.37182139 0.5 115\n",
      "189 ['JOHN', 'GIVE', 'JOHN', 'BOX'] -226.876920035 0.5 115\n",
      "193 ['JOHN', 'GIVE', 'JOHN', 'BOX'] -246.232901128 0.5 115\n",
      "199 ['JOHN', 'GIVE1', 'WHO'] -191.462909494 0.5 115\n",
      "201 ['JOHN', 'GIVE', 'IX', 'JOHN', 'BUY', 'HOUSE'] -259.942187164 0.5 115\n",
      "b1: 0.5 b2: 115 method: JointOnly WER: 0.43820224719101125\n",
      "\n",
      "2 ['JOHN', 'GIVE1', 'GIVE1'] -289.924484369 0.5 120\n",
      "7 ['JOHN', 'CAN', 'GO', 'CAN'] -238.510820492 0.5 120\n",
      "12 ['JOHN', 'GIVE1', 'GIVE1', 'CAN'] -195.69876786 0.5 120\n",
      "21 ['JOHN', 'GIVE1', 'GIVE1', 'WHO', 'GIVE1', 'WHAT', 'GIVE1', 'WHO'] -355.018049704 0.5 120\n",
      "25 ['JOHN', 'LIKE', 'IX', 'IX', 'IX'] -206.160990516 0.5 120\n",
      "28 ['JOHN', 'LIKE', 'IX', 'IX', 'IX'] -217.840469455 0.5 120\n",
      "30 ['JOHN', 'LIKE', 'IX', 'IX', 'IX'] -143.39360312 0.5 120\n",
      "36 ['IX', 'IX', 'IX', 'IX', 'IX', 'IX'] -320.903271461 0.5 120\n",
      "40 ['JOHN', 'IX', 'GIVE', 'VISIT', 'MARY'] -219.062564773 0.5 120\n",
      "43 ['JOHN', 'FUTURE', 'BUY', 'HOUSE'] -165.060420395 0.5 120\n",
      "50 ['JOHN', 'SEE', 'GIVE1', 'GIVE1', 'JOHN'] -215.282584095 0.5 120\n",
      "54 ['JOHN', 'FUTURE', 'NOT', 'BUY', 'HOUSE'] -133.897433531 0.5 120\n",
      "57 ['JOHN', 'GO', 'VISIT', 'MARY'] -230.529090528 0.5 120\n",
      "67 ['JOHN', 'FUTURE', 'NOT', 'BUY', 'HOUSE'] -205.783167299 0.5 120\n",
      "71 ['JOHN', 'FUTURE', 'GIVE1', 'MARY'] -209.829573928 0.5 120\n",
      "74 ['JOHN', 'GO', 'VISIT', 'MARY'] -204.429271837 0.5 120\n",
      "77 ['JOHN', 'GIVE1', 'MARY'] -232.448801864 0.5 120\n",
      "84 ['JOHN', 'GIVE1', 'GIVE1', 'GIVE1'] -206.115724336 0.5 120\n",
      "89 ['JOHN', 'GIVE', 'IX', 'IX', 'IX', 'GIVE1', 'ARRIVE'] -575.72278876 0.5 120\n",
      "90 ['JOHN', 'GIVE', 'IX', 'SOMETHING-ONE', 'WOMAN', 'ARRIVE'] -376.773788796 0.5 120\n",
      "92 ['JOHN', 'IX', 'IX', 'IX', 'WOMAN', 'BOOK'] -425.925009409 0.5 120\n",
      "100 ['POSS', 'NEW', 'CAR', 'BREAK-DOWN'] -186.620697813 0.5 120\n",
      "105 ['JOHN', 'FUTURE'] -82.2317059349 0.5 120\n",
      "107 ['JOHN', 'IX', 'JOHN', 'LOVE', 'MARY'] -248.121446353 0.5 120\n",
      "108 ['LOVE', 'MARY'] -179.722721894 0.5 120\n",
      "113 ['IX', 'CAR', 'IX', 'IX', 'IX'] -311.824843801 0.5 120\n",
      "119 ['JOHN', 'BUY1', 'IX', 'JOHN', 'IX'] -245.778835054 0.5 120\n",
      "122 ['JOHN', 'GIVE1', 'BOOK'] -130.280023255 0.5 120\n",
      "139 ['JOHN', 'BUY1', 'WHAT', 'GIVE1', 'ARRIVE'] -228.928429132 0.5 120\n",
      "142 ['JOHN', 'BUY', 'YESTERDAY', 'WHAT', 'BOOK'] -185.405577154 0.5 120\n",
      "158 ['LOVE', 'JOHN', 'WHO'] -139.362212285 0.5 120\n",
      "167 ['JOHN', 'IX', 'JOHN', 'LOVE', 'MARY'] -241.788051347 0.5 120\n",
      "171 ['JOHN', 'MARY', 'BLAME'] -167.728216639 0.5 120\n",
      "174 ['JOHN', 'GIVE1', 'GIVE1', 'GO', 'JOHN'] -475.668690639 0.5 120\n",
      "181 ['JOHN', 'ARRIVE'] -236.378274821 0.5 120\n",
      "184 ['IX', 'BOY', 'GIVE1', 'TEACHER', 'GIVE'] -451.23869769 0.5 120\n",
      "189 ['JOHN', 'GIVE', 'JOHN', 'BOX'] -229.837923392 0.5 120\n",
      "193 ['JOHN', 'GIVE', 'JOHN', 'BOX'] -249.193904485 0.5 120\n",
      "199 ['JOHN', 'GIVE1', 'WHO'] -193.230754244 0.5 120\n",
      "201 ['JOHN', 'GIVE', 'IX', 'JOHN', 'BUY', 'HOUSE'] -263.417155259 0.5 120\n",
      "b1: 0.5 b2: 120 method: JointOnly WER: 0.43258426966292135\n",
      "\n",
      "2 ['JOHN', 'GIVE1', 'GIVE1'] -290.888619786 0.5 125\n",
      "7 ['JOHN', 'CAN', 'GO', 'CAN'] -240.289299706 0.5 125\n",
      "12 ['JOHN', 'GIVE1', 'GIVE1', 'CAN'] -197.929607288 0.5 125\n",
      "21 ['JOHN', 'GIVE1', 'GIVE1', 'WHO', 'GIVE1', 'WHAT', 'GIVE1', 'WHO'] -357.282287295 0.5 125\n",
      "25 ['JOHN', 'LIKE', 'IX', 'IX', 'IX'] -208.666160391 0.5 125\n",
      "28 ['JOHN', 'LIKE', 'IX', 'IX', 'IX'] -220.34563933 0.5 125\n",
      "30 ['JOHN', 'LIKE', 'IX', 'IX', 'IX'] -145.898772995 0.5 125\n",
      "36 ['IX', 'IX', 'IX', 'IX', 'IX', 'IX'] -324.2993088 0.5 125\n",
      "40 ['JOHN', 'IX', 'GIVE', 'VISIT', 'MARY'] -222.385885629 0.5 125\n",
      "43 ['JOHN', 'FUTURE', 'BUY', 'HOUSE'] -167.360005231 0.5 125\n",
      "50 ['JOHN', 'SEE', 'GIVE1', 'GIVE1', 'JOHN'] -217.834312157 0.5 125\n",
      "54 ['JOHN', 'FUTURE', 'NOT', 'BUY', 'HOUSE'] -135.757432138 0.5 125\n",
      "57 ['JOHN', 'GO', 'VISIT', 'MARY'] -233.231501171 0.5 125\n",
      "67 ['JOHN', 'FUTURE', 'NOT', 'BUY', 'HOUSE'] -207.643165906 0.5 125\n",
      "71 ['JOHN', 'FUTURE', 'GIVE1', 'MARY'] -211.991442357 0.5 125\n",
      "74 ['JOHN', 'GO', 'VISIT', 'MARY'] -207.13168248 0.5 125\n",
      "77 ['JOHN', 'GIVE1', 'MARY'] -234.095726697 0.5 125\n",
      "84 ['JOHN', 'GIVE1', 'GIVE1', 'GIVE1'] -206.942126122 0.5 125\n",
      "89 ['JOHN', 'GIVE', 'IX', 'IX', 'IX', 'GIVE1', 'ARRIVE'] -578.98441951 0.5 125\n",
      "90 ['JOHN', 'GIVE', 'IX', 'SOMETHING-ONE', 'WOMAN', 'ARRIVE'] -380.733101796 0.5 125\n",
      "92 ['JOHN', 'IX', 'IX', 'IX', 'WOMAN', 'BOOK'] -429.832825131 0.5 125\n",
      "100 ['POSS', 'NEW', 'CAR', 'BREAK-DOWN'] -190.163456956 0.5 125\n",
      "105 ['JOHN', 'FUTURE'] -84.0430544349 0.5 125\n",
      "107 ['JOHN', 'IX', 'JOHN', 'LOVE', 'MARY'] -251.06782359 0.5 125\n",
      "108 ['LOVE', 'MARY'] -181.792628194 0.5 125\n",
      "113 ['IX', 'CAR', 'IX', 'IX', 'IX'] -316.155103257 0.5 125\n",
      "119 ['JOHN', 'BUY1', 'IX', 'JOHN', 'IX'] -248.911532679 0.5 125\n",
      "122 ['JOHN', 'GIVE1', 'BOOK'] -131.902893505 0.5 125\n",
      "139 ['JOHN', 'BUY1', 'WHAT', 'GIVE1', 'ARRIVE'] -231.142122882 0.5 125\n",
      "142 ['JOHN', 'BUY', 'YESTERDAY', 'WHAT', 'BOOK'] -187.242005573 0.5 125\n",
      "158 ['LOVE', 'JOHN', 'WHO'] -141.522466035 0.5 125\n",
      "167 ['JOHN', 'IX', 'JOHN', 'LOVE', 'MARY'] -244.734428585 0.5 125\n",
      "171 ['JOHN', 'MARY', 'BLAME'] -171.343973972 0.5 125\n",
      "174 ['JOHN', 'GIVE1', 'GIVE1', 'GO', 'JOHN'] -478.683017514 0.5 125\n",
      "181 ['JOHN', 'ARRIVE'] -238.503875821 0.5 125\n",
      "184 ['IX', 'BOY', 'GIVE1', 'GIVE1', 'IX'] -455.993615192 0.5 125\n",
      "189 ['JOHN', 'GIVE', 'JOHN', 'BOX'] -232.798926749 0.5 125\n",
      "193 ['JOHN', 'GIVE', 'JOHN', 'BOX'] -252.154907842 0.5 125\n",
      "199 ['JOHN', 'GIVE1', 'WHO'] -194.998598994 0.5 125\n",
      "201 ['JOHN', 'GIVE', 'IX', 'JOHN', 'BUY', 'HOUSE'] -266.892123353 0.5 125\n",
      "b1: 0.5 b2: 125 method: JointOnly WER: 0.43820224719101125\n",
      "\n",
      "0.43258426966292135 0.5 120 JointOnly\n"
     ]
    }
   ],
   "source": [
    "#find out the optimal value for beta1, beta2\n",
    "bestTSentWER = 100.0\n",
    "bestBeta1 = 0\n",
    "bestBeta2 = 0\n",
    "testList1 = [0.5]\n",
    "testList2 = [110, 115, 120, 125]\n",
    "methodList = [\"JointOnly\"]\n",
    "WERRecord = []\n",
    "beta1Record = []\n",
    "beta2Record = []\n",
    "\n",
    "for m in methodList:\n",
    "    for b1 in testList1:\n",
    "        for b2 in testList2:\n",
    "            TotalSentProbGuess = evaluateTotalSentenceProb(masterListJSON, test_set, df_probs, lm, \n",
    "                                                           beta1 = b1, beta2 = b2, method = m)\n",
    "            tWER = show_errors(TotalSentProbGuess, test_set, show_answer = False, show_WER = False) \n",
    "            print(\"b1: {} b2: {} method: {} WER: {}\". format(b1, b2, m, tWER) ,end=\"\\n\\n\")\n",
    "            if tWER < bestTSentWER:\n",
    "                bestTSentWER = tWER\n",
    "                bestBeta1 = b1\n",
    "                bestBeta2 = b2\n",
    "                bestMethod = m\n",
    "            WERRecord.append(tWER)\n",
    "            beta1Record.append(b1)\n",
    "            beta2Record.append(b2)\n",
    "\n",
    "print(bestTSentWER, bestBeta1, bestBeta2, m)"
   ]
  },
  {
   "cell_type": "code",
   "execution_count": null,
   "metadata": {
    "collapsed": true,
    "deletable": true,
    "editable": true
   },
   "outputs": [],
   "source": []
  },
  {
   "cell_type": "code",
   "execution_count": 229,
   "metadata": {
    "collapsed": true,
    "deletable": true,
    "editable": true
   },
   "outputs": [],
   "source": [
    "#Moethod 1 lowest\n",
    "#0.46629213483146065 0.5 100\n",
    "#0.47191011235955055 0.1 10 JointAndCondition maxthrehold 10\n",
    "#0.43820224719101125 0.7 100 JointOnly\n",
    "#0.43820224719101125 0.7 100 JointOnly\n",
    "#0.43258426966292135 0.5 120 JointOnly"
   ]
  },
  {
   "cell_type": "code",
   "execution_count": 77,
   "metadata": {
    "collapsed": false,
    "deletable": true,
    "editable": true
   },
   "outputs": [
    {
     "name": "stdout",
     "output_type": "stream",
     "text": [
      "2 ['JOHN', 'GIVE1', 'GIVE1'] -289.924484369 0.5 120\n",
      "7 ['JOHN', 'CAN', 'GO', 'CAN'] -238.510820492 0.5 120\n",
      "12 ['JOHN', 'GIVE1', 'GIVE1', 'CAN'] -195.69876786 0.5 120\n",
      "21 ['JOHN', 'GIVE1', 'GIVE1', 'WHO', 'GIVE1', 'WHAT', 'GIVE1', 'WHO'] -355.018049704 0.5 120\n",
      "25 ['JOHN', 'LIKE', 'IX', 'IX', 'IX'] -206.160990516 0.5 120\n",
      "28 ['JOHN', 'LIKE', 'IX', 'IX', 'IX'] -217.840469455 0.5 120\n",
      "30 ['JOHN', 'LIKE', 'IX', 'IX', 'IX'] -143.39360312 0.5 120\n",
      "36 ['IX', 'IX', 'IX', 'IX', 'IX', 'IX'] -320.903271461 0.5 120\n",
      "40 ['JOHN', 'IX', 'GIVE', 'VISIT', 'MARY'] -219.062564773 0.5 120\n",
      "43 ['JOHN', 'FUTURE', 'BUY', 'HOUSE'] -165.060420395 0.5 120\n",
      "50 ['JOHN', 'SEE', 'GIVE1', 'GIVE1', 'JOHN'] -215.282584095 0.5 120\n",
      "54 ['JOHN', 'FUTURE', 'NOT', 'BUY', 'HOUSE'] -133.897433531 0.5 120\n",
      "57 ['JOHN', 'GO', 'VISIT', 'MARY'] -230.529090528 0.5 120\n",
      "67 ['JOHN', 'FUTURE', 'NOT', 'BUY', 'HOUSE'] -205.783167299 0.5 120\n",
      "71 ['JOHN', 'FUTURE', 'GIVE1', 'MARY'] -209.829573928 0.5 120\n",
      "74 ['JOHN', 'GO', 'VISIT', 'MARY'] -204.429271837 0.5 120\n",
      "77 ['JOHN', 'GIVE1', 'MARY'] -232.448801864 0.5 120\n",
      "84 ['JOHN', 'GIVE1', 'GIVE1', 'GIVE1'] -206.115724336 0.5 120\n",
      "89 ['JOHN', 'GIVE', 'IX', 'IX', 'IX', 'GIVE1', 'ARRIVE'] -575.72278876 0.5 120\n",
      "90 ['JOHN', 'GIVE', 'IX', 'SOMETHING-ONE', 'WOMAN', 'ARRIVE'] -376.773788796 0.5 120\n",
      "92 ['JOHN', 'IX', 'IX', 'IX', 'WOMAN', 'BOOK'] -425.925009409 0.5 120\n",
      "100 ['POSS', 'NEW', 'CAR', 'BREAK-DOWN'] -186.620697813 0.5 120\n",
      "105 ['JOHN', 'FUTURE'] -82.2317059349 0.5 120\n",
      "107 ['JOHN', 'IX', 'JOHN', 'LOVE', 'MARY'] -248.121446353 0.5 120\n",
      "108 ['LOVE', 'MARY'] -179.722721894 0.5 120\n",
      "113 ['IX', 'CAR', 'IX', 'IX', 'IX'] -311.824843801 0.5 120\n",
      "119 ['JOHN', 'BUY1', 'IX', 'JOHN', 'IX'] -245.778835054 0.5 120\n",
      "122 ['JOHN', 'GIVE1', 'BOOK'] -130.280023255 0.5 120\n",
      "139 ['JOHN', 'BUY1', 'WHAT', 'GIVE1', 'ARRIVE'] -228.928429132 0.5 120\n",
      "142 ['JOHN', 'BUY', 'YESTERDAY', 'WHAT', 'BOOK'] -185.405577154 0.5 120\n",
      "158 ['LOVE', 'JOHN', 'WHO'] -139.362212285 0.5 120\n",
      "167 ['JOHN', 'IX', 'JOHN', 'LOVE', 'MARY'] -241.788051347 0.5 120\n",
      "171 ['JOHN', 'MARY', 'BLAME'] -167.728216639 0.5 120\n",
      "174 ['JOHN', 'GIVE1', 'GIVE1', 'GO', 'JOHN'] -475.668690639 0.5 120\n",
      "181 ['JOHN', 'ARRIVE'] -236.378274821 0.5 120\n",
      "184 ['IX', 'BOY', 'GIVE1', 'TEACHER', 'GIVE'] -451.23869769 0.5 120\n",
      "189 ['JOHN', 'GIVE', 'JOHN', 'BOX'] -229.837923392 0.5 120\n",
      "193 ['JOHN', 'GIVE', 'JOHN', 'BOX'] -249.193904485 0.5 120\n",
      "199 ['JOHN', 'GIVE1', 'WHO'] -193.230754244 0.5 120\n",
      "201 ['JOHN', 'GIVE', 'IX', 'JOHN', 'BUY', 'HOUSE'] -263.417155259 0.5 120\n",
      "\n",
      "**** WER = 0.43258426966292135\n",
      "\n",
      "Total correct: 101 out of 178\n",
      "Video  Recognized                                                    Correct\n",
      "=====================================================================================================\n",
      "    2: JOHN *GIVE1 *GIVE1                                            JOHN WRITE HOMEWORK\n",
      "    7: JOHN CAN GO CAN                                               JOHN CAN GO CAN\n",
      "   12: JOHN *GIVE1 *GIVE1 CAN                                        JOHN CAN GO CAN\n",
      "   21: JOHN *GIVE1 *GIVE1 *WHO *GIVE1 *WHAT *GIVE1 *WHO              JOHN FISH WONT EAT BUT CAN EAT CHICKEN\n",
      "   25: JOHN LIKE IX IX IX                                            JOHN LIKE IX IX IX\n",
      "   28: JOHN LIKE IX IX IX                                            JOHN LIKE IX IX IX\n",
      "   30: JOHN LIKE IX IX IX                                            JOHN LIKE IX IX IX\n",
      "   36: *IX *IX *IX IX *IX *IX                                        MARY VEGETABLE KNOW IX LIKE CORN1\n",
      "   40: JOHN IX *GIVE *VISIT *MARY                                    JOHN IX THINK MARY LOVE\n",
      "   43: JOHN *FUTURE BUY HOUSE                                        JOHN MUST BUY HOUSE\n",
      "   50: *JOHN *SEE *GIVE1 *GIVE1 *JOHN                                FUTURE JOHN BUY CAR SHOULD\n",
      "   54: JOHN *FUTURE NOT BUY HOUSE                                    JOHN SHOULD NOT BUY HOUSE\n",
      "   57: JOHN *GO VISIT MARY                                           JOHN DECIDE VISIT MARY\n",
      "   67: JOHN FUTURE NOT BUY HOUSE                                     JOHN FUTURE NOT BUY HOUSE\n",
      "   71: JOHN *FUTURE *GIVE1 MARY                                      JOHN WILL VISIT MARY\n",
      "   74: JOHN *GO VISIT MARY                                           JOHN NOT VISIT MARY\n",
      "   77: *JOHN *GIVE1 MARY                                             ANN BLAME MARY\n",
      "   84: *JOHN *GIVE1 *GIVE1 *GIVE1                                    IX-1P FIND SOMETHING-ONE BOOK\n",
      "   89: JOHN *GIVE *IX *IX IX *GIVE1 *ARRIVE                          JOHN IX GIVE MAN IX NEW COAT\n",
      "   90: JOHN GIVE IX SOMETHING-ONE WOMAN *ARRIVE                      JOHN GIVE IX SOMETHING-ONE WOMAN BOOK\n",
      "   92: JOHN *IX IX *IX WOMAN BOOK                                    JOHN GIVE IX SOMETHING-ONE WOMAN BOOK\n",
      "  100: POSS NEW CAR BREAK-DOWN                                       POSS NEW CAR BREAK-DOWN\n",
      "  105: JOHN *FUTURE                                                  JOHN LEG\n",
      "  107: JOHN *IX *JOHN *LOVE *MARY                                    JOHN POSS FRIEND HAVE CANDY\n",
      "  108: *LOVE *MARY                                                   WOMAN ARRIVE\n",
      "  113: IX CAR *IX *IX *IX                                            IX CAR BLUE SUE BUY\n",
      "  119: *JOHN *BUY1 IX *JOHN *IX                                      SUE BUY IX CAR BLUE\n",
      "  122: JOHN *GIVE1 BOOK                                              JOHN READ BOOK\n",
      "  139: JOHN *BUY1 WHAT *GIVE1 *ARRIVE                                JOHN BUY WHAT YESTERDAY BOOK\n",
      "  142: JOHN BUY YESTERDAY WHAT BOOK                                  JOHN BUY YESTERDAY WHAT BOOK\n",
      "  158: LOVE JOHN WHO                                                 LOVE JOHN WHO\n",
      "  167: JOHN IX *JOHN LOVE MARY                                       JOHN IX SAY LOVE MARY\n",
      "  171: JOHN MARY BLAME                                               JOHN MARY BLAME\n",
      "  174: *JOHN *GIVE1 GIVE1 *GO *JOHN                                  PEOPLE GROUP GIVE1 JANA TOY\n",
      "  181: JOHN ARRIVE                                                   JOHN ARRIVE\n",
      "  184: *IX BOY *GIVE1 TEACHER *GIVE                                  ALL BOY GIVE TEACHER APPLE\n",
      "  189: JOHN GIVE *JOHN BOX                                           JOHN GIVE GIRL BOX\n",
      "  193: JOHN GIVE *JOHN BOX                                           JOHN GIVE GIRL BOX\n",
      "  199: *JOHN *GIVE1 WHO                                              LIKE CHOCOLATE WHO\n",
      "  201: JOHN *GIVE *IX *JOHN BUY HOUSE                                JOHN TELL MARY IX-1P BUY HOUSE\n"
     ]
    }
   ],
   "source": [
    "TotalSentProbGuess = evaluateTotalSentenceProb(masterListJSON, test_set, df_probs, lm, \n",
    "                                               beta1 = bestBeta1, beta2 = bestBeta2, method = bestMethod)\n",
    "tWER = show_errors(TotalSentProbGuess, test_set, show_answer = True, show_WER = True) "
   ]
  },
  {
   "cell_type": "markdown",
   "metadata": {
    "collapsed": false,
    "deletable": true,
    "editable": true
   },
   "source": [
    "## Conclusion for Part III:\n",
    "### Using complete sentence probability together with logL from HMM\n",
    "by using complete sentence LM, together with logL from HMM, we are able to finally achieve a WER as low as 43.2% which is the lowest we have ever seen. We created all the combinations of top guesses from HMM models and see which one comes up with the higest combined score of HMM guesses and LM probabiity. Only the top guesses were considered to avoid wrong guesses. 43.2% is considered very low by student mentor and hence the project was considered completed here."
   ]
  },
  {
   "cell_type": "code",
   "execution_count": 92,
   "metadata": {
    "collapsed": false,
    "deletable": true,
    "editable": true
   },
   "outputs": [
    {
     "data": {
      "text/plain": [
       "-344.61616477373809"
      ]
     },
     "execution_count": 92,
     "metadata": {},
     "output_type": "execute_result"
    }
   ],
   "source": [
    "df_probs.ix[2]['ARRIVE']"
   ]
  },
  {
   "cell_type": "code",
   "execution_count": null,
   "metadata": {
    "collapsed": true,
    "deletable": true,
    "editable": true
   },
   "outputs": [],
   "source": [
    "\"\"\"\n",
    "#Calculate the weighted logL between single word HMM model and conditional prob of LM\n",
    "\n",
    "def recognize_ngrams2(test_set, df_probs, ModelNGram = models_3G, beta = 1.0):\n",
    "    bestGuessWordList = []\n",
    "\n",
    "    for si in test_set.sentences_index: #loop thru all sentences: [0, 1, 2], [3, 4, 5, 6]\n",
    "        tempSentenceWord = []\n",
    "        for i in range(len(test_set.sentences_index[si])):\n",
    "            # Step 1: contruct prior string\n",
    "            prior_str = \"\"\n",
    "            if i == 0: #beginning of sentense\n",
    "                prior_str = \"<s>\" \n",
    "            elif i > 0 and i < len(test_set.sentences_index[si]):\n",
    "                for tw in tempSentenceWord[-3:]:\n",
    "                    prior_str = prior_str + \" \" + tw\n",
    "\n",
    "            # Step 2: extract the unigram prob logL\n",
    "            word_index = test_set.sentences_index[si][i]\n",
    "            truth_word = test_set.wordlist[word_index] #for debugging only!\n",
    "\n",
    "            zeroG_logL = float(\"-Inf\")\n",
    "            uniG_logL = 1e-99\n",
    "            bestTotalLogL = float(\"-Inf\")\n",
    "            bestWord = \"\"\n",
    "            for cand_index in range(len(df_probs.columns)):\n",
    "                cand_word = df_probs.columns[cand_index]\n",
    "                zeroG_logL = df_probs.ix[word_index][cand_index] #read logL from table\n",
    "                \n",
    "                uniG_cond_logL = 1e-99\n",
    "                ＃？？？？？\n",
    "                try:\n",
    "                    uniG_cond_logL = ModelNGram[0].log_p(prior_str + \" \" + cand_word)\n",
    "                except:\n",
    "                    #print(\"NOT FOUND:\" + prior_str + \" \" + cand_word + \"\")\n",
    "                    pass\n",
    "                \n",
    "                pri_prob = 1e-99\n",
    "                for tw in tempSentenceWord[-3:]:    \n",
    "                    try:\n",
    "                        pri_prob = pri_prob + ModelNGram[0].log_p(tw)\n",
    "                    except:\n",
    "                        pass\n",
    "                    \n",
    "                uniG_logL = (uniG_cond_logL + pri_prob)/(len(tempSentenceWord) + 1)\n",
    "\n",
    "                total_logL = zeroG_logL + beta * uniG_logL\n",
    "\n",
    "                if total_logL > bestTotalLogL:\n",
    "                    bestTotalLogL = total_logL\n",
    "                    bestWord = cand_word\n",
    "\n",
    "                #print(truth_word, cand_word, prior_str, total_logL)\n",
    "\n",
    "            # finished one word   \n",
    "            #print(truth_word, bestWord)\n",
    "            bestGuessWordList.append(bestWord)\n",
    "            tempSentenceWord.append(bestWord)\n",
    "\n",
    "            #print()\n",
    "\n",
    "        #print()\n",
    "    return bestGuessWordList\n",
    "\"\"\""
   ]
  }
 ],
 "metadata": {
  "anaconda-cloud": {},
  "kernelspec": {
   "display_name": "Python 3",
   "language": "python",
   "name": "python3"
  },
  "language_info": {
   "codemirror_mode": {
    "name": "ipython",
    "version": 3
   },
   "file_extension": ".py",
   "mimetype": "text/x-python",
   "name": "python",
   "nbconvert_exporter": "python",
   "pygments_lexer": "ipython3",
   "version": "3.6.0"
  },
  "nbpresent": {
   "slides": {
    "0a2d4faf-9fb8-4cee-853b-ed68b90f3f8a": {
     "id": "0a2d4faf-9fb8-4cee-853b-ed68b90f3f8a",
     "prev": null,
     "regions": {
      "3fb9ce83-fbb2-4995-832a-f8f400734ad3": {
       "attrs": {
        "height": 0.8,
        "width": 0.8,
        "x": 0.1,
        "y": 0.1
       },
       "content": {
        "cell": "1dbb9346-179b-4835-b430-6369d88f1a1b",
        "part": "whole"
       },
       "id": "3fb9ce83-fbb2-4995-832a-f8f400734ad3"
      }
     }
    },
    "1519a4fa-1588-4644-98de-9c43bf0aceb5": {
     "id": "1519a4fa-1588-4644-98de-9c43bf0aceb5",
     "prev": "8a712017-49b7-449f-8264-43a032ace902",
     "regions": {
      "29546121-ed11-44b7-8144-0c44e874098f": {
       "attrs": {
        "height": 0.8,
        "width": 0.8,
        "x": 0.1,
        "y": 0.1
       },
       "content": {
        "cell": "365590a4-6963-4812-a1cf-688f7b6bb9ff",
        "part": "whole"
       },
       "id": "29546121-ed11-44b7-8144-0c44e874098f"
      }
     }
    },
    "176eaccb-15dd-455d-bf07-504213e7aa01": {
     "id": "176eaccb-15dd-455d-bf07-504213e7aa01",
     "prev": "de6b30f4-2463-4901-92ed-aabad78e5e0f",
     "regions": {
      "1542aa9e-dc55-4b90-adef-bf5181872b42": {
       "attrs": {
        "height": 0.8,
        "width": 0.8,
        "x": 0.1,
        "y": 0.1
       },
       "content": {
        "cell": "5c242050-c1f7-4b3b-8103-2ea9d71a40dc",
        "part": "whole"
       },
       "id": "1542aa9e-dc55-4b90-adef-bf5181872b42"
      }
     }
    },
    "19091b36-b0e7-49b1-b501-ec05937e0da9": {
     "id": "19091b36-b0e7-49b1-b501-ec05937e0da9",
     "prev": "1983c02e-fb99-4c05-a728-e0c0ad7c06d8",
     "regions": {
      "6529a31c-8d45-425c-b1d7-d0ac6fca6a32": {
       "attrs": {
        "height": 0.8,
        "width": 0.8,
        "x": 0.1,
        "y": 0.1
       },
       "content": {
        "cell": "e766909d-9421-4aaf-9fb1-bc90d27e49e3",
        "part": "whole"
       },
       "id": "6529a31c-8d45-425c-b1d7-d0ac6fca6a32"
      }
     }
    },
    "1983c02e-fb99-4c05-a728-e0c0ad7c06d8": {
     "id": "1983c02e-fb99-4c05-a728-e0c0ad7c06d8",
     "prev": "176eaccb-15dd-455d-bf07-504213e7aa01",
     "regions": {
      "1c4e605d-7f22-4f30-b3fb-74b2937e7a4a": {
       "attrs": {
        "height": 0.8,
        "width": 0.8,
        "x": 0.1,
        "y": 0.1
       },
       "content": {
        "cell": "4d217204-e5c0-4568-bd30-12c2e41b681d",
        "part": "whole"
       },
       "id": "1c4e605d-7f22-4f30-b3fb-74b2937e7a4a"
      }
     }
    },
    "212b111f-4527-459c-8297-1db5580ee5c9": {
     "id": "212b111f-4527-459c-8297-1db5580ee5c9",
     "prev": "76898529-e49e-4663-8d02-8261dfe1d94b",
     "regions": {
      "2e4bd280-3cd6-47d0-9c81-17737b24053b": {
       "attrs": {
        "height": 0.8,
        "width": 0.8,
        "x": 0.1,
        "y": 0.1
       },
       "content": {
        "cell": "0c316996-9933-4b3d-82ec-259518dc8bc9",
        "part": "whole"
       },
       "id": "2e4bd280-3cd6-47d0-9c81-17737b24053b"
      }
     }
    },
    "23a7337f-a0cf-4ed4-baa9-ec06bfdc0579": {
     "id": "23a7337f-a0cf-4ed4-baa9-ec06bfdc0579",
     "prev": "e76e9a02-54c1-4ec9-80fb-c611ed398122",
     "regions": {
      "b5721d20-d6f8-4ddb-a5aa-eb16f0cc8893": {
       "attrs": {
        "height": 0.8,
        "width": 0.8,
        "x": 0.1,
        "y": 0.1
       },
       "content": {
        "cell": "313015a2-b5a9-4136-a8ea-5d011e47d840",
        "part": "whole"
       },
       "id": "b5721d20-d6f8-4ddb-a5aa-eb16f0cc8893"
      }
     }
    },
    "732f1952-ee54-46fb-8067-099512824296": {
     "id": "732f1952-ee54-46fb-8067-099512824296",
     "prev": "0a2d4faf-9fb8-4cee-853b-ed68b90f3f8a",
     "regions": {
      "f31d4597-08ad-4c46-ad52-4bd2d775c624": {
       "attrs": {
        "height": 0.8,
        "width": 0.8,
        "x": 0.1,
        "y": 0.1
       },
       "content": {
        "cell": "aadfec52-27ca-4541-8920-fa9253d51827",
        "part": "whole"
       },
       "id": "f31d4597-08ad-4c46-ad52-4bd2d775c624"
      }
     }
    },
    "76898529-e49e-4663-8d02-8261dfe1d94b": {
     "id": "76898529-e49e-4663-8d02-8261dfe1d94b",
     "prev": "19091b36-b0e7-49b1-b501-ec05937e0da9",
     "regions": {
      "ec1746fc-aec9-4a7c-8225-9e9ac8d45889": {
       "attrs": {
        "height": 0.8,
        "width": 0.8,
        "x": 0.1,
        "y": 0.1
       },
       "content": {
        "cell": "b3e539be-84e2-49ce-a183-31cfc5c7ce7c",
        "part": "whole"
       },
       "id": "ec1746fc-aec9-4a7c-8225-9e9ac8d45889"
      }
     }
    },
    "8a712017-49b7-449f-8264-43a032ace902": {
     "id": "8a712017-49b7-449f-8264-43a032ace902",
     "prev": "bed9e696-630e-4747-be1c-bc3737ba992f",
     "regions": {
      "1faab517-cd16-4c63-bb01-a67246749d7a": {
       "attrs": {
        "height": 0.8,
        "width": 0.8,
        "x": 0.1,
        "y": 0.1
       },
       "content": {
        "cell": "3f14ddf0-4145-4687-9c33-712c3c32520f",
        "part": "whole"
       },
       "id": "1faab517-cd16-4c63-bb01-a67246749d7a"
      }
     }
    },
    "90af992d-eb6d-4496-b2d2-6aa9a95b6a61": {
     "id": "90af992d-eb6d-4496-b2d2-6aa9a95b6a61",
     "prev": "732f1952-ee54-46fb-8067-099512824296",
     "regions": {
      "4f448bec-5be9-4553-88ae-e35ed7612f25": {
       "attrs": {
        "height": 0.8,
        "width": 0.8,
        "x": 0.1,
        "y": 0.1
       },
       "content": {
        "cell": "c445fbfb-b8ab-4e9a-8d13-12231a1c588f",
        "part": "whole"
       },
       "id": "4f448bec-5be9-4553-88ae-e35ed7612f25"
      }
     }
    },
    "bed9e696-630e-4747-be1c-bc3737ba992f": {
     "id": "bed9e696-630e-4747-be1c-bc3737ba992f",
     "prev": "23a7337f-a0cf-4ed4-baa9-ec06bfdc0579",
     "regions": {
      "ac1513f0-404f-492b-8b42-0313e9a753b0": {
       "attrs": {
        "height": 0.8,
        "width": 0.8,
        "x": 0.1,
        "y": 0.1
       },
       "content": {
        "cell": "18dd2eee-8b6c-4a5e-9539-132d00a7c7e1",
        "part": "whole"
       },
       "id": "ac1513f0-404f-492b-8b42-0313e9a753b0"
      }
     }
    },
    "de6b30f4-2463-4901-92ed-aabad78e5e0f": {
     "id": "de6b30f4-2463-4901-92ed-aabad78e5e0f",
     "prev": "e36b4639-be8c-46f7-a8c9-bcfb134f9fd0",
     "regions": {
      "55ec36e0-362f-4fd3-8060-7cee056039aa": {
       "attrs": {
        "height": 0.8,
        "width": 0.8,
        "x": 0.1,
        "y": 0.1
       },
       "content": {
        "cell": "c3cf461e-4c9e-4dec-99d2-07bfa79cbe23",
        "part": "whole"
       },
       "id": "55ec36e0-362f-4fd3-8060-7cee056039aa"
      }
     }
    },
    "e36b4639-be8c-46f7-a8c9-bcfb134f9fd0": {
     "id": "e36b4639-be8c-46f7-a8c9-bcfb134f9fd0",
     "prev": "1519a4fa-1588-4644-98de-9c43bf0aceb5",
     "regions": {
      "4c1e9714-9ba0-45fd-8a2f-ef80a5c85c2e": {
       "attrs": {
        "height": 0.8,
        "width": 0.8,
        "x": 0.1,
        "y": 0.1
       },
       "content": {
        "cell": "6534d4dc-125f-47e6-a022-cf1e0d277174",
        "part": "whole"
       },
       "id": "4c1e9714-9ba0-45fd-8a2f-ef80a5c85c2e"
      }
     }
    },
    "e76e9a02-54c1-4ec9-80fb-c611ed398122": {
     "id": "e76e9a02-54c1-4ec9-80fb-c611ed398122",
     "prev": "90af992d-eb6d-4496-b2d2-6aa9a95b6a61",
     "regions": {
      "9491b84d-193b-40ff-9321-d21eb1ba88d4": {
       "attrs": {
        "height": 0.8,
        "width": 0.8,
        "x": 0.1,
        "y": 0.1
       },
       "content": {
        "cell": "b64ec10e-fa9d-4f3f-907f-6799611ed6b1",
        "part": "whole"
       },
       "id": "9491b84d-193b-40ff-9321-d21eb1ba88d4"
      }
     }
    }
   },
   "themes": {}
  }
 },
 "nbformat": 4,
 "nbformat_minor": 1
}
